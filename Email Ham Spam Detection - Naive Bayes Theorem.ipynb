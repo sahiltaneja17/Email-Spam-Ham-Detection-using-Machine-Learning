{
 "cells": [
  {
   "cell_type": "code",
   "execution_count": 4,
   "metadata": {},
   "outputs": [],
   "source": [
    "import pandas as pd\n",
    "import numpy as np\n",
    "from sklearn.feature_extraction.text import CountVectorizer,TfidfTransformer\n",
    "from sklearn.naive_bayes import MultinomialNB\n",
    "from textblob import TextBlob\n",
    "from sklearn.metrics import classification_report, f1_score, accuracy_score, confusion_matrix"
   ]
  },
  {
   "cell_type": "code",
   "execution_count": 11,
   "metadata": {},
   "outputs": [
    {
     "data": {
      "text/html": [
       "<div>\n",
       "<style scoped>\n",
       "    .dataframe tbody tr th:only-of-type {\n",
       "        vertical-align: middle;\n",
       "    }\n",
       "\n",
       "    .dataframe tbody tr th {\n",
       "        vertical-align: top;\n",
       "    }\n",
       "\n",
       "    .dataframe thead th {\n",
       "        text-align: right;\n",
       "    }\n",
       "</style>\n",
       "<table border=\"1\" class=\"dataframe\">\n",
       "  <thead>\n",
       "    <tr style=\"text-align: right;\">\n",
       "      <th></th>\n",
       "      <th>label</th>\n",
       "      <th>message</th>\n",
       "    </tr>\n",
       "  </thead>\n",
       "  <tbody>\n",
       "    <tr>\n",
       "      <th>0</th>\n",
       "      <td>ham</td>\n",
       "      <td>Go until jurong point, crazy.. Available only ...</td>\n",
       "    </tr>\n",
       "    <tr>\n",
       "      <th>1</th>\n",
       "      <td>ham</td>\n",
       "      <td>Ok lar... Joking wif u oni...</td>\n",
       "    </tr>\n",
       "    <tr>\n",
       "      <th>2</th>\n",
       "      <td>spam</td>\n",
       "      <td>Free entry in 2 a wkly comp to win FA Cup fina...</td>\n",
       "    </tr>\n",
       "    <tr>\n",
       "      <th>3</th>\n",
       "      <td>ham</td>\n",
       "      <td>U dun say so early hor... U c already then say...</td>\n",
       "    </tr>\n",
       "    <tr>\n",
       "      <th>4</th>\n",
       "      <td>ham</td>\n",
       "      <td>Nah I don't think he goes to usf, he lives aro...</td>\n",
       "    </tr>\n",
       "  </tbody>\n",
       "</table>\n",
       "</div>"
      ],
      "text/plain": [
       "  label                                            message\n",
       "0   ham  Go until jurong point, crazy.. Available only ...\n",
       "1   ham                      Ok lar... Joking wif u oni...\n",
       "2  spam  Free entry in 2 a wkly comp to win FA Cup fina...\n",
       "3   ham  U dun say so early hor... U c already then say...\n",
       "4   ham  Nah I don't think he goes to usf, he lives aro..."
      ]
     },
     "execution_count": 11,
     "metadata": {},
     "output_type": "execute_result"
    }
   ],
   "source": [
    "data = pd.read_csv('D:\\\\Analytics\\\\Python ML\\\\Naive Bayes\\\\SMSSpamDataset',sep='\\t',names=[\"label\", \"message\"])\n",
    "data.head()"
   ]
  },
  {
   "cell_type": "code",
   "execution_count": 13,
   "metadata": {},
   "outputs": [
    {
     "data": {
      "text/plain": [
       "(5572, 2)"
      ]
     },
     "execution_count": 13,
     "metadata": {},
     "output_type": "execute_result"
    }
   ],
   "source": [
    "data.shape"
   ]
  },
  {
   "cell_type": "code",
   "execution_count": 14,
   "metadata": {},
   "outputs": [
    {
     "data": {
      "text/html": [
       "<div>\n",
       "<style scoped>\n",
       "    .dataframe tbody tr th:only-of-type {\n",
       "        vertical-align: middle;\n",
       "    }\n",
       "\n",
       "    .dataframe tbody tr th {\n",
       "        vertical-align: top;\n",
       "    }\n",
       "\n",
       "    .dataframe thead th {\n",
       "        text-align: right;\n",
       "    }\n",
       "</style>\n",
       "<table border=\"1\" class=\"dataframe\">\n",
       "  <thead>\n",
       "    <tr style=\"text-align: right;\">\n",
       "      <th></th>\n",
       "      <th>label</th>\n",
       "      <th>message</th>\n",
       "    </tr>\n",
       "  </thead>\n",
       "  <tbody>\n",
       "    <tr>\n",
       "      <th>count</th>\n",
       "      <td>5572</td>\n",
       "      <td>5572</td>\n",
       "    </tr>\n",
       "    <tr>\n",
       "      <th>unique</th>\n",
       "      <td>2</td>\n",
       "      <td>5169</td>\n",
       "    </tr>\n",
       "    <tr>\n",
       "      <th>top</th>\n",
       "      <td>ham</td>\n",
       "      <td>Sorry, I'll call later</td>\n",
       "    </tr>\n",
       "    <tr>\n",
       "      <th>freq</th>\n",
       "      <td>4825</td>\n",
       "      <td>30</td>\n",
       "    </tr>\n",
       "  </tbody>\n",
       "</table>\n",
       "</div>"
      ],
      "text/plain": [
       "       label                 message\n",
       "count   5572                    5572\n",
       "unique     2                    5169\n",
       "top      ham  Sorry, I'll call later\n",
       "freq    4825                      30"
      ]
     },
     "execution_count": 14,
     "metadata": {},
     "output_type": "execute_result"
    }
   ],
   "source": [
    "data.describe()"
   ]
  },
  {
   "cell_type": "code",
   "execution_count": 17,
   "metadata": {
    "scrolled": true
   },
   "outputs": [
    {
     "data": {
      "text/html": [
       "<div>\n",
       "<style scoped>\n",
       "    .dataframe tbody tr th:only-of-type {\n",
       "        vertical-align: middle;\n",
       "    }\n",
       "\n",
       "    .dataframe tbody tr th {\n",
       "        vertical-align: top;\n",
       "    }\n",
       "\n",
       "    .dataframe thead tr th {\n",
       "        text-align: left;\n",
       "    }\n",
       "\n",
       "    .dataframe thead tr:last-of-type th {\n",
       "        text-align: right;\n",
       "    }\n",
       "</style>\n",
       "<table border=\"1\" class=\"dataframe\">\n",
       "  <thead>\n",
       "    <tr>\n",
       "      <th></th>\n",
       "      <th colspan=\"4\" halign=\"left\">message</th>\n",
       "    </tr>\n",
       "    <tr>\n",
       "      <th></th>\n",
       "      <th>count</th>\n",
       "      <th>unique</th>\n",
       "      <th>top</th>\n",
       "      <th>freq</th>\n",
       "    </tr>\n",
       "    <tr>\n",
       "      <th>label</th>\n",
       "      <th></th>\n",
       "      <th></th>\n",
       "      <th></th>\n",
       "      <th></th>\n",
       "    </tr>\n",
       "  </thead>\n",
       "  <tbody>\n",
       "    <tr>\n",
       "      <th>ham</th>\n",
       "      <td>4825</td>\n",
       "      <td>4516</td>\n",
       "      <td>Sorry, I'll call later</td>\n",
       "      <td>30</td>\n",
       "    </tr>\n",
       "    <tr>\n",
       "      <th>spam</th>\n",
       "      <td>747</td>\n",
       "      <td>653</td>\n",
       "      <td>Please call our customer service representativ...</td>\n",
       "      <td>4</td>\n",
       "    </tr>\n",
       "  </tbody>\n",
       "</table>\n",
       "</div>"
      ],
      "text/plain": [
       "      message                                                               \n",
       "        count unique                                                top freq\n",
       "label                                                                       \n",
       "ham      4825   4516                             Sorry, I'll call later   30\n",
       "spam      747    653  Please call our customer service representativ...    4"
      ]
     },
     "execution_count": 17,
     "metadata": {},
     "output_type": "execute_result"
    }
   ],
   "source": [
    "data.groupby('label').describe()"
   ]
  },
  {
   "cell_type": "code",
   "execution_count": 19,
   "metadata": {},
   "outputs": [
    {
     "data": {
      "text/plain": [
       "0     ham\n",
       "1     ham\n",
       "2    spam\n",
       "3     ham\n",
       "4     ham\n",
       "Name: label, dtype: object"
      ]
     },
     "execution_count": 19,
     "metadata": {},
     "output_type": "execute_result"
    }
   ],
   "source": [
    "data['label'].head()"
   ]
  },
  {
   "cell_type": "code",
   "execution_count": 20,
   "metadata": {},
   "outputs": [],
   "source": [
    "# Power of textblob\n",
    "# writing a function to split the words. To define it as tokens\n",
    "\n",
    "def split_into_tokens(message):\n",
    "    message = str(message)\n",
    "    return TextBlob(message).words"
   ]
  },
  {
   "cell_type": "code",
   "execution_count": 23,
   "metadata": {},
   "outputs": [
    {
     "data": {
      "text/plain": [
       "0    Go until jurong point, crazy.. Available only ...\n",
       "1                        Ok lar... Joking wif u oni...\n",
       "2    Free entry in 2 a wkly comp to win FA Cup fina...\n",
       "3    U dun say so early hor... U c already then say...\n",
       "4    Nah I don't think he goes to usf, he lives aro...\n",
       "Name: message, dtype: object"
      ]
     },
     "execution_count": 23,
     "metadata": {},
     "output_type": "execute_result"
    }
   ],
   "source": [
    "#data.message.head()\n",
    "data['message'].head()"
   ]
  },
  {
   "cell_type": "code",
   "execution_count": 31,
   "metadata": {},
   "outputs": [
    {
     "data": {
      "text/plain": [
       "0       [Go, until, jurong, point, crazy, Available, o...\n",
       "1                          [Ok, lar, Joking, wif, u, oni]\n",
       "2       [Free, entry, in, 2, a, wkly, comp, to, win, F...\n",
       "3       [U, dun, say, so, early, hor, U, c, already, t...\n",
       "4       [Nah, I, do, n't, think, he, goes, to, usf, he...\n",
       "5       [FreeMsg, Hey, there, darling, it, 's, been, 3...\n",
       "6       [Even, my, brother, is, not, like, to, speak, ...\n",
       "7       [As, per, your, request, 'Melle, Melle, Oru, M...\n",
       "8       [WINNER, As, a, valued, network, customer, you...\n",
       "9       [Had, your, mobile, 11, months, or, more, U, R...\n",
       "10      [I, 'm, gon, na, be, home, soon, and, i, do, n...\n",
       "11      [SIX, chances, to, win, CASH, From, 100, to, 2...\n",
       "12      [URGENT, You, have, won, a, 1, week, FREE, mem...\n",
       "13      [I, 've, been, searching, for, the, right, wor...\n",
       "14             [I, HAVE, A, DATE, ON, SUNDAY, WITH, WILL]\n",
       "15      [XXXMobileMovieClub, To, use, your, credit, cl...\n",
       "16                         [Oh, k, i, 'm, watching, here]\n",
       "17      [Eh, u, remember, how, 2, spell, his, name, Ye...\n",
       "18      [Fine, if, thats, the, way, u, feel, Thats, ...\n",
       "19      [England, v, Macedonia, dont, miss, the, goals...\n",
       "20      [Is, that, seriously, how, you, spell, his, name]\n",
       "21      [I, ‘, m, going, to, try, for, 2, months, ha, ...\n",
       "22      [So, ü, pay, first, lar, Then, when, is, da, s...\n",
       "23      [Aft, i, finish, my, lunch, then, i, go, str, ...\n",
       "24      [Ffffffffff, Alright, no, way, I, can, meet, u...\n",
       "25      [Just, forced, myself, to, eat, a, slice, I, '...\n",
       "26                    [Lol, your, always, so, convincing]\n",
       "27      [Did, you, catch, the, bus, Are, you, frying, ...\n",
       "28      [I, 'm, back, amp, we, 're, packing, the, car,...\n",
       "29      [Ahhh, Work, I, vaguely, remember, that, What,...\n",
       "                              ...                        \n",
       "5542    [Armand, says, get, your, ass, over, to, epsilon]\n",
       "5543       [U, still, havent, got, urself, a, jacket, ah]\n",
       "5544    [I, 'm, taking, derek, amp, taylor, to, walmar...\n",
       "5545    [Hi, its, in, durban, are, you, still, on, thi...\n",
       "5546    [Ic, There, are, a, lotta, childporn, cars, then]\n",
       "5547    [Had, your, contract, mobile, 11, Mnths, Lates...\n",
       "5548            [No, I, was, trying, it, all, weekend, V]\n",
       "5549    [You, know, wot, people, wear, T, shirts, jump...\n",
       "5550    [Cool, what, time, you, think, you, can, get, ...\n",
       "5551    [Wen, did, you, get, so, spiritual, and, deep,...\n",
       "5552    [Have, a, safe, trip, to, Nigeria, Wish, you, ...\n",
       "5553                     [Hahaha..use, your, brain, dear]\n",
       "5554    [Well, keep, in, mind, I, 've, only, got, enou...\n",
       "5555    [Yeh, Indians, was, nice, Tho, it, did, kane, ...\n",
       "5556    [Yes, i, have, So, that, 's, why, u, texted, P...\n",
       "5557    [No, I, meant, the, calculation, is, the, same...\n",
       "5558                         [Sorry, I, 'll, call, later]\n",
       "5559    [if, you, are, n't, here, in, the, next, lt, g...\n",
       "5560              [Anything, lor, Juz, both, of, us, lor]\n",
       "5561    [Get, me, out, of, this, dump, heap, My, mom, ...\n",
       "5562    [Ok, lor, Sony, ericsson, salesman, I, ask, sh...\n",
       "5563                             [Ard, 6, like, dat, lor]\n",
       "5564    [Why, do, n't, you, wait, 'til, at, least, wed...\n",
       "5565                                        [Huh, y, lei]\n",
       "5566    [REMINDER, FROM, O2, To, get, 2.50, pounds, fr...\n",
       "5567    [This, is, the, 2nd, time, we, have, tried, 2,...\n",
       "5568         [Will, ü, b, going, to, esplanade, fr, home]\n",
       "5569    [Pity, was, in, mood, for, that, So, any, othe...\n",
       "5570    [The, guy, did, some, bitching, but, I, acted,...\n",
       "5571                     [Rofl, Its, true, to, its, name]\n",
       "Name: message, Length: 5572, dtype: object"
      ]
     },
     "execution_count": 31,
     "metadata": {},
     "output_type": "execute_result"
    }
   ],
   "source": [
    "#applying the split_into_tokens() - function to message column\n",
    "data['message'].apply(split_into_tokens)"
   ]
  },
  {
   "cell_type": "code",
   "execution_count": 32,
   "metadata": {},
   "outputs": [
    {
     "data": {
      "text/plain": [
       "0    [Go, until, jurong, point, crazy, Available, o...\n",
       "1                       [Ok, lar, Joking, wif, u, oni]\n",
       "2    [Free, entry, in, 2, a, wkly, comp, to, win, F...\n",
       "3    [U, dun, say, so, early, hor, U, c, already, t...\n",
       "4    [Nah, I, do, n't, think, he, goes, to, usf, he...\n",
       "Name: message, dtype: object"
      ]
     },
     "execution_count": 32,
     "metadata": {},
     "output_type": "execute_result"
    }
   ],
   "source": [
    "data['message'].apply(split_into_tokens).head()"
   ]
  },
  {
   "cell_type": "code",
   "execution_count": 54,
   "metadata": {},
   "outputs": [
    {
     "data": {
      "text/plain": [
       "[('Hello', 'NNP'),\n",
       " ('world', 'NN'),\n",
       " ('how', 'WRB'),\n",
       " ('is', 'VBZ'),\n",
       " ('it', 'PRP'),\n",
       " ('going', 'VBG')]"
      ]
     },
     "execution_count": 54,
     "metadata": {},
     "output_type": "execute_result"
    }
   ],
   "source": [
    "#For example a sentence with pos\n",
    "TextBlob(\"Hello world, how is it going?\").tags"
   ]
  },
  {
   "cell_type": "code",
   "execution_count": 53,
   "metadata": {},
   "outputs": [
    {
     "data": {
      "text/plain": [
       "[('0', 'CD'),\n",
       " ('Go', 'NNP'),\n",
       " ('until', 'IN'),\n",
       " ('jurong', 'JJ'),\n",
       " ('point', 'NN'),\n",
       " ('crazy..', 'NN'),\n",
       " ('Available', 'JJ'),\n",
       " ('only', 'RB'),\n",
       " ('1', 'CD'),\n",
       " ('Ok', 'NNP'),\n",
       " ('lar', 'NN'),\n",
       " ('Joking', 'VBG'),\n",
       " ('wif', 'NN'),\n",
       " ('u', 'JJ'),\n",
       " ('oni', 'NN'),\n",
       " ('Name', 'NN'),\n",
       " ('message', 'NN'),\n",
       " ('dtype', 'NN'),\n",
       " ('object', 'NN')]"
      ]
     },
     "execution_count": 53,
     "metadata": {},
     "output_type": "execute_result"
    }
   ],
   "source": [
    "TextBlob(str(data['message'].head(2))).tags"
   ]
  },
  {
   "cell_type": "code",
   "execution_count": 55,
   "metadata": {},
   "outputs": [],
   "source": [
    "# function to split words depending on lemmas\n",
    "def split_into_lemmas(message):\n",
    "    message = str(message).lower()\n",
    "    words = TextBlob(message).words\n",
    "    # for each word, take its \"base form\" = lemma\n",
    "    return [each_word.lemma for each_word in words]\n",
    "\n",
    "#Better. You can probably think of many more ways to improve the preprocessing: decoding HTML entities (those &amp;\n",
    "#and &lt; we saw above); filtering out stop words (pronouns etc); adding more features, \n",
    "#such as an word-in-all-caps indicator and so on."
   ]
  },
  {
   "cell_type": "code",
   "execution_count": 56,
   "metadata": {},
   "outputs": [
    {
     "data": {
      "text/plain": [
       "0       [go, until, jurong, point, crazy, available, o...\n",
       "1                          [ok, lar, joking, wif, u, oni]\n",
       "2       [free, entry, in, 2, a, wkly, comp, to, win, f...\n",
       "3       [u, dun, say, so, early, hor, u, c, already, t...\n",
       "4       [nah, i, do, n't, think, he, go, to, usf, he, ...\n",
       "5       [freemsg, hey, there, darling, it, 's, been, 3...\n",
       "6       [even, my, brother, is, not, like, to, speak, ...\n",
       "7       [a, per, your, request, 'melle, melle, oru, mi...\n",
       "8       [winner, a, a, valued, network, customer, you,...\n",
       "9       [had, your, mobile, 11, month, or, more, u, r,...\n",
       "10      [i, 'm, gon, na, be, home, soon, and, i, do, n...\n",
       "11      [six, chance, to, win, cash, from, 100, to, 20...\n",
       "12      [urgent, you, have, won, a, 1, week, free, mem...\n",
       "13      [i, 've, been, searching, for, the, right, wor...\n",
       "14             [i, have, a, date, on, sunday, with, will]\n",
       "15      [xxxmobilemovieclub, to, use, your, credit, cl...\n",
       "16                         [oh, k, i, 'm, watching, here]\n",
       "17      [eh, u, remember, how, 2, spell, his, name, ye...\n",
       "18      [fine, if, thats, the, way, u, feel, thats, ...\n",
       "19      [england, v, macedonia, dont, miss, the, goals...\n",
       "20      [is, that, seriously, how, you, spell, his, name]\n",
       "21      [i, ‘, m, going, to, try, for, 2, month, ha, h...\n",
       "22      [so, ü, pay, first, lar, then, when, is, da, s...\n",
       "23      [aft, i, finish, my, lunch, then, i, go, str, ...\n",
       "24      [ffffffffff, alright, no, way, i, can, meet, u...\n",
       "25      [just, forced, myself, to, eat, a, slice, i, '...\n",
       "26                    [lol, your, always, so, convincing]\n",
       "27      [did, you, catch, the, bus, are, you, frying, ...\n",
       "28      [i, 'm, back, amp, we, 're, packing, the, car,...\n",
       "29      [ahhh, work, i, vaguely, remember, that, what,...\n",
       "                              ...                        \n",
       "5542      [armand, say, get, your, as, over, to, epsilon]\n",
       "5543       [u, still, havent, got, urself, a, jacket, ah]\n",
       "5544    [i, 'm, taking, derek, amp, taylor, to, walmar...\n",
       "5545    [hi, it, in, durban, are, you, still, on, this...\n",
       "5546     [ic, there, are, a, lotta, childporn, car, then]\n",
       "5547    [had, your, contract, mobile, 11, mnths, lates...\n",
       "5548             [no, i, wa, trying, it, all, weekend, v]\n",
       "5549    [you, know, wot, people, wear, t, shirt, jumpe...\n",
       "5550    [cool, what, time, you, think, you, can, get, ...\n",
       "5551    [wen, did, you, get, so, spiritual, and, deep,...\n",
       "5552    [have, a, safe, trip, to, nigeria, wish, you, ...\n",
       "5553                     [hahaha..use, your, brain, dear]\n",
       "5554    [well, keep, in, mind, i, 've, only, got, enou...\n",
       "5555    [yeh, indian, wa, nice, tho, it, did, kane, me...\n",
       "5556    [yes, i, have, so, that, 's, why, u, texted, p...\n",
       "5557    [no, i, meant, the, calculation, is, the, same...\n",
       "5558                         [sorry, i, 'll, call, later]\n",
       "5559    [if, you, are, n't, here, in, the, next, lt, g...\n",
       "5560               [anything, lor, juz, both, of, u, lor]\n",
       "5561    [get, me, out, of, this, dump, heap, my, mom, ...\n",
       "5562    [ok, lor, sony, ericsson, salesman, i, ask, sh...\n",
       "5563                             [ard, 6, like, dat, lor]\n",
       "5564    [why, do, n't, you, wait, 'til, at, least, wed...\n",
       "5565                                        [huh, y, lei]\n",
       "5566    [reminder, from, o2, to, get, 2.50, pound, fre...\n",
       "5567    [this, is, the, 2nd, time, we, have, tried, 2,...\n",
       "5568         [will, ü, b, going, to, esplanade, fr, home]\n",
       "5569    [pity, wa, in, mood, for, that, so, any, other...\n",
       "5570    [the, guy, did, some, bitching, but, i, acted,...\n",
       "5571                       [rofl, it, true, to, it, name]\n",
       "Name: message, Length: 5572, dtype: object"
      ]
     },
     "execution_count": 56,
     "metadata": {},
     "output_type": "execute_result"
    }
   ],
   "source": [
    "data['message'].apply(split_into_lemmas)"
   ]
  },
  {
   "cell_type": "code",
   "execution_count": 57,
   "metadata": {},
   "outputs": [
    {
     "data": {
      "text/plain": [
       "0    [go, until, jurong, point, crazy, available, o...\n",
       "1                       [ok, lar, joking, wif, u, oni]\n",
       "2    [free, entry, in, 2, a, wkly, comp, to, win, f...\n",
       "3    [u, dun, say, so, early, hor, u, c, already, t...\n",
       "4    [nah, i, do, n't, think, he, go, to, usf, he, ...\n",
       "Name: message, dtype: object"
      ]
     },
     "execution_count": 57,
     "metadata": {},
     "output_type": "execute_result"
    }
   ],
   "source": [
    "data['message'].apply(split_into_lemmas).head()"
   ]
  },
  {
   "cell_type": "code",
   "execution_count": 66,
   "metadata": {},
   "outputs": [
    {
     "name": "stdout",
     "output_type": "stream",
     "text": [
      "8859\n"
     ]
    }
   ],
   "source": [
    "#Now converting strings to vectors using countvectorizer and tfidftransformer\n",
    "#Use %time before the statement for checking time taken\n",
    "#we are creating a vocablury from data['message'] along with their column-index\n",
    "bow_transformer = CountVectorizer(analyzer=split_into_lemmas).fit(data['message'])\n",
    "#print(bow_transformer.vocabulary_['go'])\n",
    "print(len(bow_transformer.vocabulary_))"
   ]
  },
  {
   "cell_type": "code",
   "execution_count": 67,
   "metadata": {},
   "outputs": [
    {
     "name": "stdout",
     "output_type": "stream",
     "text": [
      "{'go': 3628, 'until': 8090, 'jurong': 4450, 'point': 6021, 'crazy': 2418, 'available': 1411, 'only': 5654, 'in': 4179, 'bugis': 1849, 'n': 5315, 'great': 3710, 'world': 8548, 'la': 4597, 'e': 2908, 'buffet': 1847, 'cine': 2156, 'there': 7693, 'got': 3673, 'amore': 1189, 'wat': 8334, 'ok': 5618, 'lar': 4631, 'joking': 4421, 'wif': 8456, 'u': 8002, 'oni': 5650, 'free': 3433, 'entry': 3042, '2': 452, 'a': 948, 'wkly': 8510, 'comp': 2263, 'to': 7801, 'win': 8470, 'fa': 3173, 'cup': 2476, 'final': 3283, 'tkts': 7790, '21st': 484, 'may': 5019, '2005': 472, 'text': 7637, '87121': 893, 'receive': 6398, 'question': 6287, 'std': 7300, 'txt': 7985, 'rate': 6340, 't': 7523, 'c': 1897, \"'s\": 21, 'apply': 1272, '08452810075over18': 103, 'dun': 2893, 'say': 6726, 'so': 7101, 'early': 2923, 'hor': 4017, 'already': 1158, 'then': 7687, 'nah': 5328, 'i': 4098, 'do': 2770, \"n't\": 5316, 'think': 7709, 'he': 3858, 'usf': 8139, 'life': 4708, 'around': 1320, 'here': 3915, 'though': 7728, 'freemsg': 3443, 'hey': 3925, 'darling': 2536, 'it': 4310, 'been': 1571, '3': 567, 'week': 8377, 'now': 5523, 'and': 1203, 'no': 5456, 'word': 8540, 'back': 1466, \"'d\": 4, 'like': 4722, 'some': 7117, 'fun': 3500, 'you': 8737, 'up': 8092, 'for': 3382, 'still': 7322, 'tb': 7580, 'xxx': 8669, 'chgs': 2107, 'send': 6811, '£1.50': 8790, 'rcv': 6351, 'even': 3088, 'my': 5305, 'brother': 1821, 'is': 4297, 'not': 5508, 'speak': 7185, 'with': 8495, 'me': 5028, 'they': 7703, 'treat': 7920, 'aid': 1107, 'patent': 5833, 'per': 5870, 'your': 8747, 'request': 6502, \"'melle\": 17, 'melle': 5061, 'oru': 5709, 'minnaminunginte': 5129, 'nurungu': 5548, 'vettam': 8200, 'ha': 3774, 'set': 6837, 'callertune': 1932, 'all': 1144, 'caller': 1931, 'press': 6142, '9': 924, 'copy': 2361, 'friend': 3459, 'winner': 8479, 'valued': 8171, 'network': 5400, 'customer': 2489, 'have': 3847, 'selected': 6798, 'receivea': 6399, '£900': 8846, 'prize': 6173, 'reward': 6552, 'claim': 2162, 'call': 1914, '09061701461': 248, 'code': 2219, 'kl341': 4558, 'valid': 8166, '12': 370, 'hour': 4032, 'had': 3778, 'mobile': 5182, '11': 359, 'month': 5215, 'or': 5690, 'more': 5222, 'r': 6301, 'entitled': 3039, 'update': 8099, 'the': 7673, 'latest': 4645, 'colour': 2240, 'camera': 1947, 'co': 2208, 'on': 5643, '08002986030': 88, \"'m\": 14, 'gon': 3651, 'na': 5322, 'be': 1549, 'home': 3987, 'soon': 7143, 'want': 8314, 'talk': 7550, 'about': 971, 'this': 7717, 'stuff': 7384, 'anymore': 1240, 'tonight': 7846, 'k': 4458, \"'ve\": 28, 'cried': 2434, 'enough': 3030, 'today': 7808, 'six': 7007, 'chance': 2053, 'cash': 2002, 'from': 3477, '100': 343, '20,000': 466, 'pound': 6080, 'csh11': 2452, '87575': 897, 'cost': 2372, '150p/day': 395, '6days': 777, '16': 419, 'tsandcs': 7950, 'reply': 6494, 'hl': 3957, '4': 622, 'info': 4214, 'urgent': 8116, 'won': 8525, '1': 321, 'membership': 5066, 'our': 5720, '£100,000': 8805, 'jackpot': 4347, '81010': 847, 'www.dbuk.net': 8607, 'lccltd': 4660, 'pobox': 6000, '4403ldnw1a7rw18': 655, 'searching': 6770, 'right': 6564, 'thank': 7655, 'breather': 1791, 'promise': 6207, 'wont': 8531, 'take': 7544, 'help': 3895, 'granted': 3699, 'will': 8467, 'fulfil': 3496, 'wonderful': 8529, 'blessing': 1671, 'at': 1370, 'time': 7768, 'date': 2542, 'sunday': 7443, 'xxxmobilemovieclub': 8670, 'use': 8134, 'credit': 2425, 'click': 2183, 'wap': 8318, 'link': 4741, 'next': 5417, 'message': 5083, 'http': 4055, 'xxxmobilemovieclub.com': 8671, 'n=qjkgighjjgcbl': 5321, 'oh': 5613, 'watching': 8338, 'eh': 2966, 'remember': 6465, 'how': 4040, 'spell': 7201, 'his': 3948, 'name': 5334, 'yes': 8708, 'did': 2686, 'v': 8156, 'naughty': 5357, 'make': 4946, 'wet': 8413, 'fine': 3290, 'if': 4133, 'that\\x92s': 7671, 'way': 8348, 'feel': 3241, 'gota': 3674, 'b': 1443, 'england': 3021, 'macedonia': 4911, 'dont': 2810, 'miss': 5143, 'goals/team': 3634, 'news': 5413, 'ur': 8113, 'national': 5351, 'team': 7591, '87077': 892, 'eg': 2960, 'try': 7947, 'wale': 8296, 'scotland': 6749, '4txt/ú1.20': 691, 'poboxox36504w45wq': 6012, 'that': 7665, 'seriously': 6831, '‘': 8852, 'm': 4895, 'going': 3644, 'ü': 8850, 'pay': 5842, 'first': 3308, 'when': 8425, 'da': 2505, 'stock': 7326, 'comin': 2253, 'aft': 1072, 'finish': 3295, 'lunch': 4877, 'str': 7347, 'down': 2831, 'lor': 4813, 'ard': 1299, 'smth': 7085, 'ffffffffff': 3258, 'alright': 1160, 'can': 1952, 'meet': 5051, 'sooner': 7146, 'just': 4452, 'forced': 3384, 'myself': 5312, 'eat': 2934, 'slice': 7040, 'really': 6381, 'hungry': 4077, 'tho': 7724, 'suck': 7415, 'mark': 4980, 'getting': 3589, 'worried': 8550, 'know': 4566, 'sick': 6961, 'turn': 7968, 'pizza': 5953, 'lol': 4791, 'always': 1171, 'convincing': 2348, 'catch': 2014, 'bus': 1868, 'are': 1300, 'frying': 3485, 'an': 1198, 'egg': 2962, 'tea': 7586, 'eating': 2937, 'mom': 5200, 'left': 4681, 'over': 5739, 'dinner': 2721, 'love': 4837, 'amp': 1191, 'we': 8352, \"'re\": 19, 'packing': 5768, 'car': 1973, \"'ll\": 12, 'let': 4697, 'room': 6603, 'ahhh': 1102, 'work': 8542, 'vaguely': 8163, 'what': 8418, 'doe': 2780, 'wait': 8289, 'clear': 2177, 'were': 8403, 'sure': 7468, 'being': 1589, 'sarcastic': 6703, 'why': 8449, 'x': 8649, 'live': 4761, 'yeah': 8697, 'wa': 8277, 'apologetic': 1260, 'fallen': 3197, 'out': 5723, 'she': 6880, 'actin': 1017, 'spoilt': 7229, 'child': 2121, 'caught': 2017, 'till': 7766, 'but': 1875, 'wo': 8518, 'doing': 2795, 'too': 7851, 'badly': 1471, 'cheer': 2090, 'tell': 7606, 'anything': 1246, 'fear': 3231, 'of': 5589, 'fainting': 3188, 'housework': 4038, 'quick': 6289, 'cuppa': 2478, 'thanks': 7656, 'subscription': 7406, 'ringtone': 6571, 'uk': 8020, 'charged': 2063, '£5/month': 8831, 'please': 5979, 'confirm': 2307, 'by': 1892, 'replying': 6496, 'yup': 8767, 'look': 4802, 'timing': 7775, 'msg': 5255, 'again': 1079, 'xuhui': 8665, 'learn': 4672, '2nd': 544, 'her': 3909, 'lesson': 4696, '8am': 918, 'oops': 5667, 'roommate': 6605, 'done': 2807, 'see': 6783, 'letter': 4698, 'decide': 2579, 'hello': 3890, 'saturday': 6717, 'texting': 7645, 'decided': 2580, 'tomo': 7833, 'trying': 7949, 'invite': 4271, 'pls': 5987, 'ahead': 1101, 'watt': 8346, 'wanted': 8316, 'weekend': 8380, 'abiola': 967, 'forget': 3390, 'need': 5376, 'crave': 2415, 'most': 5230, 'sweet': 7499, 'arabian': 1296, 'steed': 7307, 'mmmmmm': 5171, 'yummy': 8762, '07732584351': 60, 'rodger': 6594, 'burn': 1864, 'tried': 7928, 're': 6355, 'sm': 7056, 'nokia': 5480, 'camcorder': 1945, '08000930705': 84, 'delivery': 2616, 'tomorrow': 7835, 'who': 8442, 'seeing': 6786, 'hope': 4009, 'man': 4955, 'well': 8392, 'endowed': 3013, 'am': 1173, 'lt': 4861, 'gt': 3742, 'inch': 4183, 'calls..messages..missed': 1938, 'get': 3582, 'hep': 3908, 'immunisation': 4163, 'nigeria': 5430, 'fair': 3189, 'hopefully': 4012, 'tyler': 7997, 'ca': 1901, 'could': 2382, 'maybe': 5021, 'ask': 1346, 'bit': 1650, 'stubborn': 7375, 'hospital': 4023, 'kept': 4519, 'telling': 7607, 'weak': 8353, 'sucker': 7416, 'thinked': 7710, 'saw': 6725, 'class': 2170, 'gram': 3693, 'usually': 8146, 'run': 6638, 'half': 3790, 'eighth': 2969, 'smarter': 7063, 'almost': 1154, 'whole': 8444, 'second': 6774, 'fyi': 3514, 'ride': 6563, 'morning': 5226, 'crashing': 2414, 'place': 5955, 'wow': 8565, 'never': 5404, 'realized': 6379, 'embarassed': 2993, 'accomodations': 999, 'thought': 7729, 'liked': 4723, 'since': 6985, 'best': 1609, 'seemed': 6790, 'happy': 3824, 'cave': 2020, 'sorry': 7155, 'give': 3609, 'offered': 5597, 'embarassing': 2994, 'ac': 983, 'sptv': 7248, 'new': 5408, 'jersey': 4390, 'devil': 2666, 'detroit': 2660, 'red': 6421, 'wing': 8477, 'play': 5969, 'ice': 4114, 'hockey': 3971, 'correct': 2366, 'incorrect': 4194, 'end': 3008, 'mallika': 4954, 'sherawat': 6886, 'yesterday': 8721, 'find': 3288, 'url': 8124, 'congrats': 2314, 'year': 8698, 'special': 7188, 'cinema': 2157, 'pas': 5822, 'yours': 8751, '09061209465': 243, 'suprman': 7466, 'matrix3': 5007, 'starwars3': 7290, 'etc': 3077, 'bx420-ip4-5we': 1890, '150pm': 410, 'later': 4644, 'meeting': 5054, 'where': 8430, 'reached': 6362, 'yes..gauti': 8715, 'sehwag': 6795, 'odi': 5588, 'series': 6829, 'pick': 5928, 'burger': 1861, 'yourself': 8752, 'move': 5243, 'pain': 5773, 'killing': 4541, 'good': 3656, 'joke': 4418, 'girl': 3603, 'situation': 7004, 'seeker': 6787, 'part': 5814, 'checking': 2086, 'iq': 4286, 'took': 7854, 'forever': 3387, 'come': 2247, 'double': 2824, 'check': 2082, 'hair': 3785, 'dresser': 2854, 'said': 6674, 'wun': 8591, 'cut': 2492, 'short': 6924, 'nice': 5423, 'pleased': 5980, 'advise': 1057, 'following': 3365, 'recent': 6402, 'review': 6550, 'mob': 5180, 'awarded': 1430, '£1500': 8813, 'bonus': 1711, '09066364589': 292, 'song': 7139, 'dedicated': 2589, 'day': 2548, 'which': 8436, 'dedicate': 2588, 'valuable': 8168, 'frnds': 3468, 'rply': 6617, 'complimentary': 2283, 'trip': 7929, 'eurodisinc': 3082, 'trav': 7912, 'aco': 1013, 'entry41': 3043, '£1000': 8806, 'dis': 2733, '18+6*£1.50': 425, 'morefrmmob': 5223, 'shracomorsglsuplt': 6945, '10': 339, 'ls1': 4857, '3aj': 603, 'hear': 3870, 'divorce': 2761, 'barbie': 1499, 'ken': 4517, 'plane': 5961, 'wah': 8282, 'lucky': 4870, 'save': 6722, 'money': 5207, 'hee': 3882, 'finished': 3297, 'hi': 3930, 'babe': 1458, 'im': 4152, 'wan': 8310, 'something': 7126, 'xx': 8666, 'k..k': 4462, 'performed': 5877, 'waiting': 8293, 'machan': 4913, 'once': 5647, 'thats': 7670, 'cool': 2354, 'gentleman': 3573, 'dignity': 2711, 'respect': 6520, 'people': 5869, 'very': 8199, 'much': 5269, 'shy': 6955, 'pa': 5763, 'operate': 5673, 'after': 1073, 'same': 6690, 'looking': 4806, 'job': 4405, 'ta': 7529, 'earn': 2924, 'ah': 1097, 'stop': 7335, 'urgnt': 8120, 'real': 6372, 'yo': 8731, 'ticket': 7756, 'one': 5649, 'jacket': 4346, 'used': 8135, 'multis': 5280, 'started': 7285, 'came': 1946, 'bed': 1564, 'coin': 2224, 'factory': 3180, 'nitros': 5451, 'ela': 2974, 'kano': 4496, 'il': 4146, 'download': 2832, 'wen': 8397, 'don': 2803, 'stand': 7274, 'close': 2188, 'll': 4768, 'another': 1226, 'night': 5432, 'spent': 7206, 'late': 4641, 'afternoon': 1075, 'casualty': 2012, 'mean': 5037, 'any': 1237, 'y': 8679, 'stuff42moro': 7386, 'includes': 4187, 'sheet': 6882, 'smile': 7070, 'pleasure': 5982, 'trouble': 7934, 'pours': 6083, 'rain': 6314, 'sum1': 7436, 'hurt': 4085, 'becoz': 1562, 'someone': 7121, 'smiling': 7073, 'service': 6834, 'representative': 6500, '0800': 80, '169': 422, '6031': 748, 'between': 1617, '10am-9pm': 353, 'guaranteed': 3746, '£5000': 8835, 'havent': 3850, 'planning': 5966, 'buy': 1880, 'lido': 4706, '530': 721, 'show': 6938, 'collected': 2234, 'simply': 6982, 'password': 5830, 'mix': 5161, '85069': 879, 'verify': 8195, 'usher': 8140, 'britney': 1811, 'fml': 3356, 'po': 5998, 'box': 1745, '5249': 718, 'mk17': 5164, '92h': 932, '450ppw': 663, 'telugu': 7611, 'movie..wat': 5246, 'abt': 978, 'load': 4772, 'loan': 4773, 'wk': 8505, 'hols': 3985, 'forgot': 3395, 'hairdresser': 3787, 'appointment': 1276, 'four': 3413, 'shower': 6940, 'beforehand': 1579, 'cause': 2018, 'prob': 6178, 'coffee': 2221, 'animation': 1213, 'nothing': 5513, 'else': 2987, 'okay': 5623, 'price': 6155, 'long': 4798, 'legal': 4684, 'them': 7683, 'ave': 1417, 'gone': 3653, '4the': 688, 'driving': 2863, 'test': 7632, 'yet': 8722, 'guess': 3753, 'gave': 3547, 'boston': 1732, 'men': 5070, 'changed': 2055, 'search': 6769, 'location': 4776, 'nyc': 5559, 'cuz': 2499, 'signin': 6970, 'page': 5770, 'umma': 8027, 'vava': 8181, 'lot': 4821, 'dear': 2564, 'wish': 8488, 'birthday': 1648, 'making': 4949, 'truly': 7942, 'memorable': 5068, 'aight': 1109, 'hit': 3951, 'would': 8562, 'ip': 4279, 'address': 1035, 'considering': 2323, 'computer': 2288, 'minecraft': 5126, 'server': 6833, 'grumpy': 3739, 'old': 5635, 'better': 1615, 'lying': 4891, 'worry': 8551, 'busy': 1873, 'plural': 5992, 'noun': 5520, 'research': 6507, 'dinner.msg': 2722, 'thing': 7708, 'scared': 6736, 'mah': 4935, 'loud': 4832, 'gent': 3571, 'contact': 2328, 'last': 4638, 'draw': 2845, '09064012160': 267, 'k52': 4479, '12hrs': 380, '150ppm': 412, 'openin': 5671, 'sentence': 6822, 'formal': 3399, 'anyway': 1249, 'juz': 4457, 'tt': 7955, 'eatin': 2936, 'puttin': 6267, 'weight': 8384, 'haha': 3781, 'anythin': 1245, 'happened': 3816, 'entered': 3032, 'cabin': 1903, \"b'day\": 1445, 'bos': 1731, 'felt': 3249, 'askd': 1347, 'invited': 4272, 'apartment': 1254, 'went': 8400, 'specially': 7193, 'holiday': 3981, 'flight': 3333, 'inc': 4182, 'operator': 5674, '0871277810910p/min': 155, '18': 424, 'goodo': 3665, 'must': 5296, 'friday': 3455, 'egg-potato': 2963, 'ratio': 6342, 'tortilla': 7870, 'needed': 5378, 'hmm': 3962, 'uncle': 8037, 'informed': 4217, 'paying': 5848, 'school': 6742, 'directly': 2728, 'food': 3373, 'private': 6170, '2004': 471, 'account': 1003, 'statement': 7293, '07742676969': 62, '786': 810, 'unredeemed': 8080, '08719180248': 200, 'identifier': 4127, '45239': 665, 'expires': 3153, '£2000': 8818, '5/9/03': 709, 'landline': 4620, '09064019788': 273, 'box42wr29c': 1757, 'apple': 1269, 'pair': 5778, 'malarky': 4951, 'voda': 8248, 'number': 5542, 'ending': 3010, '7548': 805, '350': 593, 'award': 1429, 'match': 4998, '08712300220': 138, 'quoting': 6300, '4041': 640, 'standard': 7275, 'app': 1264, 'sao': 6697, 'mu': 5268, 'predict': 6117, 'buying': 1882, 'yetunde': 8724, 'sent': 6821, 'bother': 1735, 'sending': 6813, 'involve': 4276, 'should': 6931, 'imposed': 4169, 'apologise': 1261, 'del': 2606, 'bak': 1478, 'sum': 7435, 'lucyxx': 4874, 'tmorrow.pls': 7795, 'accomodate': 998, 'answer': 1228, 'sunshine': 7450, 'quiz': 6296, 'q': 6273, 'top': 7861, 'sony': 7140, 'dvd': 2903, 'player': 5972, 'country': 2388, 'algarve': 1136, 'ansr': 1227, '82277': 852, 'sp': 7174, 'tyrone': 8001, 'laid': 4612, 'dogging': 2790, 'direct': 2727, 'join': 4413, 'largest': 4635, 'bt': 1835, 'txting': 7990, 'gravel': 3704, '69888': 772, 'nt': 5532, 'ec2a': 2939, '31p.msg': 586, '150p': 394, 'haf': 3780, 'msn': 5262, 'yijue': 8728, 'hotmail.com': 4029, 'him': 3941, 'befor': 1576, 'activity': 1023, 'chat': 2072, 'svc': 7484, 'hardcore': 3826, '69988': 776, 'age': 1084, 'yr': 8759, 'lazy': 4659, 'type': 7998, 'lect': 4678, 'pouch': 6079, 'sir': 6995, 'mail': 4938, 'swt': 7512, 'nver': 5552, 'tired': 7778, 'little': 4760, 'lovable': 4836, 'person': 5888, 'coz..somtimes': 2400, 'those': 7725, 'occupy': 5581, 'd': 2504, 'biggest': 1632, 'their': 7680, 'heart': 3874, 'gud': 3748, 'ni8': 5419, 'open': 5668, 'ya': 8682, 'dot': 2823, 'whats': 8420, 'staff': 7265, 'taking': 7548, 'replied': 6493, 'randy': 6333, 'sexy': 6849, 'female': 3250, 'local': 4775, 'luv': 4882, 'netcollex': 5396, 'ltd': 4862, '08700621170150p': 106, 'ummma.will': 8029, 'in.our': 4180, 'begin': 1583, 'qatar': 6274, 'pray': 6110, 'hard': 3825, 'k..i': 4460, 'deleted': 2610, 'sindu': 6987, 'birla': 1644, 'soft': 7107, 'wine': 8475, 'flowing': 3346, 'nevering': 5405, 'thk': 7718, 'plaza': 5977, 'typical': 8000, 'everywhere': 3104, 'dirt': 2730, 'floor': 3341, 'window': 8473, 'shirt': 6901, 'sometimes': 7129, 'mouth': 5242, 'dream': 2847, 'without': 8499, 'chore': 2145, 'joy': 4432, 'tv': 7972, 'i.ll': 4102, 'exist': 3137, 'hail': 3784, 'mist': 5153, 'become': 1560, 'aaooooright': 956, 'leaving': 4677, 'house': 4034, 'interview': 4259, 'boy': 1762, 'missing': 5148, 'annoncement': 1219, '07046744435': 54, 'arrange': 1323, '0871277810810': 154, 'keep': 4512, 'safe': 6669, 'because': 1558, 'envy': 3047, 'everyone': 3098, 'parent': 5805, 'hand': 3800, 'excited': 3126, 'each': 2917, 'spend': 7204, 'bootydelious': 1723, '32/f': 587, 'inviting': 4273, 'yes-434': 8710, 'no-434': 5459, 'www.sms.ac/u/bootydelious': 8629, 'frnd': 3467, '62468': 755, 'bangbabes': 1492, 'order': 5697, 'content': 2331, 'goto': 3678, 'bangb': 1491, 'internet/service': 4258, 'menu': 5076, 'culture': 2472, 'module': 5194, '09061701939': 250, 's89': 6659, 'avoid': 1423, 'missunderstding': 5151, 'wit': 8494, 'beloved': 1599, 'escape': 3067, 'fancy': 3206, 'bridge': 1796, 'lager': 4611, 'completely': 2278, 'form': 3398, 'clark': 2167, 'also': 1164, 'utter': 8148, 'waste': 8331, 'axis': 1437, 'bank': 1493, 'hmmm': 3963, 'hop': 4008, 'muz': 5302, 'discus': 2745, 'liao': 4701, 'coming': 2254, 'bloody': 1683, 'hell': 3888, 'cant': 1963, 'believe': 1590, 'surname': 7474, 'mr': 5250, 'ill': 4148, 'clue': 2201, 'spanish': 7180, 'bath': 1521, 'carlos': 1992, 'mall': 4953, 'staying': 7299, 'til': 7765, 'smoke': 7076, 'worth': 8556, 'doesnt': 2784, 'log': 4781, 'spoke': 7230, 'maneesha': 4965, 'satisfied': 6713, 'experience': 3147, 'toll': 7828, 'lifted': 4716, 'offer': 5596, 'especially': 3071, 'approach': 1279, 'studying': 7382, 'anyways': 1250, 'gr8': 3686, 'trust': 7944, 'guy': 3766, 'great.bye': 3712, 'handsome': 3805, 'finding': 3289, 'working': 8546, 'towards': 7884, 'net': 5394, 'mummy': 5284, 'boytoy': 1767, 'awesome': 1432, 'minute': 5134, 'freephone': 3444, '0808': 92, '145': 390, '4742': 667, '9am-11pm': 942, 'xmas': 8662, 'radio': 6307, 'jus': 4451, 'bathe': 1522, 'si': 6956, 'using': 8141, 'unique': 8065, '30th': 581, 'august': 1399, 'www.areyouunique.co.uk': 8597, 'joined': 4414, 'league': 4670, 'touch': 7879, 'deal': 2561, 'personal': 5891, 'finally': 3285, 'completed': 2277, 'course': 2393, 'itself': 4326, 'however': 4044, 'suggest': 7429, 'stay': 7296, 'able': 969, 'every': 3093, 'stool': 7334, 'settled': 6840, 'wishin': 8490, 'mrng': 5252, 'hav': 3843, 'story': 7346, 'hamster': 3799, 'dead': 2560, 'tmr': 7796, '1pm': 441, 'orchard': 5696, 'mrt': 5253, 'kate': 4503, 'evening': 3089, 'babyjontet': 1462, 'found': 3411, 'enc': 3007, 'buck': 1841, 'darlin': 2535, 'ive': 4332, 'college': 2238, 'refilled': 6431, 'successfully': 7413, 'inr': 4233, 'decimal': 2582, 'keralacircle': 4521, 'prepaid': 6128, 'balance': 1481, 'transaction': 7902, 'id': 4119, 'kr': 4584, 'goodmorning': 3661, 'sleeping': 7034, 'ga': 3520, 'alter': 1166, 'dat': 2540, 'ericsson': 3055, 'oso': 5711, 'oredi': 5700, 'straight': 7349, 'dogg': 2788, 'connection': 2318, 'before': 1577, 'refund': 6436, 'bill': 1634, 'both': 1734, 'shoot': 6916, 'big': 1630, 'ready': 6370, 'bruv': 1830, 'break': 1783, 'rewarding': 6553, 'semester': 6807, 'study': 7381, 'noe': 5474, 'leh': 4686, 'sound': 7164, 'heading': 3862, 'prediction': 6120, 'slept': 7039, 'past': 5831, 'few': 3256, 'easy': 2933, 'sen': 6810, 'exam': 3122, 'march': 4976, 'atm': 1378, 'register': 6442, 'o': 5566, 'called': 1930, 'ubandu': 8011, 'installing': 4242, 'disk': 2748, 'important': 4167, 'file': 3275, 'system': 7522, 'repair': 6486, 'shop': 6917, 'happen': 3814, 'romantic': 6600, 'nite': 5448, 'scenery': 6739, '500': 711, '89545': 914, 'collect': 2233, '£1': 8788, 'www.4-tc.biz': 8594, '2optout': 549, '087187262701.50gbp/mtmsg18': 187, 'appreciate': 1277, 'partner': 5818, 'career': 1985, 'off': 5591, 'flyng': 3354, 'start': 7283, 'horo': 4020, 'followed': 3363, 'star': 7278, 'sign': 6966, 'g': 3515, 'aries': 1310, 'company': 2266, 'elama': 2978, 'mudyadhu': 5274, 'strict': 7361, 'than': 7651, 'teacher': 7589, 'bcoz': 1544, 'teach': 7588, 'conduct': 2302, 'gandhipuram': 3532, 'walk': 8298, 'cross': 2438, 'road': 6586, 'side': 6963, 'street': 7354, 'rubber': 6627, 'battery': 1527, 'died': 2696, 'flirt': 3337, '10p': 355, 'sam': 6686, '25': 494, 'recd': 6395, 'thirtyeight': 7715, 'penny': 5868, 'printed': 6163, 'upstairs': 8111, 'closer': 2191, 'wil': 8463, 'reach': 6360, 'theory': 7690, 'argument': 1309, 'loses': 4817, 'argue': 1307, 'kick': 4532, '447801259231': 657, 'secret': 6776, 'admirer': 1042, 'u-find': 8003, 'r*reveal': 6302, 'special-call': 7189, '09058094597': 233, 'tomarrow': 7830, 'hearing': 3873, 'laptop': 4630, 'case': 2001, 'pleassssssseeeeee': 5981, 'tel': 7602, 'avent': 1419, 'sportsx': 7238, 'shining': 6896, 'meant': 5041, 'signing': 6971, 'although': 1168, 'told': 7823, 'into': 4262, 'baig': 1476, 'face': 3176, 'watch': 8335, 'fr': 3419, 'thanx': 7661, 'everything': 3102, 'touched': 7880, 'commercial': 2259, 'website': 8366, 'slipper': 7045, 'asked': 1348, 'kallis': 4490, 'bat': 1518, 'inning': 4228, 'didnt': 2692, 'goodnight': 3662, 'fix': 3317, 'wake': 8294, 'dearly': 2573, 'missed': 5146, 'sleep': 7031, 'congratulation': 2315, 'cd': 2026, 'voucher': 8260, '125gift': 376, 'music': 5294, '87066': 890, 'tncs': 7800, 'www.ldew.com1win150ppmx3age16': 8617, 'ranjith': 6336, 'cal': 1908, 'drpd': 2870, 'deeraj': 2595, 'deepak': 2592, '5min': 729, 'hold': 3977, 'bcums': 1546, 'angry': 1211, 'wid': 8454, 'dnt': 2769, 'coz': 2399, 'childish': 2122, 'true': 7939, 'showing': 6942, 'deep': 2591, 'affection': 1064, 'care': 1979, 'kettoda': 4523, 'manda': 4961, 'ups': 8108, '3days': 605, 'shipping': 6900, '2wks': 561, 'other': 5713, 'usps': 8143, 'lag': 4609, 'bribe': 1795, 'nipost': 5446, 'lem': 4689, 'necessarily': 5370, 'expect': 3142, 'headin': 3861, 'mmm': 5168, 'jolt': 4423, 'suzy': 7483, 'lover': 4843, 'video': 8211, 'handset': 3804, '750': 804, 'anytime': 1248, 'min': 5118, 'unlimited': 8075, 'parked': 5811, 'mini': 5127, 'shopping': 6920, 'own': 5753, 'disturb': 2755, 'luton': 4881, '0125698789': 37, 'ring': 6569, 'h': 3773, 'horny': 4019, 'naked': 5331, 'hot': 4027, '69698': 768, 'unsubscribe': 8087, 'dint': 2724, 'wana': 8312, 'plan': 5960, 'sometme': 7130, 'club4mobiles.com': 2199, 'choose': 2141, 'club': 2197, '87070': 891, '150p/wk': 409, 'club4': 2198, 'box1146': 1746, 'mk45': 5165, '2wt': 562, 'evo': 3110, 'flash': 3326, 'jealous': 4377, 'single': 6991, 'chart': 2068, 'quality': 6281, 'charge': 2062, 'sorting': 7160, 'narcotic': 5344, 'ended': 3009, 'sunny': 7446, 'ray': 6345, 'leaf': 4668, 'blue': 1690, 'bay': 1530, 'hmv': 3968, 'genuine': 3575, '86688': 887, 'www.100percent-real.com': 8593, 'might': 5108, 'objection': 5575, 'bf': 1622, 'rob': 6588, 'mack': 4917, 'gf': 3591, 'theater': 7676, 'handed': 3801, 'celebration': 2033, 'full': 3497, 'swing': 7507, 'tool': 7856, 'definitely': 2600, 'keep-in-touch': 4513, 'gdeve': 3559, 'far': 3209, 'okie': 5627, 'usual': 8144, 'passed': 5826, 'ahold': 1105, 'anybody': 1238, 'throw': 7740, 'baby': 1460, 'cruisin': 2445, 'fone': 3369, 'jenny': 4384, 'ge': 3560, 'shall': 6865, 'tonite.busy': 7848, 'tonite.things': 7849, 'ok.varunnathu': 5622, 'edukkukayee': 2951, 'raksha': 6325, 'ollu.but': 5637, 'sense': 6817, 'gautham': 3546, 'stupid': 7390, 'cam': 1944, 'buzy': 1884, 'accidentally': 995, 'resend': 6508, 't-mobile': 7524, 'phone': 5916, 'upgrade': 8101, 'sim': 6978, 'card': 1976, 'loyalty': 4855, '0845': 99, '021': 46, '3680.offer': 599, '28thfeb.t': 511, 'unless': 8073, 'gurl': 3764, 'appropriate': 1281, 'tease': 7593, 'cry': 2447, 'die': 2695, 'plz': 5995, 'rose': 6606, 'grave': 3703, 'bslvyl': 1831, 'somebody': 7119, 'high': 3936, 'diesel': 2697, 'shit': 6902, 'shocking': 6913, 'scary': 6737, 'imagine': 4155, 'def': 2596, 'somewhere': 7132, 'crash': 2412, 'taxi': 7576, 'fridge': 3457, 'meal': 5036, 'womdarfull': 8524, 'actor': 1024, 'blind': 1673, '4u': 692, 'rodds1': 6593, '21/m': 482, 'aberdeen': 964, 'united': 8067, 'kingdom': 4547, 'img': 4158, 'ac/w/icmb3cktz8r7': 985, 'hide': 3934, 'remb': 6464, 'book': 1714, 'jos': 4429, 'friendship': 3462, 'hanging': 3810, 'thread': 7733, 'themob': 7686, 'newest': 5410, 'selection': 6799, 'game': 3530, 'tone': 7840, 'gossip': 3672, 'sport': 7237, 'fit': 3314, 'funky': 3506, '82468': 855, 'garage': 3536, 'key': 4524, 'bookshelf': 1719, 'accept': 990, 'day..u': 2549, 'sister': 6997, 'dear1': 2571, 'best1': 1610, 'clos1': 2187, 'lvblefrnd': 4888, 'jstfrnd': 4436, 'cutefrnd': 2494, 'lifpartnr': 4714, 'belovd': 1598, 'swtheart': 7513, 'bstfrnd': 1834, 'enemy': 3014, 'smart': 7060, '£200': 8817, 'weekly': 8381, '85222': 880, 'winnersclub': 8480, '84': 870, 'm26': 4899, '3uz': 618, 'gbp1.50/week': 3555, '2day': 519, 'normal': 5501, 'rest': 6528, 'mylife': 5308, 'wot': 8558, 'lost': 4820, 'made': 4924, 'k.k': 4472, 'advance': 1053, 'pongal': 6038, 'kb': 4509, 'power': 6085, 'yoga': 8733, 'dunno': 2895, 'tahan': 7539, 'anot': 1225, 'lo': 4771, 'dude': 2886, 'afraid': 1069, 'december': 2578, '11mths': 369, '08002986906': 89, 'cake': 1907, 'merry': 5080, 'christmas': 2150, 'kiss': 4553, 'cud': 2466, 'ppl': 6088, 'gona': 3652, 'l8': 4593, 'waitin': 8292, 'pete': 5898, 'guild': 3759, 'bristol': 1809, 'problem': 6180, 'track': 7891, 'record': 6413, 'reading': 6369, 'woman': 8523, 'read': 6366, 'light': 4718, 'apo': 1259, 'k.good': 4469, 'movie': 5245, 'return': 6542, 'immediately': 4162, 'germany': 3581, 'fixed': 3319, 'line': 4735, 'via': 8202, 'access': 991, '0844': 96, '861': 885, '85': 876, 'prepayment': 6131, 'evaporated': 3085, 'violated': 8227, 'privacy': 6169, 'stealing': 7304, 'employer': 3004, 'paperwork': 5795, 'report': 6498, 'supervisor': 7456, 'valentine': 8165, 'lifetime': 4713, '83600': 868, '150p/msg': 398, 'rcvd': 6352, 'custcare:08718720201': 2487, 'ta-daaaaa': 7530, 'wined': 8476, 'dined': 2717, 'sleeping..and': 7035, 'surfing': 7471, 'calling': 1935, 'post': 6069, '1000': 344, 'wiv': 8503, 'caroline': 1995, 'favourite': 3229, 'bless': 1668, 'hiding': 3935, 'stranger': 7352, 'interested': 4252, 'cleared': 2178, 'two': 7983, 'round': 6608, 'gudnite': 3751, 'tc': 7582, 'practice': 6098, 'huiming': 4068, 'num': 5541, 'small': 7058, 'prestige': 6145, 'shag': 6857, 'do.interested': 2771, 'sextextuk.com': 6847, 'xxuk': 8668, '69876': 771, 'txts': 7992, '1.50': 328, 'jeremiah': 4386, 'iphone': 4284, 'apeshit': 1256, 'ever': 3092, 'misbehaved': 5138, 'slap': 7029, 'urself': 8127, 'fault': 3223, 'basically': 1514, 'figure': 3273, 'alcohol': 1129, 'jay': 4369, 'safely': 6670, 'weed': 8375, 'ish': 4302, '5': 699, 'ago': 1094, 'wtf': 8585, 'calling.forgot': 1936, 'onam': 5645, 'sirji.i': 6996, 'remembered': 6466, 'met': 5096, 'insurance': 4247, 'person.meet': 5889, 'insha': 4235, 'allah.rakhesh': 1146, 'ex': 3118, 'tata': 7570, 'aig': 1108, 'tissco': 7783, 'tayseer': 7579, 'cash-balance': 2003, 'currently': 2482, 'maximize': 5016, 'cash-in': 2004, 'cc': 2023, '08708800282': 128, 'hg/suite342/2lands': 3927, 'row/w1j6hl': 6612, 'unemployed': 8053, 'moment': 5201, 'st': 7261, 'andrews-boy': 1208, 'cold': 2227, 'posted': 6073, 'chikku': 2114, 'db': 2556, 'audrey': 1397, 'status': 7295, 'forward': 3407, 'dawn': 2547, 'refreshed': 6435, 'alive': 1142, 'breathe': 1789, 'air': 1111, 'z': 8769, 'update_now': 8100, 'motorola': 5239, 'sonyericsson': 7141, 'bluetooth': 1691, 'orange': 5694, 'mobileupd8': 5185, '08000839402': 83, 'call2optout/f4q': 1921, 'discount': 2743, 'rp176781': 6615, 'further': 3509, 'www.regalportfolio.co.uk': 8623, '08717205546': 175, 'uniform': 8062, 'geeee': 3562, 'woke': 8521, 'cuddling': 2469, 'spoil': 7227, 'talking': 7554, 'agree': 1096, 'willing': 8468, 'reference': 6428, 't91': 7528, 'gbp': 3552, '09057039994': 224, 'seen': 6792, 'me..i': 5029, \"did't\": 2688, 'recognise': 6411, 'happening': 3818, 'lindsay': 4734, 'sigh': 6964, 'bar': 1498, 'ptbo': 6240, 'heron': 3919, 'payasam': 5843, 'rinu': 6577, 'brings': 1806, 'taught': 7573, 'becaus': 1557, 'verifying': 8196, 'project': 6203, 'prabu': 6095, 'mistake': 5154, 'body': 1701, 'quite': 6293, 'slow': 7051, 'guide': 3758, 'ovulation': 5748, 'relax': 6453, 'reason': 6386, 'followin': 3364, 'couple': 2390, 'wallet': 8304, 'leave': 4676, '945': 934, '6months': 782, 'call2optout/n9dx': 1925, 'owl': 5752, 'lick': 4705, 'mm': 5167, '4mths': 684, 'rental': 6483, 'mobilesdirect': 5183, '08000938767': 85, 'or2stoptxt': 5692, 'having': 3854, 'huh': 4066, 'sat': 6708, 'intro': 4264, 'pilate': 5939, 'kickboxing': 4533, 'office': 5599, 'lap': 4628, 'shut': 6954, 'bout': 1742, '7.30ish': 792, 'performance': 5876, 'calculated': 1909, 'month.not': 5216, 'current': 2481, 'period': 5881, 'actually': 1026, 'rock': 6591, 'putting': 6268, 'business': 1871, 'put': 6266, 'picture': 5933, 'as': 1336, 'facebook': 3177, 'al': 1123, 'salam': 6677, 'wahleykkum.sharing': 8287, 'news.by': 5414, 'grace': 3690, 'god': 3636, 'joined.hope': 4415, 'fine.inshah': 3292, 'allah': 1145, 'sometime.rakhesh': 7128, 'visitor': 8240, 'india': 4202, 'change': 2054, 'field': 3263, 'quickly': 6290, 'administrator': 1041, '87131': 894, 'poly': 6029, '2814032': 508, '1st': 442, '3x£150pw': 621, 'e£nd': 3171, 'chechi': 2081, 'cream': 2421, 'shipped': 6899, 'none': 5488, 'yep': 8706, 'loxahatchee': 4853, 'tree': 7924, 'burning': 1865, 'stoner': 7333, 'slightly': 7043, 'disastrous': 2738, 'pm': 5996, 'fav': 3224, 'wld': 8514, 'drink': 2855, 'busetop': 1870, 'sender': 6812, 'fullonsms.com': 3498, 'iron': 4290, 'okies': 5628, 'yan': 8688, 'jiu': 4401, 'skip': 7020, 'den': 2621, 'blah': 1659, 'bring': 1804, 'wendy': 8398, 'dating': 2544, 'l': 4591, '09064012103': 266, 'box334sk38ch': 1752, 'whatsup': 8421, 'goal': 3633, '£250': 8819, 'competition': 2270, '80086': 836, 'www.txttowin.co.uk': 8643, 'head': 3859, 'logo': 4785, 'name1': 5336, 'name2': 5337, 'mobno': 5186, 'adam': 1028, 'eve': 3086, '07123456789': 58, 'yahoo': 8684, 'pobox36504w45wq': 6007, 'txtno': 7991, 'ad': 1027, 'contacted': 2329, '09111032124': 318, 'pobox12n146tf150p': 6004, 'siva': 7005, 'hostel': 4025, 'aha': 1100, '09058094455': 228, 'land': 4618, '3030': 578, 'voice': 8251, 'speaking': 7186, 'expression': 3162, '1.childish': 332, '2.naughty': 461, '3.sentiment': 570, '4.rowdy': 635, '5.ful': 705, 'attitude': 1390, '6.romantic': 745, '7.shy': 797, '8.attractive': 827, '9.funny': 928, 'irritating': 4294, 'aathi..where': 958, 'urination': 8123, '7': 788, 'esplanade': 3072, 'mind': 5122, 'giving': 3611, 'lift': 4715, 'wnt': 8517, 'bmw': 1696, 'urgently..its': 8118, 'vry': 8263, 'urgent.but': 8117, 'hv': 4091, 'shortage': 6925, 'lacs.there': 4606, 'source': 7169, 'arng': 1317, 'amt': 1195, 'lacs..thats': 4605, 'fifteen': 3267, 'fucking': 3490, 'respond': 6523, '3650': 596, '09066382422': 297, '3mins': 612, 'vary': 8177, '300603': 575, 'bcm4284': 1542, 'ldn': 4661, 'wc1n3xx': 8351, 'booked': 1715, 'hillsborough': 3940, 'th': 7650, 'askin': 1349, 'dollar': 2800, 'shoul': 6930, 'iouri': 4278, 'ten': 7617, 'applebees': 1270, 'txt~journey': 7996, 'hasnt': 3836, 'gd': 3558, '50': 710, 'yes..he': 8716, 'great..bhaji': 3711, 'cricketer': 2432, 'sachin': 6661, 'tough': 7881, 'supposed': 7464, 'oic': 5615, 'tot': 7875, 'din': 2715, 'group': 3731, 'werethe': 8406, 'monkeespeople': 5209, 'monkeyaround': 5211, 'howdy': 4043, 'gorgeous': 3670, 'howu': 4046, 'doin': 2793, 'foundurself': 3412, 'jobyet': 4406, 'sausage': 6719, 'jen': 4382, 'blimey': 1672, 'exercise': 3132, 'kinda': 4544, 'concentration': 2295, 'hank': 3811, 'lotsly': 4826, 'detail': 2655, 'transfer': 7904, 'acc': 987, 'optimistic': 5686, 'improve': 4176, 'purpose': 6261, '£500': 8834, '£75,000': 8842, 'homeowner': 3992, 'tenant': 7618, 'welcome': 8391, 'previously': 6153, 'refused': 6438, '1956669': 433, \"'help\": 7, 'oreo': 5701, 'truffle': 7941, 'amy': 1197, 'ure': 8114, 'beautiful': 1554, 'intelligent': 4248, 'don\\x92t': 2815, 'result': 6536, 'consistently': 2324, 'kind': 4543, 'asking': 1350, 'practicum': 6100, 'ear': 2919, 'ttyl': 7956, '1.20': 327, 'isnt': 4306, 'bad': 1469, 'thru': 7744, 'different': 2704, 'feeling.wavering': 3244, 'decision': 2583, 'coping': 2360, 'individual.time': 4207, 'heal': 3866, 'upgrdcentre': 8103, '0207': 41, '153': 416, '9153': 931, '26th': 503, 'july': 4444, 'opt-out': 5684, 'bye': 1894, 'railway': 6313, 'princess': 6161, 'receiving': 6401, 'oral': 5693, 'doggy': 2791, 'style': 7392, 'fave': 3225, 'position': 6061, 'enjoy': 3023, 'slippery': 7046, 'bike': 1633, 'many': 4971, 'language': 4625, 'okmail': 5629, 'dave': 2546, 'notice': 5514, 'tenerife': 7620, '5000': 712, '09061743806': 253, 'sae': 6667, 'box326': 1750, 'cw25wx': 2500, 'screamed': 6757, 'enters': 3033, 'remove': 6477, 'flat': 3327, 'transfered': 7905, 'removed': 6478, 'differ': 2701, 'differ.be': 2702, '9ja': 943, 'moan': 5179, '69888nyt': 773, 'broken': 1816, 'cum': 2473, 'infront': 4220, 'wise': 8487, '9t': 945, 'aathi..love': 957, 'tension': 7622, 'machi': 4914, '8th': 922, 'thinking': 7712, 'mcr': 5027, 'sec': 6773, 'taste': 7567, 'fb': 3230, 'jaykwon': 4371, 'thuglyfe': 7748, 'falconerf': 3195, 'activate': 1021, 'term': 7624, 'condition': 2300, 'visit': 8237, 'www.07781482378.com': 8592, 'depends': 2632, 'boye': 1764, 'faded': 3181, 'glory': 3619, '6': 739, 'ralphs': 6327, 'dry': 2878, 'trade': 7893, 'reunion': 6545, 'meh': 5057, 'nope': 5494, 'monday': 5204, 'accenture': 989, 'jackson': 4348, 'rec': 6394, 'center': 2036, '7ish': 815, 'reache': 6361, 'fighting': 3271, 'either': 2972, 'lose': 4815, 'fightng': 3272, 'some1': 7118, 'dificult': 2707, 'nuerologist': 5540, 'lolnice': 4792, 'fish': 3311, 'water': 8340, '123': 375, '£1450': 8811, '09050002311': 217, 'b4280703': 1452, 'cs/stop': 2448, '08718727868': 192, 'bored': 1725, 'outside': 5733, 'westshore': 8412, 'hyde': 4094, 'park': 5809, 'village': 8225, 'near': 5365, 'anthony': 1234, 'bringing': 1805, 'fee': 3239, 'rent': 6482, 'significance': 6968, 'opinion': 5675, 'jada': 4350, 'kusruthi': 4588, 'silent': 6974, 'spl': 7219, 'character': 2061, 'matured': 5011, '8': 821, 'stylish': 7394, 'simple': 6980, 'scrounge': 6761, 'ammo': 1185, 'ak': 1120, 'prabha..i': 6094, 'soryda..realy..frm': 7162, 'sory': 7161, 'forgiven': 3393, 'no..jst': 5467, 'tat': 7569, '40gb': 643, 'ipod': 4285, 'mp3': 5248, '83355': 864, 'ibhltd': 4106, 'ldnw15h': 4662, '150p/mtmsgrcvd18': 404, 's': 6649, 'boltblue': 1707, 'mono': 5212, 'poly3': 6032, 'cha': 2044, 'slide': 7041, 'jamz': 4357, 'toxic': 7888, 'topped': 7865, 'www.bubbletext.com': 8601, 'renewal': 6479, 'pin': 5944, 'tgxxrz': 7649, 'transport': 7909, 'le': 4663, 'problematic': 6184, 'bday': 1548, 'definite': 2599, 'booking': 1717, 'fri': 3454, 'unconscious': 8040, 'adult': 1052, 'behave': 1586, 'abnormally': 970, 'ebay': 2938, 'elsewhere': 2988, 'pickle': 5931, 'taco': 7534, 'rude': 6628, 'campus': 1950, '£2,000': 8815, '02/09/03': 40, 'attempt': 1384, '0871-872-9755': 132, 'box95qu': 1760, \"x'mas\": 8650, '£150': 8812, '85023': 878, 'savamob': 6720, 'member': 5065, '08717898035': 181, '£3.00': 8822, 'sub': 7396, 'unsub': 8086, 'pretty': 6149, 'lady': 4608, 'recieve': 6409, 'within': 8498, '24hrs': 491, 'channel': 2057, 'teletext': 7605, 'pg': 5903, 'double-faggot': 2825, '2003': 470, '07815296484': 72, '800': 831, 'un-redeemed': 8032, 's.i.m': 6654, '08718738001': 196, '41782': 646, '18/11/04': 427, 'today-sunday..sunday': 7809, 'holiday..so': 3982, 'while': 8437, 'hoping': 4016, 'l8r': 4595, 'malaria': 4950, 'ban': 1487, 'lead': 4665, 'passionate': 5828, 'across': 1014, 'sea': 6768, 'probably': 6179, 'fat': 3218, 'finger': 3294, 'these': 7697, 'button': 1879, 'ummmmmaah': 8030, 'tirupur': 7782, 'www.applausestore.com': 8596, 'monthlysubscription': 5218, '50p/msg': 715, 'max6/month': 5015, 'csc': 2451, 'web': 8361, 'age16': 1085, '2stop': 554, 'famous': 3203, 'quote': 6299, 'develop': 2662, 'ability': 966, 'listen': 4751, \"'anything\": 2, 'unconditionally': 8039, 'losing': 4818, 'temper': 7615, 'self': 6800, 'confidence': 2305, \"'married\": 16, 'oclock': 5585, 'mine': 5125, 'bash': 1512, 'recovery': 6417, 'rather': 6341, 'cooped': 2356, 'hotel': 4028, 'invitation': 4270, 'cali': 1911, 'english': 3022, 'bloke': 1678, 'weddin': 8369, 'omw': 5642, 'btw': 1839, 'alibi': 1141, 'cutting': 2498, 'sink': 6992, 'through': 7739, 'pace': 5764, 'cage': 1906, 'cock': 2216, 'surrounded': 7478, 'reminding': 6473, 'owns': 5755, 'cuck': 2465, 'hurry': 4084, 'weed-deficient': 8376, 'three': 7735, 'acknowledgement': 1010, 'astoundingly': 1365, 'tactless': 7536, 'generally': 3569, 'faggy': 3182, 'demand': 2620, 'blood': 1681, 'oath': 5571, 'fo': 3358, 'warm': 8320, 'milk': 5113, 'magic': 4932, 'loose': 4810, 'pan': 5781, 'cheap': 2077, 'perhaps': 5879, 'silly': 6976, 'isn': 4305, 'likely': 4724, 'uv': 8151, 'mutation': 5301, 'sunscreen': 7449, 'essential': 3074, 'thesedays': 7698, 'online': 5652, 'pic': 5927, 'aiyo': 1118, 'mei': 5058, 'haven': 3849, 'fast': 3214, 'workin': 8545, 'bao': 1497, 'sugardad': 7428, 'gee': 3561, 'brownie': 1824, 'geeeee': 3563, 'barely': 1502, 'fuck': 3487, '2mrw': 542, 'ninish': 5444, 'icky': 4117, 'american': 1179, 'freek': 3441, 'callin': 1934, 'oooh': 5664, 'ridden': 6562, 'ey': 3168, 'gym': 3769, 'whatever': 8419, 'daddy': 2515, 'scream': 6756, 'dick': 2683, 'missy': 5152, 'yar': 8689, 'mum': 5281, 'sch': 6740, 'clean': 2175, 'lab': 4601, 'goggles': 3640, 'door': 2817, '1,000': 322, '2,000': 453, 'call09050000327': 1917, 'arguing': 1308, '09050005321': 219, 'arngd': 1318, 'marriage': 4986, 'walkin': 8301, 'unfortuntly': 8057, 'snake': 7087, 'bite': 1653, 'dancing': 2524, 'frnt': 3473, 'sayin': 6729, 'izzit': 4336, '150': 393, 'textand': 7639, '08002988890': 90, 'ex-wife': 3119, 'kid': 4535, 'jjc': 4402, 'tendency': 7619, 'headache': 3860, 'quit': 6292, 'jazz': 4373, 'yogasana': 8734, 'em': 2990, 'meive': 5059, 'hardly': 3829, 'gotany': 3675, 'srsly': 7258, 'yi': 8726, 'spree': 7245, '80878': 846, 'www.txt-2-shop.com': 8640, 'custcare': 2486, '08715705022': 172, '1x150p/wk': 450, '2000': 469, '08712402050': 143, '10ppm': 357, 'ag': 1078, 'promo': 6209, '07753741225': 63, '08715203677': 167, '42478': 650, '24/10/04': 489, 'grand': 3695, 'prix': 6171, 'nitz': 5453, 'announcement': 1221, '542': 723, '0825': 95, 'exhausted': 3135, 'train': 7896, 'pie': 5934, 'present': 6138, 'ar': 1293, 'blastin': 1665, 'tsunami': 7954, 'occur': 5582, 'rajnikant': 6323, 'stopped': 7341, 'swimming': 7505, 'indian': 4203, 'ocean': 5584, 'noon': 5491, 'xclusive': 8660, 'clubsaisai': 2200, '2morow': 537, '28/5': 507, 'soiree': 7110, 'speciale': 7190, 'zouk': 8781, 'nichols': 5425, 'paris.free': 5807, '07946746291/07880867867': 76, 'bridgwater': 1797, 'banter': 1496, 'neva': 5402, 'imma': 4160, 'somethin': 7125, '22': 485, 'euro2004': 3081, 'daily': 2517, '83222': 861, 'ques': 6286, 'suit': 7431, 'dependent': 2631, 'thanx4': 7663, 'cer': 2039, 'often': 5609, 'soon.c': 7144, 'future': 3511, 'hundred': 4074, 'handsomes': 3806, 'beauty': 1555, 'aunty': 1402, 'shock': 6912, 'shuhui': 6952, 'leona': 4693, 'reaction': 6365, 'family': 3202, 'happiness': 3823, 'snow': 7096, 'weather': 8360, 'together': 7816, 'grow': 3732, 'dismay': 2750, 'alex': 1134, 'concerned': 2297, 'pub': 6242, 'bud': 1842, 'useful': 8136, 'officially': 5605, 'paid': 5772, 'market': 4981, 'tootsie': 7860, 'pop': 6048, 'longer': 4799, 'darren': 2537, 'textbuddy': 7641, 'area': 1301, '25p': 498, 'postcode': 6072, 'gaytextbuddy.com': 3550, '89693': 916, 'vodafone': 8249, '4882': 668, '£350': 8826, '09064019014': 272, 'forwarded': 3408, 'seventeen': 6843, 'seven': 6842, 'ml': 5166, '–': 8851, 'holder': 3978, 'pc': 5852, 'www.e-tlp.co.uk/expressoffer': 8608, 'apply.2': 1273, '80062': 833, 'funny': 3507, 'sweetheart': 7501, 'biola': 1642, 'login': 4784, 'dad': 2514, 'fetching': 3254, 'restock': 6530, 'thanksgiving': 7658, 'effect': 2957, 'brighten': 1800, 'wee': 8374, 'thursday': 7750, 'allo': 1150, 'braved': 1777, 'taken': 7546, 'triumphed': 7932, 'ham': 3797, 'jolly': 4422, 'cartoon': 2000, 'listening': 4754, 'temple': 7616, 'church': 2154, 'uncomfortable': 8038, '08715203694': 169, '40533': 642, '31/10/04': 583, 'email': 2991, 'rstm': 6621, 'sw7': 7485, 'gentle': 3572, 'sonetimes': 7138, 'rough': 6607, 'starting': 7287, 'panic': 5785, 'tuesday': 7959, 'wesley': 8407, 'town': 7885, 'bet': 1611, 'hella': 3889, 'drug': 2871, 'dealer': 2562, 'impatient': 4165, 'sun': 7441, 'earth': 2926, 'cloud': 2195, 'river': 6584, 'evng': 3109, 'wikipedia.com': 8462, '88800': 905, '89034': 909, 'premium': 6127, '08718711108': 182, 'under': 8045, 'lay': 4656, 'envelope': 3046, 'paper': 5794, 'repent': 6489, 'fetch': 3253, 'de': 2558, 'prepare': 6129, 'kama': 4492, 'sutra': 7481, 'en': 3006, 'nange': 5341, 'bakra': 1479, 'kalstiya..then': 4491, 'tea/coffee': 7587, 'lakh': 4613, 'ho': 3970, 'belly': 1595, 'laugh': 4647, 'sun0819': 7442, 'seem': 6789, '20': 465, 'opt': 5683, '08452810071': 101, 'ditto': 2758, 'saying': 6730, 'peace': 5854, 'knw': 4571, 'wetherspoons': 8414, 'piggy': 5938, 'awake': 1428, 'freaky': 3431, 'yelling': 8701, 'scrappy': 6753, 'lonely': 4797, \"'hex\": 8, 'explain': 3155, 'sdryb8i': 6766, 'xy': 8678, 'sue': 7420, 'lapdancer': 4629, 'sex': 6845, 'bedroom': 1568, '89555': 915, 'textoperator': 7646, 'g2': 3518, '1da': 436, '150ppmsg': 414, 'king': 4546, 'building': 1851, 'map': 4972, 'imprtant': 4178, 'tomorw': 7838, 'cherthala.in': 2100, 'cochin': 2215, 'bfore': 1624, 'start.i': 7284, 'accordingly.or': 1002, 'coming.tmorow': 2255, 'engaged': 3017, 'torch': 7868, 'bold': 1704, '448712404000': 658, '08712404000': 148, 'farm': 3210, '4d': 673, '1405': 388, '1680': 421, '1843': 429, 'law': 4654, 'purchase': 6257, 'poop': 6044, 'gpu': 3685, 'entrepreneur': 3040, 'corporation': 2364, 'gap': 3535, '…': 8855, 'k..u': 4467, 'prevent': 6150, 'dehydration': 2605, 'fluid': 3347, 'weird': 8386, 'idea': 4124, 'dear..i': 2566, 'so.so': 7102, 'away': 1431, 'trek': 7925, 'harri': 3833, 'drivin': 2862, 'fantastic': 3207, 'n-gage': 5318, 'deck': 2584, 'www.cnupdates.com/newsletter': 8605, 'alert': 1131, 'height': 3885, 'aeronautics': 1060, 'professor': 6198, 'wer': 8402, 'calld': 1929, 'sit': 6998, 'aeroplane': 1061, 'aftr': 1077, 'w': 8266, 'student': 7378, 'dey': 2669, 'hurried': 4083, 'datz': 2545, 'seems': 6791, 'shitstorm': 6908, 'attributed': 1393, '08714712388': 159, '10am-7pm': 352, 'stress': 7355, 'dorm': 2818, 'sell': 6804, '449071512431': 660, '£1250': 8810, '09071512433': 302, 'b4': 1450, '050703': 47, 'csbcm4235wc1n3xx': 2449, 'callcost': 1928, 'mobilesvary': 5184, 'max£7': 5018, 'sth': 7317, 'spec': 7187, 'px3748': 6271, '08714712394': 160, 'macha': 4912, 'upset.i': 8110, 'assume': 1360, 'mindset.believe': 5124, 'us.let': 8130, 'again.call': 1081, \"s'fine\": 6650, 'wondar': 8526, 'flim': 3334, 'cooky': 2353, 'jelly': 4381, 'running': 6639, 'still.maybe': 7323, 'feeling': 3243, 'it.or': 4318, 'admit': 1044, 'mad.then': 4920, 'correction': 2367, 'life.and': 4709, 'running.lets': 6640, 'scrumptious': 6762, 'ba': 1454, 'dao': 2529, 'half8th': 3792, 'exactly': 3121, 'jide': 4400, 'visiting': 8239, 'alertfrom': 1132, 'jeri': 4387, 'stewartsize': 7315, '2kbsubject': 534, 'low-cost': 4850, 'prescripiton': 6135, 'drvgsto': 2877, 'spring': 7246, 'yay': 8695, 'steak': 7302, 'convincing..just': 2349, 'twice': 7977, 'neglect': 5386, 'it..just': 4313, 'tonite': 7847, 'opportunity.all': 5678, 'fast.pls': 3215, 'add': 1029, 'prayer': 6111, 'dear.rakhesh': 2568, 'nokia6650': 5483, '£10': 8802, 'txtauction': 7988, '81151': 848, '4t': 686, 'ctxt': 2463, '150p/mtmsg': 403, 'mayb': 5020, 'rite': 6582, 'faster': 3216, 'gal': 3525, 'attached': 1382, 'glad': 3612, 'clock': 2186, 'shouted': 6934, 'realised': 6375, 'wahay': 8284, 'shorter': 6927, 'gaze': 3551, 'eye': 3169, '930': 933, 'subscribed': 7404, '£3': 8821, '82324': 854, 'helpline': 3903, '08706091795': 121, 'spoken': 7231, 'gist': 3606, 'realize': 6378, '40': 636, 'thousand': 7731, 'tattoo': 7571, 'premier': 6126, 'gim': 3600, 'lip': 4746, 'caveboy': 2021, 'library': 4704, 'realy': 6383, 'sorry-i': 7156, 'confused': 2312, 'holla': 3983, 'anyone': 1241, 'spare': 7181, 'faith': 3190, 'possible': 6067, 'you/carlos': 8741, 'is/are': 4299, 'vibrate': 8204, 'acting': 1018, 'paris': 5806, '£79': 8844, '08704439680ts': 120, 'grandma': 3697, 'hungover': 4076, 'unclaimed': 8036, '09066368327': 293, 'closingdate04/09/02': 2192, 'claimcode': 2163, 'm39m51': 4901, '£1.50pmmorefrommobile2bremoved-mobypobox734ls27yf': 8799, 'gua': 3743, 'mt': 5263, 'faber': 3175, 'yest': 8720, 'wishing': 8491, 'ma': 4907, 'city': 2159, 'summer': 7438, 'store': 7343, '88039': 899, 'skilgme': 7013, 'tscs087147403231winawk': 7953, '£1.50perwksub': 8797, 'goin': 3642, 'meetin': 5053, 'wonder': 8528, 'ti': 7754, 'dramatic': 2843, 'closed': 2190, 'apparently': 1265, 'drive': 2860, 'anywhere': 1251, 'damn': 2519, 'hunting': 4081, 'drunkard': 2875, 'wats': 8345, 'idc': 4123, 'weaseling': 8359, 'row': 6611, 'space': 7175, 'picking': 5930, 'trash': 7910, 'begging': 1582, 'lovely': 4841, 'sing': 6988, 'slave': 7030, 'punish': 6251, 'beerage': 1575, '0578': 48, 'randomlly': 6331, 'opening': 5672, 'spelling': 7203, 'diff': 2700, 'living': 4765, 'perfect': 5874, 'community': 2262, '100p/sms': 345, 'polyphonic': 6036, '087018728737': 114, 'toppoly': 7866, 'tune': 7965, 'subpoly': 7401, '81618': 850, 'pole': 6025, '08718727870': 193, 'enjoyed': 3024, 'fondly': 3368, 'bein': 1588, 'thot': 7726, 'dogbreath': 2787, 'sounding': 7165, 'jan': 4358, 'omg': 5641, 'weighed': 8383, 'woohoo': 8535, 'uncountable': 8043, 'dictionary': 2685, 'piece': 5935, '9996': 939, '14thmarch': 392, 'availa': 1410, 'petey': 5900, 'whereare': 8431, 'friendsare': 3461, 'thekingshead': 7682, 'canlove': 1961, 'nic': 5422, 'pobox84': 6011, 'm263uz': 4900, 'appt': 1286, 'no1': 5469, '8077': 845, 'mate': 5000, 'www.getzed.co.uk': 8613, '36504': 597, 'w45wq': 8275, 'norm150p/tone': 5500, 'cashto': 2007, '08000407165': 81, 'getstop': 3587, '88222': 903, 'php': 5923, 'rg21': 6554, '4jx': 682, 'dled': 2766, '3d': 604, 'imp': 4164, 'ai': 1106, 'smokin': 7078, 'boooo': 1720, 'bec': 1556, 'ugh': 8014, 's.nervous': 6655, 'costume': 2375, 'gift': 3596, 'yowifes': 8757, 'hint': 3944, '£100': 8804, 'borrow': 1730, 'bag': 1473, 'outbid': 5725, 'simonwatson5120': 6979, 'shinco': 6894, 'plyr': 5994, 'bid': 1629, 'ac/smsrewards': 984, 'notification': 5515, 'model': 5191, 'youi': 8743, 'galileo': 3528, 'dobby': 2773, 'responding': 6524, 'boo': 1712, 'enjoyin': 3025, 'yourjob': 8750, 'gettin': 3588, 'hunny': 4079, 'i\\x92llspeak': 4339, '2u': 557, 'soonlots': 7147, 'loveme': 4842, 'xxxx': 8672, 'starshine': 7282, 'ache': 1007, 'sip': 6993, 'cappuccino': 1970, 'teasing': 7594, 'smsservices': 7084, 'yourinclusive': 8749, 'www.comuk.net': 8606, '3qxj9': 616, 'extra': 3165, '08702840625.comuk': 118, '220-cm2': 486, '9ae': 940, 'alfie': 1135, 'moon': 5220, 'm8s': 4905, 'charity': 2064, '8007': 834, 'nokias': 5484, 'polys': 6037, 'zed': 8774, '08701417012': 109, 'profit': 6200, 'hahaha..use': 3782, 'brain': 1771, 'turned': 7969, 'green': 3717, 'burial': 1863, 'mojibiola': 5197, 'reveal': 6546, '09065174042': 278, 'cust': 2485, '07821230901': 73, 'rv': 6644, 'hol': 3975, 'haven\\x92t': 3852, 'rvx': 6645, 'skyped': 7025, 'kz': 4590, 'sura': 7467, 'given': 3610, 'ultimatum': 8025, 'countin': 2386, 'aburo': 980, 'surely': 7469, 'successful': 7412, 'five': 3316, '08002888812': 87, 'inconsiderate': 4191, 'nag': 5326, 'recession': 6405, 'hence': 3906, 'wed': 8368, 'vouchers-text': 8261, 'savamob-member': 6721, 'soo': 7142, 'understand': 8047, '2morrow': 539, 'comprehensive': 2284, 'prashanthettan': 6109, 'mother': 5232, '09066350750': 283, 'ibiza': 4107, '10,000': 340, 'await': 1426, 'collection': 2236, '434': 653, 'sk3': 7010, '8wp': 923, 'ppm': 6090, 'meanwhile': 5042, 'suite': 7432, 'xavier': 8658, 'warning': 8324, 'samantha': 6688, 'playing': 5975, 'guitar': 3761, 'impress': 4172, 'doug': 2829, 'realizes': 6380, 'stomach': 7330, 'trauma': 7911, 'swear': 7496, 'matter..msg': 5009, 'now.i': 5524, 'shoe': 6914, 'inner': 4227, 'tigress': 7762, 'version': 8197, 'poor': 6045, 'urfeeling': 8115, 'bettersn': 1616, 'probthat': 6189, 'overdose': 5742, 'careful': 1986, 'spk': 7218, 'sn': 7086, 'lovejen': 4840, 'returned': 6543, 'fall': 3196, 'discreet': 2744, 'vip': 8230, '83110': 859, 'hai': 3783, 'ana': 1199, 'sathy': 6711, 'rto': 6624, 'spoon': 7235, 'named': 5338, 'tampa': 7559, 'genius': 3570, 'whenever': 8427, 'sort': 7157, 'lotta': 4828, 'corvette': 2370, 'lately': 4642, 'supply': 7460, 'virgin': 8233, 'mystery': 5314, '09061104283': 242, 'www.smsco.net': 8634, '£1.50pm': 8798, 'approx': 1284, 'consider': 2322, 'wall': 8303, 'bunker': 1859, 'peaceful': 5855, 'matter': 5008, '07808': 69, 'xxxxxx': 8674, '08719899217': 205, '41685': 645, '07/11/04': 52, 'posh': 6059, 'bird': 1643, 'chap': 2058, 'user': 8138, 'trial': 7927, 'prod': 6194, 'champneys': 2052, 'dob': 2772, 'asap': 1338, '0721072': 59, 'philosophical': 5912, 'hole': 3980, 'saved': 6723, 'problem..but': 6182, 'drop': 2867, 'cuddle': 2467, 'nap': 5343, 'atleast': 1377, 'otherwise': 5715, 'shakespeare': 6863, 'shesil': 6888, '10k': 354, '5k': 728, 'travel': 7913, '09064011000': 265, 'ntt': 5535, 'cr01327bt': 2404, 'fixedline': 3320, 'castor': 2011, 'liverpool': 4764, 'played': 5971, 'mid': 5104, '09058094565': 230, '09065171142-stopsms-08': 276, 'reminder': 6472, 'downloaded': 2833, 'doit': 2796, 'mymoby': 5309, 'knew': 4562, 'woul': 8561, 'wanting': 8317, 'curfew': 2479, 'gibe': 3595, \"'til\": 26, 'midnight': 5106, 'getsleep': 3586, 'studdying': 7377, 'training': 7898, 'massage': 4993, 'oil': 5616, 'sup': 7452, 'yoyyooo': 8758, 'permission': 5884, 'mac': 4910, 'usb': 8131, 'gibbs': 3594, 'unsold.mike': 8083, 'hussey': 4088, 'failed': 3184, 'sad': 6666, 'unbelievable': 8034, 'faglord': 3183, 'wife.how': 8459, 'murder': 5289, 'nutter': 5551, 'cutter': 2497, 'ctter': 2461, 'cttergg': 2462, 'cttargg': 2460, 'ctargg': 2457, 'ctagg': 2456, 'ie': 4132, 'thus': 7751, 'superb': 7454, 'grateful': 3702, 'opportunity': 5677, 'happier': 3820, 'agent': 1090, 'experiment': 3149, 'due': 2888, 'several': 6844, 'outstanding': 5736, 'invoice': 4275, 'smell': 7067, 'tobacco': 7804, 'derek': 2639, 'taylor': 7578, 'assumed': 1361, 'worst': 8555, 'charles': 2065, 'lastest': 4639, 'stereophonics': 7311, 'marley': 4984, 'dizzee': 2764, 'racal': 6304, 'libertine': 4703, 'stroke': 7366, 'nookii': 5490, 'bookmark': 1718, 'plus': 5993, 'grinule': 3723, 'greet': 3718, 'white': 8440, 'fudge': 3492, 'january': 4362, 'male': 4952, 'sale': 6679, 'gay': 3548, 'cheaper': 2078, '08709222922': 129, '1.5p/min': 331, '7.8p/min': 794, 'peak': 5857, '08712460324': 151, '10p/min': 356, 'zaher': 8771, 'ym': 8729, 'nauseous': 5358, 'pissed': 5949, 'pig': 5937, 'dieting': 2699, 'chip': 2135, 'iam': 4104, 'addicted': 1032, 'msging': 5260, 'wrong': 8580, \"don\\\\'t\": 2805, 'photo': 5921, 'registered': 6443, 'yck': 8696, 'ashley': 1342, 'avalarr': 1414, 'hollalater': 3984, 'attend': 1386, 'today..but': 7810, 'website..now': 8367, 'blogging': 1677, 'magicalsongs.blogspot.com': 4934, 'chikku..il': 2117, 'diet': 2698, 'ate': 1372, 'kvb': 4589, '88600': 904, '£1million': 8814, 'ppt150x3+normal': 6092, 'box403': 1755, 'w1t1jy': 8273, 'friday.hope': 3456, 'alternative.hope': 1167, 'ore': 5699, 'mo': 5177, 'owo': 5756, 'fro': 3474, 'wherever': 8432, 'samus': 6691, 'shoulder': 6932, 'matthew': 5010, '09063440451': 261, '4*lux': 624, 'ppm150': 6091, 'box334': 1751, 'sk38xh': 7011, 'wear': 8356, 'jean': 4378, 'fever': 3255, 'vomitin': 8256, 'k.are': 4468, '09061749602': 257, '£10,000': 8803, '528': 720, 'hp20': 4049, '1yf': 451, 'stuffed': 7387, 'bleh': 1667, 'least': 4674, 'writhing': 8572, 'ton': 7839, 'paypal': 5851, 'voila': 8253, 'pocket': 6015, 'theyre': 7704, 'medical': 5048, 'folk': 3361, '150p/sms': 406, 'sorta': 7158, 'blown': 1688, 'recently': 6403, 'score': 6746, 'sophas': 7151, 'secondary': 6775, 'application': 1271, 'applying': 1275, 'ogunrinde': 5612, 'expensive': 3146, '08718720201': 183, '114/14': 364, 'tcr/w1': 7584, 'lodging': 4780, 'chk': 2137, 'dict': 2684, 'shb': 6878, 'truth': 7946, 'against': 1082, 'gravity': 3705, 'carefully': 1987, 'heavy': 3880, 'bowl': 1744, 'filthy': 3281, 'brand': 1774, 'simpler': 6981, 'magical': 4933, 'welp': 8396, 'retired': 6540, 'natwest': 5356, '£800': 8845, '09050001808': 216, 'm95': 4906, 'valid12hrs': 8167, 'chad': 2046, 'gymnastics': 3770, 'site': 6999, 'christian': 2149, 'necklace': 5374, 'token': 7820, 'you.thats': 8740, 'wife': 8457, 'liking.be': 4726, 'see..no': 6784, 'that.dont': 7666, 'me.i': 5032, 'aptitude': 1291, '2.15': 457, 'horse': 4022, 'racing': 6305, 'earlier': 2920, 'chicken': 2110, 'rice': 6559, 'wrongly': 8581, 'crap': 2411, 'borin': 1726, 'boggy': 1702, 'boring': 1727, 'biatch': 1628, 'nxt': 5556, 'hesitate': 3922, 'weakness': 8354, 'notebook': 5511, 'salary': 6678, 'chocolate': 2139, 'days.he': 2550, 'potential': 6077, 'talent': 7549, 'reckon': 6410, 'eightish': 2970, 'carpark': 1996, '3g': 606, 'videophones': 8214, '09063458130': 263, 'videochat': 8213, 'java': 4368, 'dload': 2768, 'polyph': 6035, 'noline': 5485, 'rentl': 6485, 'fuckin': 3489, 'dropped': 2868, 'loving': 4846, 'yun': 8763, 'ah.the': 1099, 'ubi': 8012, 'tomorrow.call': 7836, '67441233': 762, 'irene.ere': 4288, 'bus8,22,65,61,66,382': 1869, 'cres': 2429, 'tech': 7595, 'park.6ph': 5810, '5wkg': 736, 'days.èn': 2553, 'sd': 6764, 'butt': 1876, 'sore': 7152, 'relaxing': 6454, '7am': 813, 'party': 5820, '5ish': 727, 'stripe': 7365, 'skirt': 7021, 'miracle': 5136, 'jesus': 4392, 'blessed': 1670, 'escalator': 3066, 'quiet': 6291, 'beth': 1613, 'aunt': 1400, 'charlie': 2066, 'helen': 3887, 'no..but': 5463, 'heard': 3871, 'syllabus': 7515, 'panasonic': 5783, 'bluetoothhdset': 1692, 'doublemins': 2826, 'doubletxt': 2827, 'contract': 2337, '7.30pm': 793, 'poyyarikatur': 6087, 'kolathupalayam': 4576, 'unjalur': 8070, 'erode': 3057, 'hero': 3918, 'apt': 1290, 'opportunity.pls': 5679, 'kerala': 4520, 'terrible': 7627, 'fan': 3204, 'meat': 5044, 'supreme': 7465, 'told..she': 7824, 'regret': 6445, 'cudnt': 2470, 'call.drove': 1915, 'frm': 3465, 'ctla': 2459, 'home.left': 3989, 'car..ente': 1974, 'ishtamayoo': 4303, 'bakrid': 1480, 'exe': 3130, 'know..wait': 4568, 'glorious': 3618, 'anniversary': 1218, 'j': 4342, 'prey': 6154, 'coaxing': 2212, 'image': 4153, 'fond': 3367, 'souveniers': 7172, 'cougar-pen': 2379, 'secretly': 6778, '09065394514': 279, 'datebox1282essexcm61xn': 2543, '150p/min': 397, 'pattern': 5838, 'throat': 7738, 'scratch': 6754, 'plm': 5985, 'asleep': 1353, 'foreign': 3386, 'stamp': 7272, 'lecture': 4679, 'no.1': 5468, 'sheffield': 6883, 'nanny': 5342, 'raise': 6316, 'zoe': 8778, 'shitin': 6905, 'defo': 2602, 'hardest': 3828, 'million': 5116, 'lekdog': 4688, 'setting': 6838, 'filling': 3278, 'loverboy': 4844, 'blanket': 1664, 'sufficient': 7424, 'thx': 7752, \"'its\": 11, 'nyt': 5561, 'edison': 2946, 'rightly': 6566, 'fool': 3374, 'speechless': 7196, 'during': 2899, 'viva': 8243, 'gm': 3621, 'gn': 3624, 'gnt': 3626, 'atten': 1385, 'roast': 6587, 'i\\x92d': 4337, '09058097218': 238, 'ls15hb': 4858, 'concentrate': 2293, 'educational': 2950, 'flirting': 3338, 'chatting': 2076, 'walked': 8300, 'doesn\\x92t': 2785, 'serious': 6830, 'kickoff': 4534, 'euro': 3080, 'june': 4447, '3rd': 617, 'data': 2541, 'analysis': 1201, 'thesis': 7699, 'belligerent': 1594, 'hiya': 3956, 'april': 1288, 'rudi': 6629, 'snoring.they': 7095, 'drunk': 2874, 'sends': 6814, 'ink': 4224, '515': 716, 'throwing': 7742, 'deciding': 2581, 'eastenders': 2931, 'flower': 3345, 'compare': 2267, 'herself': 3920, 'violet': 8229, 'tulip': 7963, 'f': 3172, 'lily': 4728, '84025': 871, 'wkent/150p16': 8508, 'technical': 7596, 'support': 7461, 'process.networking': 6192, 'days.so': 2551, 'prepared': 6130, 'finalise': 3284, 'visit.need': 8238, 'www.flirtparty.us': 8610, 'replys150': 6497, 'bitch': 1651, 'dentist': 2627, '09058091854': 225, 'revealed': 6547, 'box385': 1753, 'm6': 4902, '6wu': 786, 'bathing': 1523, '09050003091': 218, 'c52': 1900, 'xchat': 8659, 'lul': 4876, 'juicy': 4440, 'nurse': 5546, 'shes': 6887, 'obese': 5573, 'oyea': 5758, 'oi': 5614, 'ami': 1180, 'parchi': 5803, 'kicchu': 4531, 'kaaj': 4482, 'korte': 4581, 'iccha': 4113, 'korche': 4578, 'tul': 7962, 'sculpture': 6763, 'convey': 2344, 'regard': 6440, 'surya': 7480, 'vijay': 8218, 'pokkiri': 6024, 'dearer': 2572, 'dem': 2619, 'attraction.i': 1391, 'me.she': 5035, 'thoughts.i': 7730, 'her.she': 3913, 'dream.love': 2848, 'breath': 1788, 'name.my': 5335, 'her.my': 3912, 'her.i': 3910, 'her.will': 3914, 'sorrows.i': 7154, 'fight': 3270, 'craziest': 2417, 'her.love': 3911, 'proove': 6216, 'planet.i': 5963, 'singing': 6990, 'praise': 6102, 'curry': 2483, 'makiing': 4947, 'sambar.life': 6689, 'then.will': 7688, 'lot..will': 4823, \"fr'ndship\": 3420, 'needle': 5381, 'evn': 3108, 'itz': 4329, '4few': 675, 'alwys': 1172, 'conected': 2303, 'spatula': 7184, 'sipix': 6994, 'digital': 2710, '09061221061': 245, '28days': 509, 'box177': 1748, 'm221bp': 4897, '2yr': 565, 'warranty': 8325, 'p': 5761, 'p£3.99': 6272, '09061790121': 258, 'doctor': 2776, 'complexity': 2281, 'freely': 3442, 'tax': 7575, 'outrageous': 5731, 'tomorro': 7834, 'ryder': 6648, 'unsold.now': 8084, 'subscriber': 7405, 'receipt': 6396, 'elvis': 2989, 'presley': 6140, 'fret': 3453, 'strip': 7364, 'postal': 6070, 'address.u': 1036, 'alright.okay': 1161, 'cliff': 2184, 'ne': 5364, 'interesting': 4253, 'wrking': 8576, 'uni': 8060, 'depressed': 2635, 'sittin': 7002, 'wind': 8472, 'black': 1655, 'aiyah': 1116, 'information': 4216, 'o2': 5567, 'onto': 5659, 'www.urawinner.com': 8644, 'surprise': 7475, 'awaiting': 1427, 'hen': 3905, 'italian': 4319, 'grin': 3721, 'smoked': 7077, 'math': 5001, 's..first': 6652, 'time..dhoni': 7770, 'teju': 7601, 'hourish': 4033, 'ground.amla': 3730, 'durban': 2897, 'convenience': 2340, 'evaluation': 3084, '449050000301': 659, '09050000301': 209, 'speed': 7197, 'speedchat': 7198, '80155': 838, 'swap': 7490, 'chatter': 2075, 'chat80155': 2073, 'rcd': 6349, 'cancel': 1957, 'cheyyamo': 2104, '08000776320': 82, 'ok.ok': 5621, 'ok..then..whats': 5620, 'aiyar': 1117, 'survey': 7479, '80160': 839, 'www.txt43.com': 8641, '1.50p': 329, 'catching': 2015, 'hmv1': 3969, 'error': 3060, 'difficulty': 2706, 'howz': 4047, 'tau': 7572, 'sar': 6699, 'piah': 5926, '1stchoice.co.uk': 444, '08707808226': 126, 'wearing': 8357, 'film': 3279, 'hg/suite342/2lands/row/w1j6hl': 3928, 'shade': 6855, 'copied': 2359, 'notified': 5516, 'luck': 4867, 'marketing': 4982, '84122': 872, '08450542832': 100, 'raining': 6315, 'station': 7294, 'tank': 7560, '4fil': 676, 'sexual': 6848, 'theirs': 7681, 'cute': 2493, '69911': 774, '£1.50p': 8795, 'sitter': 7001, 'kaitlyn': 4486, 'danger': 2527, 'peep': 5860, 'comment': 2258, 'veggie': 8187, 'neighbor': 5388, 'computerless': 2289, 'balloon': 1484, 'pass.they': 5824, 'silently': 6975, 'nt.swt': 5533, 'drms': 2865, 'wrc': 8566, 'rally': 6326, 'oz': 5760, 'lucozade': 4871, 'energy': 3015, '61200': 751, 'pack': 5765, 'lucozade.co.uk/wrc': 4872, 'itcould': 4320, 'melody': 5063, 'horrible': 4021, 'toot': 7858, 'bigger': 1631, 'nw': 5555, 'hme': 3961, 'island': 4304, 'chennai': 2097, 'velachery': 8189, 'flippin': 3336, 'breaking': 1787, 'cstore': 2454, 'annoying': 1223, 'hangin': 3809, 'makin': 4948, 'alive.better': 1143, 'lodge': 4779, 'worrying': 8553, 'shame': 6866, 'popcorn': 6049, 'jordan': 4427, 'celeb': 2030, 'pocketbabe.co.uk': 6016, '£3/wk': 8823, '087016248': 112, 'voicemail': 8252, '08719181503': 202, 'thin': 7707, 'fed': 3237, 'himso': 3943, '2go': 528, 'thanx.xx': 7662, 'neft': 5384, 'credited': 2426, 'beneficiary': 1604, 'na-tuition': 5323, 'understanding': 8048, 'choice': 2140, 'enter': 3031, 'www.ldew.com.subs16+1win150ppmx3': 8616, 'appreciated': 1278, 'semi': 6808, 'apart': 1253, 'delivered': 2614, 'exp': 3141, '30apr': 579, 'strong': 7367, 'arm': 1314, 'maaaan': 4908, 'guessin': 3755, 'walmart': 8307, 'ilol': 4151, 'personally': 5893, 'wuldnt': 8590, 'mite': 5157, 'creepy': 2428, 'lunchtime': 4878, 'organise': 5702, '08719181513': 203, 'k..k..i': 4464, 'complete': 2276, 'passable': 5825, 'phd': 5909, '5years': 738, 'easier': 2927, 'nok': 5479, '87021': 889, 'txtin': 7989, '150p/tone': 408, '4info': 681, 'prakesh': 6105, 'apps': 1285, 'rofl': 6595, 'betta': 1614, 'invest': 4268, 'anti': 1235, 'aging': 1093, 'product': 6195, '1hr': 438, 'delay': 2607, 'accommodation': 996, 'various': 8175, 'global': 3617, 'www.phb1.com': 8622, 'ph:08700435505150p': 5905, 'submitting': 7400, '84128': 873, 'www.textcomp.com': 8637, '08712405020': 149, 'snatch': 7090, 'purse': 6262, 'drivby-:0quit': 2859, 'edrunk': 2948, 'iff': 4135, 'pthis': 6241, 'senrd-dnot': 6816, 'dancce': 2521, 'drum': 2873, 'basq': 1517, 'ihave': 4141, '2nhite': 545, 'ro': 6585, 'xxxxxxx': 8675, 'morn': 5224, 'relieved': 6457, 'westonzoyland': 8411, 'greatness': 3715, 'europe': 3083, 'nobody': 5473, 'chinese': 2132, 'doc': 2774, 'havin': 3853, 'goin2bed': 3643, 'only1more': 5657, 'mc': 5023, 'hun': 4072, '2nite-tell': 548, 'every1': 3094, 'ava': 1409, 'goodtime': 3666, 'oli': 5636, 'rang': 6334, 'melnite': 5062, 'ifink': 4136, 'sorted': 7159, 'everythin': 3101, 'mon.l8rs.x': 5203, '08712402779': 145, 'flip': 3335, 'shun': 6953, 'bian': 1627, 'glass': 3615, 'exhibition': 3136, 'el': 2973, 'nino': 5445, 'himself': 3942, 'chikku..going': 2116, 'cbe': 2022, 'honey': 3997, 'jd': 4375, 'executive': 3131, 'picked': 5929, 'downstem': 2836, '08718730555': 194, 'wahala': 8283, 'inperialmusic': 4231, 'listening2the': 4755, 'weirdest': 8387, 'by\\x94leafcutter': 1895, 'john\\x94-sounds': 4412, 'insect': 4234, 'molested': 5199, 'plumbing': 5991, 'remixed': 6475, 'evil': 3107, 'acid': 1009, 'didntgive': 2693, 'bellearlier': 1593, 'bedbut': 1565, 'thepub': 7692, 'l8tr': 4596, 'uwana': 8153, 'jenxxx': 4385, 'exact': 3120, '09096102316': 311, '2moro': 536, 'jane': 4360, 'calls£1/minmoremobsemspobox45po139wa': 1942, 'tee': 7598, 'cheery': 2092, 'cell': 2034, 'thts': 7747, 'dough': 2830, 'control': 2339, '80488.biz': 843, 'weirdo': 8388, 'mode': 5190, 'stalk': 7270, 'profile': 6199, 'jerry': 4389, 'irritates': 4293, 'fails': 3186, 'express': 3161, 'she.s': 6881, 'drinkin': 2857, 'wondering': 8530, 'others': 5714, 'dog': 2786, 'tour': 7883, '9am': 941, '5pm': 732, '95/pax': 936, 'deposit': 2633, 'jap': 4364, 'disappeared': 2735, 'birthdate': 1647, 'certificate': 2043, 'publish': 6245, 'nydc': 5560, 'wheellock': 8424, 'destination': 2653, 'fifty': 3269, 'favour': 3228, 'settling': 6841, 'happenin': 3817, 'ola': 5631, 'cocksucker': 2217, 'ipads': 4283, 'worthless': 8557, 'garbage': 3537, 'novelty': 5521, 'item': 4321, 't-shirt': 7526, 'fran': 3422, 'broke': 1815, 'knackered': 4559, 'janx': 4363, 'p.s': 5762, 'designation': 2645, 'software': 7108, 'developer': 2664, 'jamster': 4355, 'videosound': 8215, 'gold': 3646, 'videosounds+2': 8216, 'logos+musicnews': 4789, 'jamster.co.uk': 4356, '16+only': 420, '09701213186': 319, 'lion': 4743, 'lionm': 4744, 'lionp': 4745, 'www.ringtones.co.uk': 8625, 'original': 5706, '3gbp': 607, 'jokin': 4420, 'spirit': 7215, 'bb': 1531, 'shattered': 6876, 'alrite': 1162, 'idiot': 4128, 'girlie': 3605, 'darker': 2532, 'styling': 7393, 'whenevr': 8428, 'gray': 3707, 'remembr': 6468, 'listn': 4756, 'watevr': 8342, '“': 8854, 'harry': 3834, 'potter': 6078, 'phoenix': 5915, 'among': 1187, 'reader': 6367, 'shd': 6879, 'minus': 5133, 'paragraph': 5800, 'coveragd': 2398, 'vasai': 8178, \"4'o\": 623, 'retard': 6539, 'bathroom': 1524, 'sang': 6694, \"'uptown\": 27, '80': 830, 'february': 3236, 'rush': 6642, 'icic': 4115, 'syria': 7520, 'canada': 1954, 'goodnoon': 3664, 'gauge': 3545, 'patty': 5839, 'interest': 4251, 'monday..nxt': 5205, 'vl': 8246, 'completing': 2280, 'ax': 1436, 'chill': 2126, '6hrs': 779, 'surgical': 7472, 'emergency': 2998, 'unfolds': 8055, 'married': 4987, 'frens': 3449, 'korean': 4579, 'fredericksburg': 3432, 'que': 6283, 'un': 8031, 'buen': 1845, 'tiempo': 7758, 'chillin': 2128, 'super': 7453, 'free2day': 3437, 'george': 3578, '89080': 911, 'saucy': 6718, '0870241182716': 115, 'tmrw': 7797, 'compass': 2268, 'soul': 7163, 'gnun': 3627, 'way2sms.com': 8349, 'baaaaabe': 1457, 'youuuuu': 8753, 'ned': 5375, 'convince': 2346, 'tht': 7746, 'witot': 8501, 'hurting': 4086, 'main': 4942, 'sweetie': 7502, 'blackberry': 1657, 'buyer': 1881, '4a': 671, 'pple': 6089, 'marry': 4988, 'becz': 1563, 'undrstndng': 8052, 'avoids': 1425, 'chain': 2047, 'suffer': 7421, 'whn': 8441, 'arrested': 1325, 'suntec': 7451, 'steamboat': 7306, 'dance': 2522, 'moji': 5196, 'forgive': 3392, 'messenger': 5094, 'reaching': 6363, 'tp': 7890, 'fantasy': 3208, '08707509020': 124, '20p': 477, '1327': 385, 'croydon': 2441, 'cr9': 2405, '5wb': 734, '0870..k': 105, 'bbq': 1536, '6ish': 780, 'everyso': 3100, 'panicks': 5786, 'fill': 3276, 'write': 8571, 'cover': 2397, 'screen': 6759, 'gently': 3574, 'bear': 1552, 'nick': 5426, 'tom': 7829, 'fact': 3179, 'upload': 8104, '08718730666': 195, 'auntie': 1401, 'huai': 4059, 'juan': 4438, '1/2': 336, 'linerental': 4738, 'call2optout/lf56': 1924, 'tlk': 7791, 'ideal': 4125, 'path': 5834, 'appear': 1267, 'front': 3480, 'walking': 8302, 'shot': 6929, 'reserve': 6511, 'thirunelvali': 7716, 'tirunelvali': 7781, 'net..no': 5395, 'available..i': 1412, 'tackle': 7533, 'storming': 7345, 'phne': 5914, 'wt': 8583, 'meaning': 5038, 'margaret': 4978, 'girlfrnd': 3604, 'grahmbell': 3692, 'invnted': 4274, 'telphone': 7610, 'moral': 5221, '4get': 677, 'popped': 6050, 'tonght': 7844, 'ploughing': 5986, 'pile': 5940, 'ironing': 4291, 'chinky': 2133, 'k.i': 4470, 'wi': 8450, 'nz': 5564, 'unsold': 8082, 'aust': 1403, 'bk': 1654, 'cafe': 1905, 'recharged': 6408, 'kidding': 4536, 'papa': 5793, 'shld': 6910, 'stretch': 7359, 'detailed': 2656, 'sinco': 6986, 'payee': 5847, 'icicibank.com': 4116, 'urn': 8126, 'beware': 1620, 'fraud': 3427, 'share': 6873, 'disclose': 2740, 'vote': 8258, 'caring': 1989, 'loser': 4816, 'kaiez': 4484, 'tuition': 7961, 'option': 5688, 'beta': 1612, 'practicing': 6099, 'k..k..any': 4463, 'noncomittal': 5487, 'beneath': 1603, 'pale': 5779, 'goodnite': 3663, '150p/msgrcvdhg/suite342/2lands/row/w1j6hl': 401, 'snickering': 7093, 'totally': 7877, 'chord': 2144, 'no..few': 5464, 'before.went': 1578, 'rem': 6461, 'silver': 6977, 'lmao': 4769, 'silence': 6973, 'www.ldew.com': 8615, 'win150ppmx3age16': 8471, 'revision': 6551, 'boyf': 1765, 'interviw': 4260, 'exeter': 3133, 'spreadsheet': 7244, 'whose': 8447, 'determine': 2658, 'entire': 3037, 'arsenal': 1330, 'dartboard': 2538, 'treble': 7923, 'coat': 2211, 'painful': 5775, 'everybody': 3095, 'recognises': 6412, 'alone': 1155, 've': 8184, 'wisheds': 8489, 'intrepid': 4263, 'duo': 2896, 'missin': 5147, 'guilty': 3760, 'aiya': 1115, 'cardiff': 1977, 'addie': 1033, 'tues': 7958, 'breeze': 1793, 'bright': 1799, 'fresh': 3451, 'twittering': 7982, 'restaurant': 6529, 'textpod': 7647, 'pod': 6018, 'www.textpod.net': 8638, 'ducking': 2885, 'chinchilla': 2131, 'function': 3501, 'headstart': 3864, '2.30ish': 458, 'desperate': 2650, 'earlier-we': 2921, 'rummer': 6636, 'flying': 3353, 'monkey': 5210, 'certainly': 2042, 'optin': 5687, 'bbc': 1532, 'thanks2': 7657, 'rajini': 6321, 'practical': 6097, 'stupid.its': 7391, 'matched': 4999, 'optout': 5689, 'help08714742804': 3897, 'spy': 7250, 'claire': 2164, '2nite': 547, '09099725823': 312, 'bought': 1739, 'costing': 2374, 'offering': 5598, 'yalru': 8686, 'lyfu': 4890, 'astne': 1364, 'innu': 4230, 'mundhe': 5286, 'lyf': 4889, 'ali': 1139, 'halla': 3794, 'ke': 4510, 'bilo': 1639, 'program': 6201, 'edhae': 2945, 'ovr': 5746, 'chikku..ali': 2115, 'vargu': 8174, 'meow': 5077, 'twelve': 7975, 'aah': 954, '09066362231': 289, '07xxxxxxxxx': 79, '02/06/03': 39, 'prone': 6214, '07801543489': 68, 'no:83355': 5471, 'tc-llc': 7583, 'ny-usa': 5558, '150p/mt': 402, 'msgrcvd18': 5261, 'lucy': 4873, 'hubby': 4060, 'meetins': 5055, 'cumin': 2474, '09099726395': 313, 'calls£1/minmobsmorelkpobox177hp51fl': 1941, '7th': 818, '6th': 784, '5th': 733, '4th': 687, 'personality': 5892, 'nature': 5355, 'dose': 2821, 'tablet': 7532, 'incomm': 4190, 'blake': 1660, \"doesn\\\\'t\": 2783, 'lotr': 4825, 'keeping': 4514, 'google': 3668, 'tiring': 7779, 'concentrating': 2294, 'browsin': 1827, 'compulsory': 2286, 'purity': 6259, 'message..its': 5085, 'musthu': 5298, 'investigate': 4269, '80488': 842, 'www.80488.biz': 8595, 'vomit': 8255, 'aint': 1110, 'sha': 6854, 'vitamin': 8242, 'centre': 2037, 'crucial': 2442, 'jsco': 4434, '2channel': 518, 'leadership': 4666, 'skill': 7014, 'psychic': 6237, 'w/question': 8268, 'host-based': 4024, 'idp': 4130, 'linux': 4742, '0870': 104, 'total': 7876, 'converter': 2343, 'along': 1156, 'karaoke': 4500, 'testing': 7633, 'sayy': 6731, 'loved': 4839, 'except': 3124, 'nit': 5447, 'leanne.what': 4671, 'eight': 2968, 'format': 3401, 'disc': 2739, 'internet': 4257, 'hows': 4045, 'champ': 2050, 'glasgow': 3614, 'lovin': 4845, 'arrive': 1327, 'shortly': 6928, 'install': 4240, 'browse': 1825, 'artist': 1332, 'corect': 2362, 'speling': 7200, 'i.e': 4101, 'sarcasm': 6702, '1/08/03': 334, '0871-4719-523': 131, 'forum': 3406, 'ron': 6602, 'ct': 2455, 'employee': 3003, 'nike': 5439, 'sooo': 7148, 'screaming': 6758, 'shouting': 6935, 'dang': 2526, 'unfortunately': 8056, 'airport': 1113, '7250i': 800, 'auction': 1394, '86021': 884, 'row/w1jhl': 6613, 'difficult': 2705, 'earliest': 2922, 'nordstrom': 5498, 'konw': 4577, 'waht': 8288, 'rael': 6309, 'gving': 3768, 'yuo': 8765, 'exmpel': 3138, 'jsut': 4437, 'ese': 3068, 'tihs': 7763, 'evrey': 3113, 'splleing': 7226, 'wrnog': 8579, 'sitll': 7000, 'raed': 6308, 'wihtuot': 8461, 'ayn': 1439, 'mitsake': 5158, 'sleep..sweet': 7032, 'conference': 2304, 'www.orange.co.uk/ow': 8621, 'degree': 2603, 'joining': 4417, 'finance': 3286, 'prospect': 6223, 'bleak': 1666, 'filled': 3277, 'shant': 6871, 'jia': 4398, 'bishan': 1649, 'nearer': 5367, 'sux': 7482, 'raiden': 6312, 'buff': 1846, 'south': 7170, 'preferably': 6123, 'kegger': 4515, 'tote': 7878, 'pierre': 5936, 'cardin': 1978, 'rhythm': 6558, 'establish': 3075, 'truro': 7943, 'ext': 3163, 'gas': 3542, 'gang': 3534, 'adventure': 1054, 'cloth': 2193, 'pack.also': 5766, 'sunroof': 7448, 'excellent': 3123, 'finishing': 3298, 'wifi': 8460, 'blanked': 1663, 'rumour': 6637, 'kalainar': 4488, 'office.thenampet': 5602, '7250': 799, 'nosy': 5507, 'idk': 4129, 'reacting': 6364, 'freaked': 3429, 'whom': 8445, 'satanic': 6710, 'imposter': 4171, 'me.need': 5033, 'it.may': 4317, 'destiny': 2654, 'companion': 2265, 'chef': 2096, 'listener': 4753, 'organizer': 5703, 'boyfriend': 1766, 'sympathetic': 7517, 'athletic': 1373, 'courageous': 2392, 'determined': 2659, 'dependable': 2630, 'psychologist': 6238, 'pest': 5897, 'exterminator': 3164, 'psychiatrist': 6236, 'healer': 3867, 'stylist': 7395, 'driver': 2861, 'aaniye': 955, 'pudunga': 6246, 'venaam': 8192, 'brothas': 1820, 'chasing': 2070, 'chez': 2105, 'jules': 4441, 'hhahhaahahah': 3929, 'nig': 5429, 'leonardo': 4694, 'john': 4411, '2years': 564, 'strain': 7350, 'dime': 2713, 'withdraw': 8496, 'anyhow': 1239, 'falling': 3198, 'force': 3383, 'smeone': 7068, 'miller': 5115, 'fire': 3301, 'spark': 7182, 'flame': 3325, 'rawring': 6344, 'xoxo': 8663, 'somewhr': 7134, 'crush': 2446, 'honeymoon': 3999, 'outfit': 5727, 'propose': 6221, '08719899230': 207, 'blame': 1661, 'cheque': 2098, 'olympics': 5640, 'leo': 4692, 'k.then': 4477, 'done/want': 2808, 'haul': 3841, 'wildlife': 8466, 'want2come': 8315, 'that2worzels': 7668, 'wizzle': 8504, 'dippeditinadew': 2726, 'lovingly': 4847, 'itwhichturnedinto': 4327, 'gifted': 3597, 'tomeandsaid': 7832, 'shanghai': 6869, 'instead': 4245, 'cya': 2501, 'freezing': 3445, '645': 759, 'rt-king': 6622, 'pro': 6177, 'ringtoneking.co.uk': 6574, '08701237397': 108, 'redeemable': 6422, 'www.ringtoneking.co.uk': 8624, 'thnx': 7723, 'sef': 6793, 'anjie': 1214, 'batch': 1519, 'fring': 3463, 'flaky': 3324, 'sooooo': 7150, 'laughing': 4649, 'winning': 8481, 'tooo': 7857, \"'simple\": 22, 'nte': 5534, '09058094599': 234, 'confuses': 2313, 'doesn': 2782, 'wating': 8343, '250': 496, 'british': 1810, 'london': 4795, '02072069400': 43, 'bx': 1888, '526': 719, 'sw73ss': 7486, '6pm': 783, 'animal': 1212, 'buzz': 1885, 'adoring': 1046, 'eerie': 2955, 'title': 7784, 'dracula': 2840, 'ghost': 3593, 'addamsfa': 1030, 'munsters': 5287, 'exorcist': 3140, 'twilight': 7979, 'brought': 1822, 'shiny': 6897, 'warming': 8321, 'constant': 2326, 'cared': 1984, 'surprised': 7476, 'french': 3448, 'fooled': 3375, '0a': 320, 'allow': 1151, 'responsible': 6527, 'supplier': 7459, 'guarantee': 3745, 'comedy..cant': 2250, 'feelin': 3242, 'lnly': 4770, 'jst': 4435, 'moby': 5189, '82242': 851, 'msg150p': 5259, '2rcv': 553, 'hlp': 3959, '08712317606': 140, 'keen': 4511, 'switch': 7509, 'dammit': 2518, 'wright': 8570, 'fly': 3351, 'somewhat': 7131, 'event': 3090, 'laden': 4607, 'wrecked': 8567, 'spontaneously': 7233, 'goodevening': 3658, 'bag..i': 1474, 'lei': 4687, 'action': 1019, '80608': 844, 'www.movietrivia.tv': 8619, '08712405022': 150, 'waking': 8295, 'partnership': 5819, 'rgent': 6556, 'lookin': 4805, 'daytime': 2554, 'busty': 1872, '09099726429': 314, 'janinexx': 4361, 'mostly': 5231, 'inside': 4237, 'spageddies': 7177, 'phasing': 5908, 'fourth': 3414, 'dimension': 2714, 'yes..but': 8714, 'meaningful': 5039, 'compromised': 2285, 'mornin': 5225, '09050001295': 215, 'a21': 951, 'monthly': 5217, 'mobsi.com': 5187, '391784': 602, 'dub': 2882, 'je': 4376, 'toughest': 7882, 'unspoken': 8085, '£6': 8839, 'sight': 6965, 'remain': 6462, 'maintain': 4943, 'sh': 6853, 'jas': 4366, 'squatting': 7252, 'cramp': 2410, '0089': 33, 'digit': 2709, 'received': 6400, '09063442151': 262, 'ringtone-get': 6572, 'free-send': 3436, 'week-stop': 8378, 'sms-08718727870': 7081, 'nan': 5340, 'sonathaya': 7137, 'soladha': 7112, 'raping': 6338, 'poker': 6022, 'weightloss': 8385, 'mushy': 5293, 'embarrassed': 2995, 'stash': 7291, 'ran': 6329, 'priya': 6172, 'ordered': 5698, '81303': 849, 'father': 3220, 'messy': 5095, 'kilo': 4542, 'accidant': 993, 'tookplace': 7855, 'ghodbandar': 3592, 'rd': 6353, 'traffic': 7895, 'slovely': 7050, 'slip': 7044, 'ah.now': 1098, 'wkg': 8509, 'nu': 5537, 'sc': 6732, 'specialise': 7192, 'wad': 8280, 'dislike': 2749, 'queen': 6284, 'desparately': 2649, 'fren': 3447, 'gotten': 3679, 'stereo': 7310, 'mi': 5101, 'unknown': 8072, 'album': 1127, '121': 373, '60p/min': 750, 'connect': 2316, '09094646899': 309, 'vu': 8265, 'bcm1896wc1n3xx': 1541, 'classmate': 2172, 'fires.are': 3305, '2007': 474, 'pre-book': 6116, 'trackmarque': 7892, 'vipclub4u': 8231, 'missionary': 5150, 'hook': 4005, 'standing': 7276, 'entertaining': 3035, 'hugh': 4065, 'laurie': 4651, 'stick': 7318, 'indeed': 4199, 'praps': 6106, 'jon': 4424, 'bin': 1641, 'spain': 7178, 'dinero': 2718, '\\x91rents': 8784, '12,000pes': 371, '£48': 8829, 'james': 4354, \"'maangalyam\": 15, 'alaipayuthe': 1125, 'complaining': 2273, 'mandy': 4964, 'sullivan': 7434, 'hotmix': 4030, 'fm': 3355, 'chosen': 2146, '£5000.00': 8836, 'easter': 2932, 'telephone': 7603, '09041940223': 208, '29/03/05': 512, 'transferred': 7906, 'finn': 3300, 'di': 2676, 'bahamas': 1475, 'callfreefone': 1933, '08081560665': 94, 'cruise': 2444, 'of£2000': 5610, '18+only': 426, '07786200117': 65, 'calm': 1943, 'downon': 2835, 'theacusations': 7675, 'itxt': 4328, 'iwana': 4333, 'wotu': 8559, 'thew/end': 7702, 'haventcn': 3851, 'ages..ring': 1091, 'up4': 8095, 'nething': 5398, 'sat.love': 6709, 'dine': 2716, 'conacted': 2292, '09111030116': 317, 'pobox12n146tf15': 6003, 'i\\x92m': 4340, 'v.tired': 8159, 'social': 7105, 'inspection': 4238, 'nursery': 5547, 'details..i': 2657, 'you.my': 8739, 'slowly': 7054, 'becomes': 1561, 'habit': 3776, 'follow': 3362, 'it..mail': 4315, 'panren': 5787, 'paru': 5821, 'chuckin': 2153, 'trainners': 7899, 'carryin': 1998, 'bac': 1465, 'schedule': 6741, 'dhanush': 2672, 'needing': 5380, 'stuck': 7376, 'chikku..simple': 2119, 'habba..hw': 3775, 'dileep.thank': 2712, 'muchand': 5272, 'venugopal': 8193, 'mentioned.tomorrow': 5073, 'there.goodnight': 7695, 'remembrs': 6469, 'forgets': 3391, 'everytime': 3103, 'mandan': 4962, '07734396839': 61, 'ibh': 4105, 'nokia6600': 5482, 'no:81151': 5470, 'regarding': 6441, '3230': 589, 'textbook': 7640, 'algorithm': 1138, 'edition': 2947, 'selling': 6805, 'bun': 1856, 'adore': 1045, 'invader': 4266, 'orig': 5705, 'arcade': 1297, 'console': 2325, '0': 31, 'o2.co.uk/games': 5568, '09064018838': 271, 'cro1327': 2436, 'atlanta': 1375, 'recharge': 6406, 'created': 2422, 'holding': 3979, 'arun': 1335, 'transfr': 7907, 'takin': 7547, 'philosophy': 5913, '4u.i': 693, 'didn\\x92t': 2694, 'intend': 4249, 'iwas+marine': 4334, 'itried2tell': 4325, 'urmom.i': 8125, 'careabout': 1983, 'foley': 3360, 'exciting': 3127, 'www.win-82050.co.uk': 8646, 'desparate': 2648, 'learned': 4673, 'fake': 3191, 'answering': 1231, 'iraq': 4287, 'afghanistan': 1068, 'stable': 7263, 'honest': 3994, 'traveling': 7914, 'bless.get': 1669, '1225': 374, '£50award': 8837, '3100': 584, 'pai': 5771, 'seh': 6794, 'beer': 1573, 'combine': 2246, 'walsall': 8308, 'tue': 7957, 'terry': 7629, 'jess': 4391, 'sian': 6958, 'ccna': 2025, 'shrek': 6946, 'dirty': 2732, 'fellow': 3248, 'dying': 2906, 'lifting': 4717, 'teresa': 7623, 'package': 5767, 'dec': 2576, \"you'ld\": 8738, 'bam': 1485, 'usmle': 8142, 'squishy': 7256, 'mwahs': 5304, 'hottest': 4031, 'g696ga': 3519, 'prominent': 6206, 'cheek': 2089, 'september': 6827, 'husband': 4087, 'hack': 3777, 'backdoor': 1467, 'fraction': 3421, 'neo69': 5391, '09050280520': 221, 'subscribe': 7402, 'dp': 2838, 'bcm': 1540, '8027': 841, 'norm': 5499, '4.15': 629, 'list': 4749, 'joanna': 4404, 'comingdown': 2256, 'replacement': 6491, 'murali': 5288, 'player.why': 5973, 'sts': 7373, 'engalnd': 3019, 'telly': 7609, 'mia': 5102, 'elliot': 2985, 'kissing': 4554, 'upto': 8112, '12mths': 381, '1/2price': 337, 'x-net': 8651, '100txt/mth': 346, \"b'tooth\": 1446, '08001950382': 86, '2optout/d3wv': 550, 'wipro': 8484, 'matric': 5006, '850': 877, 'toa': 7802, 'payoh': 5850, '650': 760, '08718726970': 188, 'bt-national-rate': 1837, 'payment': 5849, 'fedex': 3238, 'reception': 6404, 'blood.send': 1682, 'hate': 3839, 'consensus': 2319, 'entertain': 3034, 'delete': 2609, 'tag': 7537, 'wednesday': 8373, 'skype': 7024, 'laundry': 4650, 'underwear': 8050, 'bra': 1769, 'strewn': 7360, 'pillow': 5941, 'waheed': 8285, 'fathima': 3221, 'mmmm': 5169, 'push': 6263, \"knee's\": 4561, 'expose': 3159, 'pull': 6247, 'wicked': 8451, 'ready.all': 6371, 'srt': 7259, 'thnk': 7721, 'ps3': 6232, 'jontin': 4426, 'prize.to': 6174, 'nearly': 5368, 'banned': 1494, 'pen': 5863, 'beyond': 1621, 'biro': 1645, 'master': 4995, '09058094594': 232, 'shell': 6885, 'unconsciously': 8041, 'avoiding': 1424, 'unhappy': 8059, 'excuse': 3128, 'jog': 4409, '0776xxxxxxx': 64, '18yrs': 431, '09061743811': 255, 'abta': 979, '326': 591, 'season': 6771, 'lark': 4636, '09090900040': 306, 'extreme': 3167, 'sic': 6960, '60p': 749, '24/7mp': 490, '0870753331018': 125, 'video/pic': 8212, 'fones': 3371, 'wild': 8464, '150p/rcvd': 405, 'stop2stop': 7337, 'uh': 8016, 'lim': 4729, 'vday': 8183, 'parachute': 5797, 'placed': 5957, '80182': 840, '08452810073': 102, 'table': 7531, 'lambda': 4614, 'build': 1850, 'snowman': 7099, 'angel': 1210, 'snowball': 7097, 'ello': 2986, 'ikea': 4143, 'ofice': 5607, 'cn': 2205, 'duffer': 2889, 'grr': 3737, 'prescription': 6136, 'pharmacy': 5907, 'cook': 2350, 'electricity': 2982, '08715500022': 171, 'rpl': 6616, 'cnl': 2206, 'nor': 5495, 'fffff': 3257, 'kadeem': 4483, 'fujitsu': 3494, 'lifebook': 4711, 'scold': 6744, 'zhong': 8776, 'se': 6767, 'qing': 6279, 'act': 1015, '4-6': 625, 'accordingly': 1001, 'hypertension': 4096, 'wud': 8588, 'annoyin': 1222, '08702490080': 116, '09066358152': 284, 'prompt': 6212, 'vpod': 8262, 'carry': 1997, 'disturbing': 2757, 'avatar': 1415, 'nigro': 5438, 'scratching': 6755, 'anyplaces': 1243, 'cleaning': 2176, 'upset': 8109, 'priority': 6167, 'constantly': 2327, 'ecstasy': 2943, '09090204448': 305, 'minded': 5123, 'a£1.50': 1441, 'minapn': 5121, 'ls278bb': 4859, 'hittng': 3955, 'reflex': 6433, 'costa': 2373, 'sol': 7111, '09050090044': 220, 'toclaim': 7807, 'pobox334': 6006, 'stockport': 7328, 'cost£1.50/pm': 2376, 'max10mins': 5014, 'lousy': 4834, 'cat': 2013, '10:10': 349, 'woken': 8522, 'hip': 3945, 'adewale': 1037, 'aka': 1121, 'egbon': 2961, 'min..stand': 5119, 'ic': 4112, 'mary': 4991, 'deduct': 2590, 'wrks': 8577, 'asshole': 1356, 'grab': 3689, 'sliding': 7042, '09065394973': 280, 'payback': 5844, '31': 582, 'honeybee': 3998, 'sweetest': 7500, 'laughed': 4648, 'havnt': 3855, 'crack': 2407, 'gm+gn+ge+gn': 3622, 'tescos': 7630, 'feathery': 3232, 'bowa': 1743, 'infra': 4219, 'nvm': 5553, 'gep': 3579, 'delhi': 2611, 'thinkin': 7711, '2006': 473, 'fifa': 3266, 'held': 3886, '87239': 896, 'boat': 1698, 'shhhhh': 6890, 'related': 6449, 'arul': 1334, 'amk': 1182, '09061743810': 254, 'length': 4690, 'fringe': 3464, 'distract': 2754, 's..antha': 6651, 'corrct': 2365, 'dane': 2525, 'basket': 1515, 'proof': 6215, 'rupaul': 6641, '61610': 752, 'help:08712400602450p': 3900, 'provided': 6227, 'tones2you.co.uk': 7842, 'practising': 6101, 'curtsey': 2484, 'yeh': 8700, 'payed2day': 5846, 'havbeen': 3846, 'a£50': 1442, 'rise': 6580, '4my': 685, 'havebeen': 3848, 'preschoolco-ordinator': 6133, '2i': 533, 'feelingood': 3245, 'memory': 5069, 'mon': 5202, 'converted': 2342, 'yo-here': 8732, 'downloads': 2834, 'african': 1071, 'soil': 7109, 'major': 4945, 'role': 6597, 'outreach': 5732, 'mel': 5060, 'birth': 1646, '8lb': 920, '7oz': 816, 'brilliantly': 1802, 'forwarding': 3409, 'intention': 4250, 'rule': 6633, 'responsibility': 6526, 'bend': 1602, 'thia': 7706, 'inlude': 4225, 'preview': 6151, 'freefone': 3440, '08006344447': 91, 'ambrith..madurai..met': 1178, 'dha': 2671, 'marrge..remembr': 4985, 'kitty': 4557, 'shaved': 6877, 'natural': 5354, 'onwards': 5661, 'tactful': 7535, 'tscs': 7951, 'skillgame,1winaweek': 7016, 'age16.150ppermesssubscription': 1087, 'theatre': 7677, 'obviously': 5578, 'eggs-pert': 2964, 'potato': 6076, 'head…': 3865, 'crammed': 2409, 'satsgettin': 6715, '4.47per': 631, 'lie': 4707, 'apologize': 1262, 'pei': 5862, 'boost': 1721, 'subtoitles': 7410, 'sitting': 7003, 'jot': 4430, 'store.like': 7344, 'cereal': 2040, 'gari': 3539, 'infernal': 4212, 'affair': 1063, 'including': 4188, 'bold2': 1705, 'calicut': 1912, '09094100151': 307, 'cast': 2009, 'aom': 1252, 'gbp5/month': 3557, 'box61': 1759, 'm60': 4903, '1er': 437, 'thkin': 7719, 'nd': 5363, 'parco': 5804, 'nb': 5361, 'resubbing': 6534, 'shadow': 6856, 'breadstick': 1782, 'ahmad': 1104, 'saeed': 6668, 'hallaq': 3795, '09066362220': 288, 'box97n7qp': 1761, 'purple': 6260, 'pink': 5945, 'lyk': 4892, 'yelow': 8703, 'bck': 1539, 'brown': 1823, 'giv': 3607, 'color': 2239, 'arranging': 1324, 'eldest': 2980, 'drugdealer': 2872, 'gender': 3566, 'wither': 8497, 'e.g.23f': 2914, 'e.g.23g': 2915, 'sleepwell': 7037, 'wondarfull': 8527, 'messages-text': 5090, 'web2mobile': 8362, 'txt250.com': 7986, '1.50p/wk': 330, 'box139': 1747, 'la32wu': 4600, 'txtx': 7995, 'normally': 5502, 'hun-onbus': 4073, 'donyt': 2814, 'latelyxxx': 4643, '85233': 881, 'mca': 5024, 'rich': 6560, 'justthought': 4455, 'sayhey': 6728, 'endof': 3012, 'offdam': 5594, 'nevamind': 5403, '2hook': 531, 'uwant': 8154, 'm8': 4904, 'official': 5604, 'flag': 3322, 'yer': 8707, '84199': 874, 'eng': 3016, 'box39822': 1754, 'w111wx': 8269, 'yor': 8735, 'stressed': 7356, 'jason': 4367, 'soooo': 7149, 'provider': 6228, 'tming': 7794, 'cutest': 2495, 'dice': 2682, 'art': 1331, 'inclusive': 4189, 'help:08700469649': 3899, 'box420': 1756, 'ip4': 4280, '5we': 735, 'howda': 4042, 'mathe': 5002, 'samachara': 6687, 'audrie': 1398, 'autocorrect': 1407, 'simulate': 6984, 'readiness': 6368, 'armand': 1315, 'and/or': 1204, 'vomiting': 8257, 'rub': 6626, 'foot': 3376, 'lara': 4632, 'clever': 2182, 'attach': 1381, '087123002209am-7pm': 139, 'med': 5047, 'stamped': 7273, '113': 362, 'bray': 1778, 'wicklow': 8453, 'eire': 2971, 'washob': 8327, 'nobbing': 5472, 'nickey': 5427, 'platt': 5968, 'ryan': 6647, 'vikky': 8220, 'www.idew.com': 8614, 'skillgame': 7015, '1winaweek': 448, '150ppermesssubscription': 411, 'mad': 4919, 'argh': 1306, 'spotty': 7241, 'province': 6229, 'sterling': 7312, 'problem-free': 6181, 'looked': 4804, 'xam': 8657, 'hall': 3793, 'manage': 4956, 'hesitation': 3923, 'intha': 4261, 'ponnungale': 6039, 'ipaditan': 4282, 'rejected': 6448, 'shitload': 6907, 'diamond': 2680, 'tessy..pls': 7631, 'favor': 3226, 'nimya..pls': 5443, 'shijas': 6892, 'china': 2129, 'noisy': 5477, 'needa': 5377, 'mcat': 5025, 'manual': 4970, 'process': 6190, 'reset': 6513, 'troubleshooting': 7935, 'b4u': 1453, 'w/c': 8267, '27/03': 504, 'marsms': 4989, 'www.b4utele.com': 8599, '08717168528': 174, 'strongly': 7369, 'sacrifice': 6665, 'beg': 1580, 'expecting': 3144, 'creativity': 2424, 'stifled': 7320, 'morphine': 5228, 'requirement': 6505, 'stayin': 7298, 'he\\x92s': 3926, '2getha': 526, 'buffy': 1848, 'satisfy': 6714, 'pix': 5951, 'qlynnbv': 6280, 'help08700621170150p': 3896, '8-8:30': 824, 'cld': 2174, 'prefer': 6122, 'nosh': 5506, 'waaaat': 8279, 'lololo': 4793, 'occupied': 5580, 'kindly': 4545, 'document': 2777, 'submitted': 7399, 'stapati': 7277, 'mile': 5111, 'cutie': 2496, 'hill': 3939, 'killed': 4540, \"did'nt\": 2687, 'colleague': 2232, \"''ok\": 0, 'sed': 6782, 'mood': 5219, 'minuts': 5135, 'latr': 4646, 'kidz': 4537, 'sofa': 7106, 'honesty': 3996, 'specialisation': 7191, 'labor': 4602, 'shakara': 6861, 'beggar': 1581, 'smashed': 7065, 'dent': 2625, 'yes.he': 8717, 'crickiting': 2433, 'imin': 4159, 'town.dontmatter': 7887, 'urgoin': 8121, 'outl8r': 5730, 'reallyneed': 6382, '2docd.please': 521, 'dontplease': 2813, 'dontignore': 2812, 'mycalls': 5307, 'thecd': 7678, 'isv.important': 4309, 'tome': 7831, 'yavnt': 8692, 'popping': 6051, 'ibuprofen': 4111, 'grown': 3735, 'chinatown': 2130, 'porridge': 6053, 'claypot': 2173, 'yam': 8687, 'fishhead': 3312, 'beehoon': 1570, 'tok': 7819, 'specific': 7194, 'jaklin': 4352, 'nearby': 5366, '4.49/month': 632, 'ntwk': 5536, 'bundle': 1858, 'avble': 1416, 'call2optout/j': 1923, 'mf': 5098, 'ooh': 5663, '4got': 679, 'moseley': 5229, '6.30': 741, 'thankyou': 7660, 'pending.i': 5866, 'days.will': 2552, 'thru.respect': 7745, 'home.check': 3988, 'v-aluable': 8157, 'a-ffectionate': 949, 'l-oveable': 4592, 'e-ternal': 2911, 'n-oble': 5319, 't-ruthful': 7525, 'i-ntimate': 4100, 'n-atural': 5317, 'e-namous': 2910, 'textin': 7644, 'cousin': 2396, 'frndship': 3469, 'raji..pls': 6320, 'nimya': 5442, 'leg': 4683, 'neck': 5373, 'amigo': 1181, 'progress': 6202, 'continue': 2335, 'holy': 3986, 'arty': 1333, 'collage': 2230, 'tryin': 7948, 'billion': 1637, '2hrs': 532, 'waliking': 8297, 'carton': 1999, 'shelf': 6884, '08714712379': 158, 'distance': 2753, 'mirror': 5137, 'youre': 8748, 'turning': 7970, 'freak': 3428, 'ref': 6425, 'k718': 4481, '£4.50': 8827, '09065069120': 274, 'jod': 4408, 'keris': 4522, 'smidgin': 7069, 'belive': 1591, 'k.k..where': 4474, 'empty': 3005, 'slot': 7049, 'accordin': 1000, 'discussed': 2746, \"no's\": 5457, 'knocking': 4565, 'si.como': 6957, 'listened2the': 4752, 'plaid': 5959, 'album-quite': 1128, 'air1': 1112, 'hilarious-also': 3938, 'bought\\x94braindance\\x94a': 1740, 'comp.ofstuff': 2264, 'aphex\\x92s': 1257, 'abel': 963, 'hav2hear': 3844, 'nelson': 5390, 'temp': 7614, 'unmits': 8076, 'display': 2752, 'newspaper': 5416, 'soup': 7168, 'yummmm': 8761, 'management': 4959, 'puzzeles': 6269, 'include': 4186, '4goten': 680, 'scammer': 6734, 'smart..though': 7061, 'regular': 6447, 'prem': 6124, 'msg/subscription': 5258, '2morro': 538, 'passion': 5827, '09099726481': 315, 'dena': 2622, '£1/minmobsmorelkpobox177hp51fl': 8801, 'spoiled': 7228, 'r836': 6303, '09065069154': 275, 'threat': 7734, 'shifad': 6891, 'raised': 6317, 'complaint': 2274, \"'doctors\": 5, 'reminds': 6474, '2go.did': 529, 'lounge': 4833, 'lk': 4766, 'lov': 4835, 'tolerat.bcs': 7827, 'comfort': 2252, 'checked': 2084, 'splashmobile': 7222, 'subscrition': 7408, '300p': 577, 'dust': 2901, 'u4': 8009, '01223585334': 36, '2c': 517, 'shagged': 6858, '8552': 882, '2end': 522, '88877': 907, '88066': 901, '3pound': 615, 'watchin': 8337, 'meaningless': 5040, 'brdget': 1780, 'jones': 4425, 'inever': 4209, 'hype': 4095, '700': 798, 'studio': 7380, 'bedrm': 1567, '900': 929, 'unable': 8033, 'waited': 8291, 'velly': 8190, 'wkend': 8507, 'journey': 4431, 'huge': 4063, 'marking': 4983, 'mids': 5107, 'upd8': 8097, '2stoptx': 555, 'annie': 1217, 'remind': 6470, '08718738034': 198, '21870000': 483, 'mailbox': 4940, 'messaging': 5092, '21': 479, '09056242159': 223, 'retrieve': 6541, 'va': 8160, 'hrishi': 4052, 'nothin': 5512, 'hanger': 3808, 'poem': 6019, 'tear': 7592, 'quiz.win': 6297, 'duchess': 2884, 'cornwall': 2363, '82277.unsub': 853, '008704050406': 32, 'arrow': 1329, '08718726971': 189, 'tddnewsletter': 7585, 'emc1.co.uk': 2997, 'thedailydraw': 7679, 'dozen': 2837, 'prizeswith': 6176, 'significant': 6969, 'waqt': 8319, 'pehle': 5861, 'naseeb': 5346, 'zyada': 8782, 'kisi': 4552, 'ko': 4572, 'kuch': 4586, 'nahi': 5329, 'milta': 5117, 'zindgi': 8777, 'jo': 4403, 'hum': 4069, 'sochte': 7104, 'jeetey': 4379, 'worse': 8554, 'stalking': 7271, 'dan': 2520, 'reminded': 6471, 'varaya': 8173, 'elaya': 2979, '10/06/03': 342, '09066368753': 295, '97n7qp': 937, 'anand': 1202, 'beach': 1550, 'expected': 3143, 'aww': 1434, 'jez': 4396, 'iscoming': 4301, 'todo': 7814, 'workand': 8544, 'whilltake': 8438, 'zogtorius': 8779, 'i\\x92ve': 4341, 'staring': 7280, 'whether': 8435, 'financial': 3287, 'problem.i': 6183, 'alian': 1140, 'b/tooth': 1449, 'free-nokia': 3435, 'or2optout/hv9d': 5691, 'posible': 6060, 'century': 2038, 'cm': 2202, 'frwd': 3484, 'unnecessarily': 8077, 'affectionate': 1065, 'ringtones': 6575, 'restriction': 6533, 'buddy': 1843, '80082': 835, '08712402902': 146, 'owned': 5754, 'possessive': 6064, 'no..he': 5465, 'clarification': 2165, 'spook': 7234, 'halloween': 3796, '08701417012150p': 110, 'logo/pic': 4786, 'issue': 4308, 'weigh': 8382, 'football': 3377, 'sky': 7022, 'gamestar': 3531, 'active': 1022, '£250k': 8820, 'scoring': 6747, '88088': 902, 'coimbatore': 2223, 'expired': 3151, 're-sub': 6359, 'monoc': 5213, 'polyc': 6033, 'stream': 7353, '0871212025016': 137, 'category': 2016, 'measure': 5043, 'ethnicity': 3078, 'census': 2035, 'transcribing': 7903, 'propsd': 6222, 'gv': 3767, 'lv': 4887, 'lttrs': 4865, 'threw': 7736, 'thm': 7720, 'aproach': 1289, 'dt': 2880, 'truck': 7938, 'speeding': 7199, 'wn': 8516, \"'hw\": 9, 'instantly': 4244, 'thy': 7753, 'lived': 4762, 'happily': 3822, '2gthr': 530, 'drinking': 2858, 'evrydy': 3116, 'paragon': 5799, 'arent': 1302, 'bluff': 1693, 'impossible': 4170, 'goodmate': 3660, 'sary': 6706, 'asusual': 1369, 'cheered': 2091, 'franyxxxxx': 3426, 'batt': 1526, 'added': 1031, 'www.fullonsms.com': 8611, 'pussy': 6265, 'becausethey': 1559, '09058098002': 239, 'pobox1': 6001, 'w14rg': 8270, 'message..no': 5086, 'responce..what': 6522, 'happend': 3815, 'wiskey': 8493, 'brandy': 1775, 'rum': 6634, 'gin': 3602, 'vodka': 8250, 'scotch': 6748, 'shampain': 6867, 'kudi': 4587, 'yarasu': 8690, 'dhina': 2673, 'vaazhthukkal': 8161, 'gained': 3524, 'kg': 4528, 'sugar': 7427, 'pressure': 6144, 'limit': 4730, 'dumb': 2891, 'thangam': 7653, 'okey': 5626, 'doke': 2797, 'dressed': 2853, 'laying': 4658, 'kill': 4539, 'neshanth..tel': 5393, 'byatch': 1893, 'whassup': 8417, 'kay': 4507, 'roger': 6596, 'cl': 2161, 'nasty': 5347, 'filthyguys': 3282, 'slo': 7047, '4msgs': 683, 'wasted': 8332, 'chiong': 2134, 'christ': 2148, 'dialogue': 2679, 'reltnship': 6460, 'wipe': 8483, 'solve': 7115, 'murdered': 5290, 'police': 6026, 'questioned': 6288, '4.cook': 634, 'cooking': 2352, '5.gardener': 706, 'vegetable': 8186, '6.house-maid': 744, '7.children': 795, '8.neighbour': 829, 'murderer': 5291, 'brilliant': 1801, 'pose': 6058, 'comb': 2244, 'dryer': 2879, 'fps': 3418, 'computational': 2287, 'science': 6743, 'answered': 1229, 'madam': 4923, 'disturbance.might': 2756, 'dlf': 2767, 'premarica.kindly': 6125, 'informed.rgds': 4218, 'rakhesh': 6324, 'gotto': 3680, '08702840625': 117, 'comuk.220cm2': 2290, 'settle': 6839, 'err': 3059, '8pm': 921, 'bloo': 1680, 'hitter.anyway': 3954, 'b-day': 1448, 'offline': 5606, 'anjola': 1215, 'www.asjesus.com': 8598, 'wrote': 8582, '1/1': 335, 'swiss': 7508, 'director': 2729, 'lac': 4603, 'crore': 2437, 'deposited': 2634, \"'taxless\": 23, 'budget': 1844, 'lane': 4623, 'suply': 7457, 'citizen': 2158, 'imf': 4157, 'blocked': 1675, 'politician': 6027, 'corrupt': 2369, 'itna': 4324, 'karo': 4502, 'ki': 4530, 'pura': 6256, 'padhe.g.m': 5769, 'torrent': 7869, 'particularly': 5817, 'slowing': 7053, 'commit': 2260, 'random': 6330, '83370': 865, 'www.music-trivia.net': 8620, 'rightio': 6565, '11.48': 360, 'brum': 1829, 'donno': 2809, 'scorable': 6745, 'paranoid': 5801, 'brin': 1803, 'properly': 6219, 'k..give': 4459, 'complain': 2272, 'only..bettr': 5655, 'bsnl': 1833, 'offc': 5592, 'payed': 5845, 'suganya': 7426, 'dessert': 2652, 'abeg': 962, 'sponsor': 7232, 'onum': 5660, 'k.k..how': 4473, 'can.dont': 1953, 'poet': 6020, 'imagination..my': 4154, 'car.so': 1975, 's.i': 6653, 'rr': 6618, 'famamus': 3200, '630': 757, 'sry': 7260, 'furniture': 3508, 'lock': 4778, 'jenne': 4383, 'easiest': 2928, 'barcelona': 1500, 'ru': 6625, 'sppok': 7243, '09066612661': 298, 'complementary': 2275, 'wa14': 8278, '2px': 552, 'pansy': 5788, 'jungle': 4448, 'kanji': 4495, 'drink.pa': 2856, 'sr': 7257, 'drizzling': 2864, 'shoving': 6937, 'greeting': 3719, 'excused': 3129, 'drama': 2841, 'pls.i': 5988, 'struggling': 7372, 'strange': 7351, 'place.no': 5956, 'ego': 2965, \"'if\": 10, 'necessity': 5372, 'go.wait': 3630, 'reppurcussions': 6499, 'released': 6455, 'cosign': 2371, 'hvae': 4092, '09061701444': 247, '24': 488, 'acl03530150pm': 1011, 'hcl': 3856, 'requires': 6506, 'fresher': 3452, 'process.excellent': 6191, 'needed.salary': 5379, 'ms.suman': 5254, 'telephonic': 7604, 'indyarocks.com': 4208, 'dai': 2516, 'resume': 6537, 'da..today': 2510, 'reliant': 6456, 'fwiw': 3513, 'afford': 1067, 'happens': 3819, 'kano..whr': 4498, 'maga': 4929, 'sq825': 7251, 'arrival': 1326, 'yunny': 8764, 'citylink': 2160, 'er': 3052, 'prop': 6217, 'pleasant': 5978, '6230': 754, '83383': 866, 'pobox114/14tcr/w1': 6002, 'bognor': 1703, 'splendid': 7224, 'yes.i': 8718, 'ktv': 4585, 'misplaced': 5142, 'mmmmm': 5170, 'medicine': 5049, 'begun': 1584, 'registration': 6444, 'permanent': 5883, 'residency': 6514, 'plenty': 5984, 'relative': 6452, 'deliver': 2613, 'risk': 6581, 'benefit': 1605, 'amount': 1190, 'predicting': 6119, 'accumulation': 1005, 'belongs': 1597, 'fated': 3219, 'shoranur': 6921, 'incident': 4184, 'fuelled': 3493, 'concern': 2296, 'prior': 6166, 'grief': 3720, 'violence': 8228, 'good.environment': 3657, 'terrific': 7628, 'text82228': 7638, 'www.txt82228.com': 8642, 'txt82228.co.uk': 7987, 'honestly': 3995, 'promptly': 6213, 'burnt': 1866, 'advice': 1056, 'snap': 7088, 'quizclub': 6298, '80122300p/wk': 837, 'rwm': 6646, 'ph:08704050406': 5906, 'gmw': 3623, 'connected': 2317, 'someplace': 7123, 'pressies': 6143, 'dr': 2839, 'superior': 7455, 'ultimately': 8024, 'tor': 7867, 'motive': 5237, 'tui': 7960, 'achieve': 1008, 'korli': 4580, 'dock': 2775, 'rolled': 6598, 'newscaster': 5415, 'dabbles': 2512, 'flute': 3350, 'behind': 1587, 'wheel': 8423, 'bx420': 1889, 'amazing': 1176, 'picsfree1': 5932, 'vid': 8209, 'keyword': 4526, 'ruin': 6631, 'erm': 3056, 'the4th': 7674, 'october': 5586, '83435': 867, 'elaborating': 2976, 'safety': 6671, 'aspect': 1354, 'tarot': 7565, '85555': 883, 'department': 2629, 'ours': 5722, 'hr': 4051, 'conform': 2311, 'horniest': 4018, 'instruction': 4246, 'nyt.ec2a.3lp.msg': 5562, 'flow': 3344, 'developed': 2663, 'ovarian': 5738, 'cyst': 2503, 'bc': 1537, 'shrink': 6947, 'upping': 8107, 'timin': 7774, 'ape': 1255, 'death': 2574, 'ibm': 4108, 'hp': 4048, 'toshiba': 7873, 'gosh': 3671, 'spose': 7239, 'usual..iam': 8145, 'rimac': 6568, 'arestaurant': 1303, 'squid': 7255, '10:30': 350, 'dosomething': 2822, 'u.call': 8005, 'wrk.i': 8574, 'dabooks': 2513, 'nite+2': 5449, 'wrk': 8573, 'eachother': 2918, 'luckily': 4869, 'starring': 7281, 'restocked': 6531, 'knock': 4564, 'www.tkls.com': 8639, 'stoptxtstop£1.50/week': 7342, 'innocent': 4229, 'mental': 5071, 'smoothly': 7080, 'hoped': 4010, 'challenging': 2049, '2marrow': 535, 'hon': 3993, 'breakfast': 1785, 'hamper': 3798, 'cc100p/min': 2024, 'reality': 6377, 'da..al': 2506, 'above': 973, '0870737910216yrs': 122, '£1.50/wk': 8793, 'unni': 8078, 'recharge..rakhesh': 6407, 'lacking': 4604, 'particular': 5816, 'dramastorm': 2842, 'forfeit': 3389, 'treated': 7921, 'digi': 2708, '9pm': 944, 'fab': 3174, 'coupla': 2389, 'wks': 8512, '077xxx': 66, '09066362206': 287, 'sundayish': 7444, 'prasad': 6107, 'tiwary': 7786, 'rcb.battle': 6348, 'bang': 1490, 'kochi': 4573, 'cancer': 1960, 'checkup': 2088, 'pap': 5792, 'smear': 7066, 'gobi': 3635, 'pandy': 5784, '4w': 695, 'technology': 7597, 'today.he': 7813, 'olowoyey': 5639, 'usc.edu': 8133, 'argentina': 1305, 'secretary': 6777, 'taxt': 7577, 'tie-pos': 7757, 'lool': 4807, 'spending': 7205, 'shaking': 6864, 'booty': 1722, 'lil': 4727, 'busy.i': 1874, 'scarcasim': 6735, 'naal': 5324, 'eruku': 3062, 'chikku..wat': 2120, 'w4': 8274, '5wq': 737, 'remains': 6463, 'bro': 1812, 'amongst': 1188, 'bros': 1818, 'impressively': 4175, 'sensible': 6819, '69696': 767, '3lp': 610, '£1.50/msg': 8791, 'response': 6525, 'also.or': 1165, 'nalla': 5332, 'obedient': 5572, 'ft': 3486, 'combination': 2245, 'needy': 5382, 'pout': 6084, 'stomp': 7331, 'northampton': 5504, 'abj': 968, 'serving': 6835, 'playng': 5976, 'mcfly-all': 5026, 'ab': 959, 'sara': 6700, 'jorge-shock': 4428, 'smith-switch': 7075, 'anna': 1216, 'nagar': 5327, 'yupz': 8768, 'model..sony': 5192, 'ericson': 3054, 'der': 2638, 'luks': 4875, 'modl': 5193, 'cheesy': 2094, 'frosty': 3482, 'witin': 8500, '0870141701216': 111, '4txt/120p': 690, '10th': 358, 'sept': 6826, '09050000555': 212, 'ba128nnfwfly150ppm': 1455, 'nudist': 5539, 'themed': 7685, 'pump': 6249, 'petrol': 5901, '£12': 8808, 'feb': 3234, 'ignore': 4139, 'evr': 3112, 'signal': 6967, 'neither': 5389, 'unusual': 8091, 'hug': 4062, 'snogs': 7094, 'west': 8408, 'palm': 5780, 'printing': 6165, 'handing': 3802, 'fastest': 3217, 'growing': 3734, '83021': 856, 'chase': 2069, 'stated': 7292, 'tariff': 7564, '2stoptxt': 556, 'perpetual': 5885, 'dd': 2557, 'steam': 7305, 'reg': 6439, 'pract': 6096, 'flung': 3348, 'house-maid': 4035, 'public': 6244, 'govt.instituitions': 3682, 'office..understand': 5601, 'justbeen': 4453, 'overa': 5740, 'mush': 5292, 'tunde': 7964, 'mission': 5149, 'luxury': 4886, 'canary': 1956, '20m12aq': 476, 'lux': 4885, '28': 506, 'eh74rr': 2967, 'sleepy': 7038, 'dare': 2530, 'ben': 1601, 'mag': 4928, 'avo': 1422, 'middle': 5105, 'crashed': 2413, 'cuddled': 2468, 'chachi': 2045, 'pl': 5954, 'tiz': 7788, 'kanagu': 4493, 'ringing': 6570, 'houseful': 4036, 'brat': 1776, 'pulling': 6248, 'diwali': 2762, 'tick': 7755, 'now.onion': 5525, 'derp': 2640, 'abuser': 982, 'lipo': 4747, 'netflix': 5397, 'thgt': 7705, 'clash': 2169, 'arr': 1322, 'oscar': 5710, 'rebtel': 6393, 'firefox': 3303, 'lower': 4851, '69969': 775, 'bcmsfwc1n3xx': 1543, 'impressed': 4173, 'footy': 3381, 'stadium': 7264, 'large': 4634, 'coca-cola': 2213, 'dark': 2531, 'teenager': 7599, 'telugu..thts': 7612, 'gud..k': 3749, 'exhaust': 3134, 'replacing': 6492, 'mittelschmertz': 5159, 'paracetamol': 5796, 'sales/pee': 6680, 'arrived': 1328, 'cthen': 2458, 'enuff': 3045, 'conclusion': 2299, 'at/your': 1371, 'success': 7411, '’': 8853, '£50': 8832, 'instant': 4243, '08715203028': 163, '9th': 946, '£50-£500': 8833, 'rugby': 6630, 'affidavit': 1066, 'twiggs': 7978, 'division': 2760, 'courtroom': 2395, 'creep': 2427, 'possessiveness': 6065, 'poured': 6082, 'golden': 3648, 'lasting': 4640, 'breathe1': 1790, 'crazyin': 2419, 'sleepingwith': 7036, 'finest': 3293, 'ymca': 8730, 'getzed.co.uk': 3590, 'pobox365o4w45wq': 6008, 'wtc': 8584, 'weiyi': 8390, 'property': 6220, 'interflora': 4254, '\\x93it': 8786, '505060': 713, 'god..taken': 3637, 'teeth': 7600, 'paining': 5776, 'romcapspam': 6601, 'presence': 6137, 'outgoing': 5729, 'maggi': 4931, 'mee': 5050, '08712103738': 136, 'cough': 2380, 'com': 2243, '09058099801': 240, 'b4190604': 1451, '7876150ppm': 811, 'bbd': 1533, 'pooja': 6041, 'pimples..even': 5943, 'black..and': 1656, 'sweatter': 7498, 'nice.nice.how': 5424, 'ambitious': 1177, 'miiiiiiissssssssss': 5109, 'tunji': 7966, 'iz': 4335, 'yellow': 8702, 'misscall': 5145, 'frndz': 3472, '6missed': 781, 'free-message': 3434, 'frog': 3475, 'mad1': 4921, 'mad2': 4922, '88888': 908, 'gbp/week': 3554, 'tall': 7555, 'doubt': 2828, 'handle': 3803, 'note': 5510, 'robs': 6590, 'avenge': 1418, 'japanese': 4365, 'proverb': 6226, 'strike': 7362, 'toss': 7874, 'gudni8': 3750, 'dancin': 2523, 'explicitly': 3157, 'nora': 5496, 'smith': 7074, 'da.i': 2511, 'gayle': 3549, 'crucify': 2443, 'moved': 5244, 'butting': 1878, 'freedom': 3438, 'cedar': 2028, 'twenty': 7976, 'durham': 2898, 'reserved': 6512, 'seat': 6772, 'porn': 6052, '69855': 769, '50p': 714, 'stopbcm': 7338, 'sf': 6852, 'painting': 5777, 'printer': 6164, 'groovy': 3727, 'groovying': 3728, 'harish': 3831, 'transfred': 7908, 'acnt': 1012, 'nowadays': 5527, 'showroom': 6944, 'shaping': 6872, 'attending': 1388, 'probs': 6188, 'doinat': 2794, 'callon': 1937, 'low': 4849, 'swatch': 7493, 'ganesh': 3533, 'dress': 2852, 'pdate_now': 5853, 'call2optout': 1918, 'yhl': 8725, 'collecting': 2235, 'configure': 2306, 'anal': 1200, 'pear': 5858, 'helloooo': 3894, 'celebrate': 2031, 'such': 7414, 'oooooh': 5665, '09058094454': 227, '54': 722, 'resubmit': 6535, 'expiry': 3154, 'we\\x92ve': 8416, '2geva': 527, 'mint': 5132, 'human': 4070, 'studyn': 7383, 'wuld': 8589, 'everyboy': 3096, 'xxxxxxxx': 8676, 'solved': 7116, \"'xam\": 30, '5+3+2': 700, '9+2+4': 925, '8+6+3': 823, '7+2+5': 789, '1thing.i': 446, 'answr': 1232, 'liquor': 4748, 'flaked': 3323, 'loko': 4790, '730': 801, 'lined': 4737, \"tm'ing\": 7793, 'tm': 7792, 'fireplace': 3304, 'icon': 4118, '08712400200': 141, 'fifth': 3268, 'woozles': 8538, 'weasel': 8358, '08718723815': 184, 'gary': 3541, 'machine': 4915, 'sake': 6675, 'ignorant': 4138, 'mys': 5311, 'bruce': 1828, 'fletcher': 3331, '£1,500': 8789, '27/6/03': 505, '08714714011': 162, 'teaching': 7590, 'cozy': 2401, 'night.nobody': 5434, 'buzzzz': 1886, 'chest': 2102, 'vibrator': 8205, 'shake': 6862, 'trend': 7926, 'con': 2291, 'brief': 1798, 'description': 2642, 'nuclear': 5538, 'fusion': 3510, 'history': 3950, 'iter': 4322, 'jet': 4393, 'nowhere': 5528, 'ikno': 4144, 'doesdiscount': 2781, 'shitinnit': 6906, 'jabo': 4344, 'abi': 965, 'slower': 7052, 'maniac': 4968, 'had..ya': 3779, 'sapna': 6698, 'manege': 4966, \"y'day\": 8680, 'hogidhe..chinnu': 3972, 'swalpa': 7487, 'agidhane': 1092, 'type..lyk': 7999, 'footbl': 3378, 'crckt': 2420, 'swell': 7503, 'tim': 7767, 'bollox': 1706, 'tol': 7822, 'hang': 3807, 'ingredient': 4222, 'pocy': 6017, 'bell': 1592, 'non': 5486, 'call2optout/4qf2': 1919, 'senor': 6815, 'giggle': 3598, 'possibly': 6068, 'person2die': 5890, 'nvq': 5554, 'professional': 6197, 'tiger': 7759, 'wood': 8533, 'reboot': 6391, 'grinder': 3722, 'pt2': 6239, 'figuring': 3274, 'entirely': 3038, 'understood': 8049, 'bottom': 1738, 'know..he': 4567, 'phoned': 5919, 'disconnected': 2742, 'onluy': 5653, 'offcampus': 5593, 'improved': 4177, 'riley': 6567, 'ew': 3117, 'lingo': 4740, '400mins': 638, 'call2optout=j5q': 1926, 'hm': 3960, '69200': 765, 'chrgd': 2147, '2exit': 523, 'salon': 6684, 'approaching': 1280, 'sankranti': 6695, 'republic': 6501, 'shivratri': 6909, 'ugadi': 8013, 'independence': 4200, 'childrens': 2124, 'festival': 3252, 'dasara': 2539, 'rememberi': 6467, 'raj': 6318, 'lifeis': 4712, 'daywith': 2555, 'somewheresomeone': 7133, 'tosend': 7872, 'selflessness': 6803, 'initiate': 4223, 'tallent': 7557, 'wasting': 8333, 'usc': 8132, 'portal': 6055, \"don't4get2text\": 2804, 'lennon': 4691, 'bothering': 1736, 'crab': 2406, 'shore..the': 6923, 'wave': 8347, 'footprint': 3380, 'clearing': 2180, 'fox': 3417, 'frndsship': 3471, 'dwn': 2905, 'slaaaaave': 7027, 'summon': 7439, '£33.65': 8824, 'appendix': 1268, 'range': 6335, 'slob': 7048, 'smiled': 7071, 'topic..sorry': 7863, 'webpage': 8365, 'yeesh': 8699, 'unsubscribed': 8088, 'hunk': 4078, 'gotbabes.co.uk': 3676, 'gopalettan': 3669, 'participate': 5815, 'admin': 1040, 'abroad': 974, 'xxsp': 8667, 'visionsms.com': 8236, 'stopcost': 7339, '08712400603': 142, 'goody': 3667, 'mat': 4997, 'ay': 1438, 'andros': 1209, 'steal': 7303, 'isaiah.=d': 4300, 'penis': 5867, 'expert': 3150, 's.s': 6656, 'thinl': 7714, 'sachin.just': 6662, 'importantly': 4168, 'tightly': 7761, \"'wnevr\": 29, 'fal': 3194, 'vth': 8264, 'fals': 3199, 'yen': 8704, 'madodu': 4925, 'nav': 5359, 'pretsorginta': 6147, 'nammanna': 5339, 'pretsovru': 6148, 'alwa': 1170, 'eveb': 3087, 'lord': 4814, 'soundtrack': 7166, 'stdtxtrate': 7301, 'home.love': 3990, 'staff.science.nus.edu.sg/~phyhcmk/teaching/pc1323': 7266, 'emigrated': 3000, '5.30': 704, 'hopeful': 4011, 'olol': 5638, 'stagwood': 7268, 'winterstone': 8482, 'victor': 8207, 'jp': 4433, 'mofo': 5195, 'pathaya': 5835, 'enketa': 3027, 'maraikara': 4974, 'priest': 6157, 'intrude': 4265, 'walkabout': 8299, 'cashed': 2006, 'announced': 1220, 'blog': 1676, '28th': 510, '06': 49, 'removal': 6476, '08708034412': 127, 'prove': 6225, 'footie': 3379, 'blow': 1686, 'phil': 5911, 'neville': 5406, 'abbey': 960, 'returning': 6544, 'knowing': 4569, 'punj': 6253, 'str8': 7348, 'classic': 2171, 'nokia/150p': 5481, 'poly/200p': 6030, 'thurs': 7749, 'pre': 6115, 'cancelled': 1959, 'sacked': 6664, 'lookatme': 4803, 'clip': 2185, '35p': 595, 'mmsto': 5173, '32323': 590, 'barred': 1507, 'twat': 7974, 'dungerees': 2894, 'decking': 2585, 'punch': 6250, 'mentionned': 5074, 'vat': 8179, 'planned': 5965, 'only.don': 5656, 'grl': 3724, 'hogolo': 3974, 'kodstini': 4574, 'agalla': 1083, 'madstini': 4927, 'hogli': 3973, 'mutai': 5300, 'eerulli': 2956, 'kodthini': 4575, 'thasa': 7664, 'messed': 5093, 'up.yeh': 8094, 'shudvetold': 6951, 'urgran': 8122, 'neway': 5409, 'illspeak': 4150, 'u2moro': 8008, 'tex': 7634, 'mecause': 5046, 'werebored': 8405, 'okden': 5625, 'uin': 8018, 'sound\\x92s': 7167, 'likeyour': 4725, 'gr8fun': 3687, 'updat': 8098, 'countinlots': 2387, 'xxxxx': 8673, 'tagged': 7538, 'count': 2385, 'challenge': 2048, 'hdd': 3857, 'casing': 2008, 'opened': 5669, 'describe': 2641, '09053750005': 222, '310303': 585, '08718725756': 185, '140ppm': 389, 'asus': 1368, 'randomly': 6332, 'reformat': 6434, 'otside': 5717, 'le..u': 4664, 'plumber': 5990, 'tape': 7563, 'wrench': 8568, 'www.e-tlp.co.uk/reward': 8609, 'bcum': 1545, 'appeal': 1266, 'thriller': 7737, '8.30': 826, 'size': 7008, 'elephant': 2983, 'shove': 6936, 'um': 8026, 'cr': 2403, 'pookie': 6042, 'dear.with': 2570, 'love.rakhesh': 4838, 'nri': 5531, '08712101358': 135, 'x2': 8652, 'it\\x92s': 4330, 'deserve': 2644, 'tight': 7760, '88039.skilgme.tscs087147403231winawk': 900, 'age16+£1.50perwksub': 1086, 'diddy': 2689, 'toothpaste': 7859, 'av': 1408, 'poking': 6023, 'everyday': 3097, 'de.am': 2559, 'curious': 2480, 'coccooning': 2214, 'auto': 1406, 'newquay-send': 5412, 'postcard': 6071, '1im': 439, 'talkin': 7553, 'bread': 1781, 'windy': 8474, '09066358361': 285, 'y87': 8681, 'mahal': 4936, 'tirunelvai': 7780, 'dusk': 2900, 'puzzle': 6270, 'x29': 8653, '4.50': 633, '09065989180': 281, 'stair': 7269, 'phews': 5910, 'thangam.it': 7654, '1-u': 326, 'relation': 6450, '2-u': 456, '3-u': 569, '4-some1': 628, 'luvs': 4884, 'praying': 6112, 'recycling': 6420, 'earning': 2925, 'toledo': 7825, 'ding': 2719, 'tai': 7540, 'feng': 3251, 'reservation': 6510, 'swimsuit': 7506, 'allowed': 1152, 'necessary': 5371, 'watever': 8341, 'shared': 6874, 'squeeeeeze': 7253, 'lik': 4721, 'frndshp': 3470, 'luvd': 4883, 'asks': 1351, 'volcano': 8254, 'erupt': 3063, 'arise': 1311, 'hurricane': 4082, 'sway': 7494, 'aroundn': 1321, 'hw': 4093, 'disaster': 2737, 'lighter': 4719, '7pm': 817, 'k..its': 4461, 'lasagna': 4637, 'chickened': 2111, 'messaged': 5089, 'woould': 8537, '08718726978': 190, 'drove': 2869, 'shore': 6922, 'deus': 2661, '44': 654, '7732584351': 808, '3510i': 594, 'deliveredtomorrow': 2615, '300': 573, 'tap': 7562, 'spile': 7211, 'broad': 1813, 'canal': 1955, 'engin': 3020, 'on-edge': 5644, 'raviyog': 6343, 'peripheral': 5882, 'bhayandar': 1626, 'east': 2930, 'sunoco': 7447, 'howard': 4041, 'musical': 5295, 'plate': 5967, 'leftover': 4682, 'starving': 7289, 'cooked': 2351, 'cheat': 2079, 'fatty': 3222, 'badrith': 1472, 'owe': 5750, 'checkin': 2085, 'number-so': 5543, 't.b': 7527, 'block': 1674, 'armenia': 1316, 'swann': 7489, '09058097189': 237, '09061221066': 246, 'fromm': 3478, '330': 592, '1120': 361, '1205': 372, 'smoking': 7079, 'wylie': 8648, 'justify': 4454, 'ruining': 6632, 'hunt': 4080, 'in2': 4181, '5226': 717, 'hava': 3845, '1131': 363, 'rct': 6350, 'thnq': 7722, 'adrian': 1049, 'rgds': 6555, 'vatian': 8180, 'everyones': 3099, 'babysitting': 1464, 'gonnamissu': 3655, 'buttheres': 1877, 'aboutas': 972, 'merememberin': 5079, 'asthere': 1362, 'ofsi': 5608, 'breakin': 1786, 'yaxx': 8693, 'ee': 2953, 'poortiyagi': 6047, 'odalebeku': 5587, 'hanumanji': 3813, '1-hanuman': 324, '2-bajarangabali': 455, '3-maruti': 568, '4-pavanaputra': 627, '5-sankatmochan': 701, '6-ramaduth': 740, '7-mahaveer': 790, 'janarige': 4359, 'ivatte': 4331, 'kalisidare': 4489, 'olage': 5632, 'ondu': 5648, 'keluviri': 4516, 'maretare': 4977, 'inde': 4198, 'dodda': 2778, 'problum': 6186, 'nalli': 5333, 'siguviri': 6972, 'idu': 4131, 'matra': 5005, 'neglet': 5387, 'easily': 2929, 'ijust': 4142, 'talked': 7552, 'opps': 5682, 'gei': 3564, 'tron': 7933, 'dl': 2765, 'selfish': 6802, 'spiffing': 7210, 'workage': 8543, 'craving': 2416, 'supose': 7458, 'much.i': 5270, 'babysit': 1463, 'there.xx': 7696, 'embassy': 2996, 'lightly': 4720, 'custom': 2488, 'checkboxes': 2083, 'sac': 6660, 'hundred.he': 4075, 'batsman': 1525, 'yetty': 8723, 'jiayin': 4399, '09050000928': 214, 'pobox45w2tg150p': 6009, 'forgotten': 3396, 'reverse': 6549, 'cheating': 2080, 'mathematics': 5003, '2waxsto': 560, 'basic': 1513, 'emailed': 2992, 'yifeng': 8727, 'slurp': 7055, 'minimum': 5128, '3miles': 611, 'ing': 4221, 'brainless': 1772, 'doll': 2799, 'vehicle': 8188, 'sariyag': 6705, 'madoke': 4926, 'barolla': 1506, '07090201529': 55, 'postponed': 6075, 'stocked': 7327, 'elaine': 2977, 'tiime': 7764, 'afternon': 1074, 'resizing': 6515, '09066364349': 291, 'box434sk38wp150ppm18': 1758, 'opposed': 5680, 'drunken': 2876, 'billed': 1635, 'shortcode': 6926, '83332.please': 862, '08081263000': 93, 'refunded.this': 6437, 'somerset': 7124, 'overtime': 5745, 'nigpun': 5437, 'dismissial': 2751, 'screwd': 6760, '08712402972': 147, 'bull': 1854, 'floating': 3339, 'mess': 5082, '09058095201': 236, 'heehee': 3883, 'arithmetic': 1313, 'percentage': 5872, \"'an\": 1, 'chillaxin': 2127, 'iknow': 4145, 'wellda': 8395, 'peril': 5880, 'studentfinancial': 7379, 'crisis': 2435, 'monster': 5214, 'ia': 4103, 'obey': 5574, 're-send': 6358, 'uhhhhrmm': 8017, 'mb': 5022, 'gbp/sms': 3553, '600': 747, '400': 637, 'deltomorrow': 2617, '09066368470': 294, 'e.g': 2913, '24m': 492, '1-month': 325, 'smartcall': 7062, '68866': 763, 'subscriptn3gbp/wk': 7407, '08448714184': 98, 'landlineonly': 4621, 'mths': 5266, 'camera/video': 1948, '£s': 8847, 'texts/weekend': 7648, 'callback': 1927, 'orno': 5707, 'fink': 3299, '09099726553': 316, 'promised': 6208, 'carlie': 1990, 'calls£1/minmobsmore': 1940, 'lkpobox177hp51fl': 4767, 'youphone': 8746, 'athome': 1374, 'youwanna': 8754, 'jack': 4345, 'say/ask': 6727, 'helpful': 3901, 'pretend': 6146, 'hypotheticalhuagauahahuagahyuhagga': 4097, 'brainy': 1773, 'occasion': 5579, 'celebrated': 2032, 'reflection': 6432, 'value': 8169, 'desire': 2646, 'tradition': 7894, 'cantdo': 1964, 'anythingtomorrow': 1247, 'myparents': 5310, 'aretaking': 1304, 'outfor': 5728, 'katexxx': 4504, 'level': 4699, 'gate': 3544, '89105': 912, 'wedding': 8370, 'lingerie': 4739, 'www.bridal.petticoatdreams.co.uk': 8600, 'weddingfriend': 8371, 'board': 1697, 'overheating': 5744, 'reslove': 6516, 'inst': 4239, 'pending': 5865, \"8'o\": 822, 'western': 8409, 'outta': 5737, 'notixiquating': 5517, 'laxinorficated': 4655, 'bambling': 1486, 'entropication': 3041, 'oblisingately': 5576, 'opted': 5685, 'masteriastering': 4996, 'amplikater': 1192, 'fidalfication': 3262, 'champlaxigating': 2051, 'atrocious': 1380, 'wotz': 8560, 'junna': 4449, 'knickers': 4563, '01223585236': 35, 'nikiyu4.net': 5440, 'accident': 994, 'a30': 952, 'divert': 2759, 'wadebridge.i': 8281, 'vill': 8223, '1030': 348, 'orc': 5695, 'bloomberg': 1684, '447797706009': 656, 'bloomberg.com': 1685, 'seeking': 6788, 'priscilla': 6168, 'wisdom': 8486, 'inform': 4215, 'wherre': 8434, 'phone750': 5917, 'resolution': 6517, 'reply.be': 6495, 'frank': 3423, 'logoff': 4787, 'parkin': 5812, 'kent': 4518, 'vale': 8164, 'asa': 1337, '09050000878': 213, 'wan2': 8311, 'meet+greet': 5052, 'westlife': 8410, 'unbreakable': 8035, 'untamed': 8089, 'unkempt': 8071, '1,2': 323, '83049': 858, 'prince': 6159, 'charming': 2067, 'mention': 5072, 'served': 6832, 'arnt': 1319, 'xxxxxxxxxxxxxx': 8677, 'dorothy': 2820, 'kiefer.com': 4538, 'granite': 3698, 'strong-buy': 7368, 'explosive': 3158, 'nasdaq': 5345, 'symbol': 7516, 'cdgt': 2027, '5.00': 702, 'alle': 1149, 'mone': 5206, 'eppolum': 3049, 'allalo': 1147, 'fundamental': 3503, 'whoever': 8443, '10.1mega': 341, 'pixel': 5952, '3optical': 614, '5digital': 725, 'doom': 2816, 'noi\\x92m': 5478, 'time-hope': 7769, 'alrite.have': 1163, 'am.x': 1174, 'burgundy': 1862, 'captaining': 1972, 'base': 1511, 'placement': 5958, 'amrita': 1194, 'bpo': 1768, 'didn': 2690, 'nighters': 5435, 'persevered': 5886, 'regretted': 6446, 'wasn\\x92t': 8330, 'spouse': 7242, 'pmt': 5997, 'sumthin': 7440, '4give': 678, 'shldxxxx': 6911, 'scenario': 6738, 'spun-out': 7249, 'wrld': 8578, 'nytho': 5563, 'tx': 7984, 'fonin': 3372, '2mwen': 543, 'frmcloud': 3466, '09071517866': 303, '150ppmpobox10183bhamb64xe': 413, '10am': 351, 'pounded': 6081, 'devouring': 2668, 'airtel': 1114, 'broadband': 1814, 'processed': 6193, 'installation': 4241, 'tensed': 7621, 'coughing': 2381, 'warned': 8322, 'sprint': 7247, 'prolly': 6204, 'gower': 3683, '\\x91morrow': 8783, '\\x96': 8787, 'chik': 2113, 'filth': 3280, '69669': 766, 'saristar': 6704, 'e14': 2916, '9yt': 947, '08701752560': 113, '450p': 662, 'stop2': 7336, '420': 647, '9061100010': 930, 'wire3.net': 8485, '1st4terms': 443, 'mobcudb': 5181, 'already..sabarish': 1159, 'jaya': 4370, '09050000460': 211, 'j89': 4343, 'box245c2150pm': 1749, 'inpersonation': 4232, 'flea': 3330, 'banneduk': 1495, 'it..let': 4314, 'highest': 3937, '£54': 8838, 'maximum': 5017, '£71': 8841, 'ny': 5557, 'taj': 7542, 'lesser': 4695, 'known': 4570, 'mumtaz': 5285, 'shahjahan': 6860, 'arises': 1312, 'hari': 3830, 'ok..come': 5619, '69101': 764, 'www.rtf.sphosting.com': 8626, 'webadres': 8363, 'geting': 3585, 'incredible': 4196, 'o2fwd': 5569, '18p/txt': 430, 'ship': 6898, 'maturity': 5012, 'confirmed': 2310, 'passport': 5829, 'multiply': 5279, 'independently': 4201, 'showed': 6939, 'twin': 7980, 'strt': 7370, 'ltdhelpdesk': 4864, '02085076972': 45, 'equally': 3051, 'uneventful': 8054, 'pesky': 5896, 'cyclist': 2502, 'were/are': 8404, 'adi': 1038, 'entey': 3036, 'nattil': 5353, 'kittum': 4556, 'kavalan': 4506, 'hire': 3947, 'hitman': 3953, '200': 468, '09066660100': 300, '2309': 487, 'cps': 2402, 'causing': 2019, 'outage': 5724, 'conserve': 2321, 'voted': 8259, 'epi': 3048, 'bare': 1501, 'bhaskar': 1625, 'dubsack': 2883, 'individual': 4206, 'gong': 3654, 'kaypoh': 4508, 'basketball': 1516, 'outdoors': 5726, 'macho': 4916, 'interfued': 4255, 'blank': 1662, 'listed': 4750, 'apology': 1263, 'hustle': 4089, 'forth': 3404, 'audition': 1396, 'harlem': 3832, 'workout': 8547, 'zac': 8770, 'hui': 4067, 'xin': 8661, 'lib': 4702, 'difference': 2703, 'versus': 8198, 'edge': 2944, 'underdtand': 8046, 'it+both': 4312, 'up+not': 8093, 'muchxxlove': 5273, 'locaxx': 4777, '07090298926': 56, 're-schedule': 6357, 'ref:9307622': 6427, 'skateboarding': 7012, 'despite': 2651, 'thrown': 7743, 'bandage': 1489, 'my-tone.com/enjoy': 5306, 'html': 4054, 'gbp4.50/week': 3556, 'mfl': 5099, '1146': 365, '2/3': 464, 'hectic': 3881, 'fell': 3247, 'swoop': 7511, 'wamma': 8309, 'doggin': 2789, 'langport': 4624, 'virtual': 8234, 'senthil': 6823, 'apnt': 1258, 'pant': 5789, 'wait.i': 8290, 'go2sri': 3632, 'lanka': 4626, 'merely': 5078, 'relationship': 6451, 'wherevr': 8433, 'forevr': 3388, 'gudnyt': 3752, 'plum': 5989, 'smack': 7057, 'alot': 1157, 'formatting': 3402, 'attracts': 1392, 'promotion': 6211, '8714714': 895, 'vega': 8185, 'lou': 4831, 'lancaster': 4617, 'couldn\\x92t': 2384, 'b\\x92day': 1896, 'soc': 7103, 'bsn': 1832, 'advising': 1058, 'lobby': 4774, 'texted': 7643, 'showered': 6941, \"er'ything\": 3053, 'vewy': 8201, 'lubly': 4866, 'rs.5': 6620, '087147123779am-7pm': 157, 'luck.2': 4868, 'specify': 7195, 'domain': 2802, 'nusstu': 5549, 'bari': 1503, 'hudgi': 4061, 'yorge': 8736, 'pataistha': 5832, 'ertini': 3061, 'hasbro': 3835, 'jump': 4445, 'hoop': 4007, 'morning.take': 5227, 'ummifying': 8028, 'networking': 5401, 'associate': 1358, 'rip': 6578, 'uterus': 8147, 'pool': 6043, 'jacuzzi': 4349, 'x49': 8654, '09065989182': 282, 'colour=red': 2241, 'txtstar': 7993, '2nights': 546, 'uve': 8152, 'wildest': 8465, 'spl..wat': 7220, 'whr': 8448, 'aldrine': 1130, 'rtm': 6623, 'here.pls': 3916, 'call.urgent': 1916, 'unhappiness': 8058, 'necesity': 5369, 'witout': 8502, 'colleg': 2237, 'wth': 8586, 'espe': 3070, 'irritated': 4292, '4wrd': 697, 'dear-loving': 2565, 'wthout': 8587, 'takecare': 7545, 'univ': 8068, 'raja': 6319, 'burrito': 1867, 'disconnect': 2741, \"'terrorist\": 24, 'confirmd': 2309, 'verified': 8194, 'cnn': 2207, 'ibn': 4109, 'stitch': 7325, 'trouser': 7936, '2/2': 463, '146tf150p': 391, 'cheetos': 2095, 'synced': 7519, 'shangela': 6868, 'hppnss': 4050, 'sorrow': 7153, 'goodfriend': 3659, 'pass': 5823, '08704439680': 119, 'again*loving': 1080, 'poo': 6040, 'gloucesterroad': 3620, 'uup': 8150, 'ouch': 5719, 'stayed': 7297, 'forgiveness': 3394, 'fruit': 3483, 'stone': 7332, 'glo': 3616, '09058095107': 235, 's3xy': 6658, 'yes.mum': 8719, 'wlcome': 8513, 'eaten': 2935, 'timi': 7773, 'mila': 5110, 'age23': 1088, 'blonde': 1679, 'mtalk': 5264, '69866.18': 770, '30pp/txt': 580, '5free': 726, 'increment': 4197, 'help08718728876': 3898, 'fishrman': 3313, 'sack': 6663, 'ful': 3495, 'strtd': 7371, 'throwin': 7741, 'atlast': 1376, '1stone': 445, '08717895698': 180, 'mobstorequiz10ppm': 5188, 'physic': 5925, 'ar.praveesh': 1294, 'delicious': 2612, 'salad': 6676, 'desert': 2643, 'whore': 8446, 'funk': 3505, 'tones2u': 7841, 'twinks': 7981, 'scallies': 6733, 'skin': 7017, 'jock': 4407, '08712466669': 152, 'nat': 5348, 'flood': 3340, 'bead': 1551, 'wishlist': 8492, 'section': 6779, 'nitro': 5450, \"'need\": 18, \"'comfort\": 3, \"'luxury\": 13, 'sold': 7113, 'onion-rs': 5651, 'petrol-rs': 5902, 'beer-rs': 1574, 'creative': 2423, 'fake..my': 3192, 'reffering': 6430, 'u..if': 8004, 'getiing': 3584, 'rs..i': 6619, 'weirdy': 8389, '09061701851': 249, 'k61': 4480, '12hours': 379, 'restrict': 6532, 'funeral': 3504, '7.30': 791, 'god.not': 3638, 'chikku..k': 2118, 'vivek': 8244, '74355': 803, 'tnc': 7799, 'brah': 1770, 'possession': 6063, 'greece': 3716, 'protect': 6224, 'e-threats': 2912, 'sib': 6959, 'sensitive': 6820, 'atm/sms': 1379, 'recorded': 6414, 'someday': 7120, 'grandfather': 3696, 'expired..so': 3152, 'blu': 1689, 'concert': 2298, 'november': 5522, '09061104276': 241, 'cost£3.75max': 2377, 'yuou': 8766, 'spot': 7240, 'ipad': 4281, 'bunch': 1857, 'lotto': 4829, 'authorise': 1405, '6.45pm': 742, 'gimmi': 3601, 'pain.it': 5774, 'today.do': 7811, 'ystrday.ice': 8760, 'chile': 2125, 'subletting': 7398, 'feb-april': 3235, 'ammae': 1184, 'steering': 7308, 'rounder': 6609, 'required': 6504, 'true..k': 7940, 'lambu': 4615, 'ji': 4397, 'come..til': 2248, 'batchlor': 1520, 'zoom': 8780, '62220cncl': 753, 'stopcs': 7340, '08717890890£1.50': 179, 'cheese': 2093, '\\x93harry': 8785, 'widelive.com/index': 8455, 'wml': 8515, 'id=1b6a5ecef91ff9*37819': 4121, 'first=true18:0430-jul-05': 3309, 'xafter': 8656, 'cst': 2453, 'chg': 2106, 'pure': 6258, 'hearted': 3875, 'his/her': 3949, 'smiley': 7072, 'gail': 3521, 'worry.c': 8552, 'yaxxx': 8694, 'theoretically': 7689, 'hooked': 4006, 'formally.pls': 3400, 'praying.will': 6113, 'multimedia': 5278, 'e-mail': 2909, 'senthil.hsbc': 6824, 'vague': 8162, 'accounting': 1004, 'delayed': 2608, 'housing': 4039, 'agency': 1089, 'renting': 6484, 'nicky': 5428, 'gumby': 3762, 'alto18.co.uk/wave/wave.asp': 1169, 'o=44345': 5570, 'sized': 7009, 'tarpon': 7566, 'cab': 1902, 'available.they': 1413, 'step': 7309, 'care.umma': 1982, 'limited': 4731, 'call2optout/hf8': 1922, '09061702893': 251, '08719181259': 201, '26.03.05': 499, 'dear.take': 2569, 'radiator': 6306, 'proper': 6218, 'tongued': 7845, 'qi': 6278, 'suddenly': 7418, 'flurry': 3349, 'melt': 5064, 'ground': 3729, 'eek': 2954, 'born': 1728, 'real1': 6373, 'pushbutton': 6264, 'dontcha': 2811, 'babygoodbye': 1461, 'golddigger': 3647, 'webeburnin': 8364, 'perform': 5875, 'rebooting': 6392, 'nigh': 5431, 'nooooooo': 5492, 'cable': 1904, 'playin': 5974, 'guoyang': 3763, 'rahul': 6311, 'dengra': 2623, 'antelope': 1233, 'toplay': 7864, 'fieldof': 3264, 'selfindependence': 6801, 'contention': 2333, 'grow.random': 3733, 'gnarl': 3625, 'barkley': 1504, 'borderline': 1724, '545': 724, 'nightnight': 5436, 'possibility': 6066, 'grooved': 3726, 'mising': 5141, 'secured': 6781, 'unsecured': 8081, '195': 432, '6669': 761, 'lanre': 4627, 'fakeye': 3193, 'eckankar': 2941, 'ph': 5904, '3000': 574, '09061743386': 252, 'heater': 3877, 'dodgey': 2779, 'call2optout/674': 1920, 'seing': 6796, 'asssssholeeee': 1359, 'ceri': 2041, 'rebel': 6390, 'dreamz': 2851, 'ringtoneking': 6573, '84484': 875, 'nationwide': 5352, 'newport': 5411, 'juliana': 4442, 'nacho': 5325, 'eta': 3076, 'dizzamn': 2763, 'suitemates': 7433, 'nimbomsons': 5441, 'continent': 2334, 'housewife': 4037, '0871750.77.11': 176, 'bt-national': 1836, '£400': 8828, '087104711148': 134, 'emerging': 2999, 'fiend/make': 3265, 'much/impede': 5271, 'hesitant': 3921, 'ow': 5749, 'dey.i': 2670, '60,400thousad.i': 746, 'nose': 5505, 'essay': 3073, 'tram': 7900, 'vic': 8206, 'coherently': 2222, 'triple': 7930, 'echo': 2940, 'gran': 3694, 'onlyfound': 5658, 'afew': 1062, 'ago.cusoon': 1095, 'honi': 4000, 'dial': 2677, 'bx526': 1891, 'university': 8069, 'southern': 7171, 'california': 1913, 'rayan': 6346, 'macleran': 4918, 'ball': 1482, 'olave': 5633, 'mandara': 4963, 'trishul': 7931, 'woo': 8532, 'hoo': 4002, 'panty': 5791, 'thout': 7732, '09066364311': 290, 'flatter': 3328, 'pint': 5946, 'carlin': 1991, 'literally': 4758, 'ciao': 2155, 'x49.your': 8655, 'starve': 7288, 'impression': 4174, 'motivate': 5235, 'darkness': 2534, 'time.you': 7771, 'wknd': 8511, 'yalrigu': 8685, 'heltini..iyo': 3904, 'kothi': 4583, 'me..so': 5031, 'uttered': 8149, 'trusting': 7945, 'me..ok': 5030, 'noice': 5475, 'esaplanade': 3065, 'accessible': 992, '08709501522': 130, '139': 386, 'la3': 4599, '2wu': 563, '£1.50/week': 8792, 'occurs': 5583, 'prof': 6196, 'sem': 6806, 'enna': 3028, 'kalaachutaarama': 4487, 'coco': 2218, 'sporadically': 7236, '09064017305': 270, 'pobox75ldns7': 6010, 'tbs/persolvo': 7581, 'for£38': 3410, 'kath': 4505, 'manchester': 4960, 'you\\x92re': 8755, 'burden': 1860, 'noworriesloans.com': 5529, '08717111821': 173, 'actual': 1025, 'harder': 3827, 'nbme': 5362, 'sickness': 6962, 'villa': 8224, 'sathya': 6712, 'gam': 3529, 'smash': 7064, 'religiously': 6458, 'tip': 7777, '07973788240': 78, '08715203649': 164, 'dealing': 2563, 'muhommad': 5276, 'fiting': 3315, 'mj': 5162, 'unconvinced': 8042, 'elaborate': 2975, 'willpower': 8469, 'absence': 975, 'answerin': 1230, 'reasonable': 6387, '»': 8848, 'evey': 3105, 'mnth': 5175, 'prin': 6158, '…thanks': 8856, 'gsoh': 3741, 'spam': 7179, 'gigolo': 3599, 'oncall': 5646, 'mjzgroup': 5163, '08714342399.2stop': 156, '£1.50rcvd': 8800, 'ashwini': 1343, '08707500020': 123, 'tomorrow/today': 7837, 'ukp': 8022, '09061790125': 259, 'thet': 7701, 'skinny': 7018, 'casting': 2010, 'election': 2981, 'shouldn': 6933, '116': 366, 'hlday': 3958, 'camp': 1949, 'amrca': 1193, 'serena': 6828, 'prescribed': 6134, 'kappa': 4499, 'meatball': 5045, 'approve': 1282, 'panalam': 5782, 'spjanuary': 7217, 'fortune': 3405, 'allday': 1148, 'piss': 5948, 'perf': 5873, 'outsider': 5734, 'receipts—well': 6397, '98321561': 938, 'familiar': 3201, 'depression': 2636, 'infact': 4210, 'simpson': 6983, 'band': 1488, 'a-green': 950, 'b-blue': 1447, 'c-red': 1899, 'can\\x92t': 1966, 'isn\\x92t': 4307, 'shite': 6904, 'kip': 4551, 'hont': 4001, 'amanda': 1175, 'renewing': 6481, 'upgrading': 8102, '3680': 598, 'subject': 7397, 'perspective': 5894, 'conveying': 2345, 'debating': 2575, 'www.wtlp.co.uk/text': 8647, 'guessing': 3756, 'jb': 4374, 'florida': 3343, 'hidden': 3933, 'royal': 6614, 'tog': 7815, 'swhrt': 7504, '2day.love': 520, 'miss.take': 5144, '0906346330': 264, '47': 666, 'po19': 5999, '2ez': 524, 'general': 3568, 'if/when/how': 4134, 'value-morning': 8170, 'today.good': 7812, 'jetton': 4394, 'friend-of-a-friend': 3460, 'cmon': 2204, 'sticky': 7319, 'lunsford': 4879, 'enjoying': 3026, '0796xxxxxx': 77, 'prizeawaiting': 6175, 'kfc': 4527, 'gravy': 3706, 'da..always': 2507, 'message.pandy': 5088, '07008009200': 53, 'attended': 1387, 'mw': 5303, 'tuth': 7971, 'eviction': 3106, 'spiral': 7214, 'michael': 5103, 'riddance': 6561, 'suffers': 7423, 'raglan': 6310, 'edward': 2952, 'cricket': 2431, 'closeby': 2189, 'da..please': 2509, 'skye': 7023, 'bookedthe': 1716, 'hut': 4090, 'drastic': 2844, 'indicate': 4205, '3750': 601, 'garment': 3540, 'sez': 6851, 'arab': 1295, 'evry1': 3115, 'eshxxxxxxxxxxx': 3069, 'bimbo': 1640, 'ugo': 8015, '2-4-1': 454, '3lions': 609, 'portege': 6056, 'm100': 4896, 'semiobscure': 6809, 'gprs': 3684, 'repeat': 6487, 'loosu': 4812, 'careless': 1988, 'freaking': 3430, 'myspace': 5313, 'logged': 4782, 'method': 5097, 'calculation': 1910, 'blur': 1694, 'clothes': 2194, 'jewelry': 4395, 'breaker': 1784, 'deluxe': 2618, 'feature': 3233, 'graphic': 3700, '£5': 8830, 'bbdeluxe': 1535, 'lush': 4880, 'fumbling': 3499, '2find': 525, 'taunton': 7574, 'weekday': 8379, 'haiz': 3789, 'nail': 5330, 'common': 2261, 'asia': 1344, 'greatest': 3713, 'courage': 2391, 'defeat': 2597, 'stil': 7321, 'fucked': 3488, 'tobed': 7805, '430': 652, 'pimple': 5942, 'natalja': 5350, '25/f': 495, 'yes-440': 8711, 'no-440': 5460, 'www.sms.ac/u/nat27081980': 8632, 'asthma': 1363, 'attack': 1383, 'moving': 5247, 'lot.will': 4824, 'spin': 7212, 'haiyoh': 3788, '02': 38, 'prsn': 6231, 'somtimes': 7136, 'sunlight': 7445, 'loss': 4819, 'audiitions': 1395, 'relocate': 6459, 'pocked': 6014, 'motivating': 5236, 'sharing': 6875, 'brison': 1808, 'spelled': 7202, 'cap': 1967, 'bullshit': 1855, 'g.w.r': 3517, 'motherfucker': 5234, 'kit': 4555, '1013': 347, 'ig11': 4137, 'oja': 5617, '08712402578': 144, 'thesmszone.com': 7700, 'anonymous': 1224, 'masked': 4992, 'messages..im': 5091, 'there..do': 7694, 'abuse': 981, 'woodland': 8534, 'avenue': 1420, 'parish': 5808, 'magazine': 4930, 'billy': 1638, 'jogging': 4410, 'awww': 1435, 'useless': 8137, 'loo': 4801, 'hello-ed': 3891, 'swollen': 7510, 'gland': 3613, 'previous': 6152, 'captain': 1971, 'bcaz': 1538, 'stu': 7374, '2.im': 460, 'truble': 7937, 'evone': 3111, 'mokka': 5198, 'view': 8217, 'dual': 2881, 'hostile': 4026, 'haircut': 3786, 'breezy': 1794, '09061744553': 256, 'polyh': 6034, '1apple/day=no': 434, '1tulsi': 447, 'leaf/day=no': 4669, '1lemon/day=no': 440, '1cup': 435, 'milk/day=no': 5114, 'bone': 1709, 'problms': 6185, 'litre': 4759, 'watr/day=no': 8344, 'disease': 2747, 'snd': 7091, 'lavender': 4653, 'manky': 4969, 'scouse': 6751, 'steve': 7314, 'travelling': 7916, 'home.wot': 3991, 'inmind': 4226, 'recreation': 6419, 'epsilon': 3050, 'mesages': 5081, 'judgemental': 4439, 'waheeda': 8286, 'half-8th': 3791, 'bot': 1733, 'eventually': 3091, 'tolerance': 7826, '0789xxxxxxx': 75, 'hellogorgeous': 3893, 'lst': 4860, 'nitw': 5452, 'texd': 7636, 'hopeu': 4015, '4ward': 696, 'c-in': 1898, 'jaz': 4372, '09058091870': 226, 'exorcism': 3139, 'emily': 3001, 'evry': 3114, 'emotion': 3002, 'words.evry': 8541, 'prayrs': 6114, 'u.othrwise': 8006, 'u.so': 8007, 'ujhhhhhhh': 8019, 'sandiago': 6692, 'parantella': 5802, 'hugging': 4064, 'sweater': 7497, 'mango': 4967, 'massive': 4994, 'involved': 4277, '£600': 8840, 'landmark': 4622, 'bob': 1700, 'barry': 1510, '83738': 869, 'fine..absolutly': 3291, 'consent': 2320, 'tonexs': 7843, 'renewed': 6480, 'www.clubzed.co.uk': 8604, 'billing': 1636, 'www.t-c.biz': 8635, 'polo': 6028, '373': 600, 'w1j': 8272, '6hl': 778, 'mathews': 5004, 'tait': 7541, 'anderson': 1205, 'haunt': 3842, 'promoting': 6210, 'hex': 3924, 'crowd': 2440, '8000930705': 832, 'snowboarding': 7098, 'go..a': 3629, 'christmassy': 2151, 'recpt': 6418, '1/3': 338, 'baaaaaaaabe': 1456, 'ignoring': 4140, 'shola': 6915, 'academic': 986, 'sagamu': 6672, 'lautech': 4652, 'vital': 8241, 'completes': 2279, 'education': 2949, 'zealand': 8772, 'qet': 6277, 'browser': 1826, 'surf': 7470, 'g.b': 3516, 'well.you': 8394, 'life.you': 4710, 'convinced': 2347, 'that.i': 7667, 'conversation': 2341, 'us.get': 8129, 'time.your': 7772, 'senses.respect': 6818, 'overemphasise.or': 5743, 'headset': 3863, 'adp': 1047, 'internal': 4256, 'extract': 3166, 'god.you': 3639, 'immed': 4161, 'skint': 7019, 'fancied': 3205, 'bevies.waz': 1619, 'othrs': 5716, 'watchng': 8339, 'planet': 5962, 'comfey': 2251, 'quitting': 6295, 'least5times': 4675, 'coast': 2210, \"i'ma\": 4099, 'frequently': 3450, 'message.it': 5087, 'cupboard': 2477, 'route': 6610, '2mro': 541, 'floppy': 3342, 'snappy': 7089, 'grasp': 3701, 'flavour': 3329, 'laready': 4633, 'denying': 2628, 'dom': 2801, 'ffffuuuuuuu': 3259, 'julianaland': 4443, 'oblivious': 5577, 'dehydrated': 2604, 'mapquest': 4973, 'dogwood': 2792, 'tiny': 7776, 'parking': 5813, 'suppose': 7463, 'archive': 1298, 'uk-mobile-date': 8021, '08719839835': 204, 'mg': 5100, '89123': 913, 'behalf': 1585, 'stunning': 7389, 'visa': 8235, 'gucci': 3747, 'babe.sozi': 1459, 'culdnt': 2471, 'talkbut': 7551, 'wannatell': 8313, 'wenwecan': 8401, 'smsing': 7083, 'efficient': 2958, 'explicit': 3156, '30': 572, '02073162414': 44, '20p/min': 478, '5.15pm': 703, 'erutupalam': 3064, 'thandiyachu': 7652, 'invention': 4267, 'fly..i': 3352, 'no..its': 5466, 'lyric': 4893, 'nevr': 5407, 'unrecognized': 8079, 'somone': 7135, 'valuing': 8172, 'definitly': 2601, 'undrstnd': 8051, 'ger': 3580, 'toking': 7821, 'syd': 7514, 'khelate': 4529, 'kintu': 4548, 'opponenter': 5676, 'dhorte': 2675, 'lage': 4610, 'fried': 3458, 'looovvve': 4809, 'warwick': 8326, 'tmw': 7798, 'canceled': 1958, 'sometime': 7127, 'parade': 5798, 'proze': 6230, 'norcorp': 5497, 'ltd.£1,50/mtmsgrcvd18': 4863, 'posting': 6074, '7cfca1a': 814, 'grumble': 3738, 'linear': 4736, 'algebra': 1137, 'decorating': 2587, 'wining': 8478, '946': 935, 'roomate': 6604, 'graduated': 3691, 'adjustable': 1039, 'cooperative': 2357, 'allows': 1153, 'nottingham': 5518, '63miles': 758, '40mph': 644, 'clearly': 2181, 'thanku': 7659, 'guessed': 3754, '89938': 917, 'string': 7363, '£1.50ea': 8794, 'otbox': 5712, '731': 802, 'la1': 4598, '7ws': 819, 'gain': 3523, 'beside': 1608, 'brisk': 1807, 'sexiest': 6846, 'dirtiest': 2731, '89070': 910, 'tellmiss': 7608, 'contribute': 2338, 'greatly': 3714, 'urgh': 8119, 'coach': 2209, 'duvet': 2902, 'predictive': 6121, 'w8in': 8276, '4utxt': 694, '24th': 493, 'beverage': 1618, 'v.pist': 8158, 'surrender': 7477, 'symptom': 7518, '1.u': 333, '2.u': 462, '3.u': 571, 'rdy': 6354, 'realise': 6374, 'backwards': 1468, 'abstract': 977, 'vikky..i': 8221, 'africa': 1070, 'avin': 1421, 'chit-chat': 2136, 'logon': 4788, '8883': 906, '4217': 649, 'w1a': 8271, '6zf': 787, '118p/msg': 368, 'quiteamuzing': 6294, 'that\\x92scool': 7672, 'probpop': 6187, 'cu': 2464, 'satthen': 6716, '4brekkie': 672, 'psxtra': 6235, 'lrg': 4856, 'portion': 6057, '£1000call': 8807, '09071512432': 301, '300603t': 576, 'csbcm4235wc1n3xx.callcost150ppmmobilesvary': 2450, 'mnths': 5176, 'engagement': 3018, 'fixd': 3318, 'njan': 5454, 'vilikkam': 8222, 'sudn': 7419, 'chapter': 2060, 'chop': 2143, 'noooooooo': 5493, '09065171142-stopsms-08718727870150ppm': 277, 'firsg': 3307, 'split': 7225, 'wasnt': 8329, 'heat': 3876, 'applyed': 1274, 'sumfing': 7437, '86888': 888, 'subscribe6gbp/mnth': 7403, '3hrs': 608, 'txtstop': 7994, 'hopeso': 4014, 'amnow': 1186, 'ithink': 4323, 'tonsolitusaswell': 7850, 'layin': 4657, 'bedreal': 1566, 'lotsof': 4827, 'hiphop': 3946, 'managed': 4958, 'oxygen': 5757, 'resort': 6519, 'roller': 6599, '4.30': 630, 'recorder': 6415, 'canname': 1962, 'capital': 1969, 'australia': 1404, 'mquiz': 5249, 'showr': 6943, 'acted': 1016, 'upon': 8106, 'ceiling': 2029, 'presnts': 6141, 'bcz': 1547, 'jeevithathile': 4380, 'irulinae': 4296, 'neekunna': 5383, 'prakasamanu': 6104, 'sneham': 7092, 'prakasam': 6103, 'ennal': 3029, 'prabha': 6093, \"'that\": 25, 'mn': 5174, \"is'love\": 4298, 'blowing': 1687, '7634': 806, '7684': 807, 'firmware': 3306, 'vijaykanth': 8219, 'comedy': 2249, 'tv..he': 7973, 'anythiing': 1244, 'ripped': 6579, 'www.clubmoby.com': 8603, '08717509990': 178, 'poly/true/pix/ringtones/games': 6031, 'keypad': 4525, 'btwn': 1840, 'decade': 2577, 'goverment': 3681, 'expects': 3145, 'loyal': 4854, '09066380611': 296, 'spice': 7207, 'prasanth': 6108, 'ettans': 3079, '08718738002': 197, '48922': 669, '21/11/04': 480, 'appy': 1287, 'fizz': 3321, 'contains': 2330, 'genus': 3576, 'robinson': 6589, 'not..tel': 5509, 'print': 6162, 'soz': 7173, 'imat': 4156, 'freinds': 3446, 'msg..sometext': 5257, '07099833605': 57, 'ref:9280114': 6426, 'chloe': 2138, '150p/text': 407, 'wewa': 8415, '130': 384, 'iriver': 4289, '255': 497, '128': 377, 'bw': 1887, 'da..jst': 2508, 'hmmm.but': 3964, 'surly': 7473, '07808726822': 71, '0871-872-9758': 133, 'dokey': 2798, 'mmmmmmm': 5172, 'snuggle': 7100, 'contented': 2332, 'whisper': 8439, 'healthy': 3868, '2bold': 516, 'giv..its': 3608, 'kano..anyway': 4497, 'scraped': 6752, 'barrel': 1508, 'misfit': 5140, 'sleepin': 7033, 'clearer': 2179, 'peach': 5856, 'tasts': 7568, 'rayman': 6347, 'golf': 3650, 'activ8': 1020, 'termsapply': 7626, 'minor': 5130, 'shindig': 6895, 'mins/texts': 5131, 'phonebook': 5918, 'rocking': 6592, 'ash': 1341, 'shijutta': 6893, 'offense': 5595, 'bbd..thts': 1534, 'dvg': 2904, 'cold..heard': 2228, 'vinobanagar': 8226, 'condition..and': 2301, 'ovulate.when': 5747, '3wks': 619, 'woah': 8519, 'realising': 6376, 'orh': 5704, 'n8': 5320, 'soon.xxx': 7145, 'cool-mob': 2355, 'frog-axel': 3476, 'akon-lonely': 1122, 'eyed-dont': 3170, 'cashbin.co.uk': 2005, 'www.cashbin.co.uk': 8602, 'canteen': 1965, 'stressfull': 7358, 'ni8..swt': 5420, 'continued': 2336, 'president': 6139, 'é': 8849, '140': 387, '180': 428, 'pleasured': 5983, 'support.providing': 7462, 'assistance': 1357, 'whens': 8429, '1172': 367, 'built': 1852, 'lonlines': 4800, 'lotz': 4830, 'gailxx': 3522, 'hi..i': 3931, 'complacent': 2271, 'denis': 2624, 'mina': 5120, 'miwa': 5160, 'hsbc': 4053, 'woulda': 8563, '09066649731from': 299, 'mth': 5265, 'opposite': 5681, 'heavily': 3879, 'patrick': 5837, 'swayze': 7495, 'santa': 6696, '09077818151': 304, 'calls1.50ppm': 1939, 'www.santacalling.com': 8627, 'miserable': 5139, 'quarter': 6282, 'nervous': 5392, 'fired': 3302, 'limping': 4733, 'aa': 953, '078498****7': 74, '08719180219': 199, '06.05.05': 50, 'oga': 5611, 'poorly': 6046, 'punishment': 6252, 'brb': 1779, 'predicte': 6118, 'loosing': 4811, 'smaller': 7059, 'capacity': 1968, 'sms.shsex.netun': 7082, 'fgkslpopw': 3261, 'fgkslpo': 3260, '0871277810710p/min': 153, 'defer': 2598, 'admission': 1043, 'checkmate': 2087, 'chess': 2101, 'persian': 5887, 'phrase': 5924, 'shah': 6859, 'maat': 4909, 'rat': 6339, 'theme': 7684, 'pee': 5859, 'photoshop': 5922, 'manageable': 4957, '08715203652': 165, '42810': 651, '29/10/0': 513, 'shoppin': 6919, 'too.pray': 7853, 'inshah': 4236, 's.this': 6657, 'increase': 4195, 'wife.dont': 8458, 'it.i': 4316, 'too.lets': 7852, 'north': 5503, 'carolina': 1994, 'texas': 7635, 'gre': 3709, 'bomb': 1708, 'breathing': 1792, 'powerful': 6086, 'weapon': 8355, \"'heart\": 6, 'night..swt': 5433, 'dreams..take': 2850, 'lovly': 4848, 'message**thanks': 5084, '150p/msgrcvd': 400, 'customercare': 2490, '08718726270': 186, 'play..i': 5970, 'clas': 2168, 'lit': 4757, 'loooooool': 4808, 'couch': 2378, 'swashbuckling': 7491, '5.terror': 708, '6.cruel': 743, '7.romantic': 796, '8.lovable': 828, '9.decent': 927, 'joker': 4419, 'dip': 2725, 'gek1510': 3565, 'nuther': 5550, 'lyricalladie': 4894, '21/f': 481, 'yes-910': 8713, 'no-910': 5462, 'www.sms.ac/u/hmmross': 8631, 'happiest': 3821, 'when/where': 8426, 'antibiotic': 1236, 'abdomen': 961, 'gynae': 3771, 'infection': 4211, '6times': 785, 'exposed': 3160, 'chastity': 2071, 'device': 2665, 'beating': 1553, 'us': 8128, 'gut': 3765, 'wrenching': 8569, 'tallahassee': 7556, 'ou': 5718, 'taka': 7543, 'pobox202': 6005, 'nr31': 5530, '7zs': 820, '450pw': 664, \"didn't\": 2691, 'ritten': 6583, 'fold': 3359, 'warner': 8323, '83118': 860, 'colin': 2229, 'farrell': 3211, 'swat': 7492, 'msg+ticket': 5256, 'kiosk.valid': 4550, '4-7/12': 626, 'kiosk': 4549, 'mre': 5251, 'solihull': 7114, 'nh': 5418, 'mistake.u': 5155, 'born.please': 1729, '2b': 515, 'terminated.we': 7625, 'inconvenience': 4192, 'henry': 3907, 'yard': 8691, 'bergkamp': 1607, 'margin': 4979, '78': 809, \"it'snot\": 4311, 'unintentional': 8063, 'nonetheless': 5489, 'hooch': 4003, 'toaday': 7803, 'splat': 7223, 'grazed': 3708, 'knee': 4560, 'confirm/deny': 2308, 'hearin': 3872, 'yah': 8683, 'torture': 7871, 'hopeing': 4013, 'wasn': 8328, 'sexychat': 6850, 'started.india': 7286, 'court': 2394, 'chapel': 2059, 'frontierville': 3481, 'mountain': 5240, 'deer': 2594, 'mail.i': 4939, 'mailed': 4941, 'varma': 8176, 'membership.take': 5067, 'care.insha': 1981, 'secure': 6780, 'farting': 3212, '7:30': 812, 'ortxt': 5708, 'select': 6797, 'trained': 7897, 'advisor': 1059, 'dialling': 2678, '402': 639, 'woot': 8536, 'stuffing': 7388, 'ahhhh': 1103, '9-6': 926, 'dining': 2720, 'experiencehttp': 3148, 'www.vouch4me.com/etlp/dining.asp': 8645, 'kaila': 4485, '09058094507': 229, 'donate': 2806, '£2.50': 8816, 'unicef': 8061, 'asian': 1345, 'fund': 3502, '864233': 886, 'cme': 2203, 'collapsed': 2231, 'cumming': 2475, 'jade': 4351, 'paul': 5840, 'barmed': 1505, 'thinkthis': 7713, 'dangerous': 2528, 'goldviking': 3649, '29/m': 514, 'yes-762': 8712, 'no-762': 5461, 'www.sms.ac/u/goldviking': 8630, 'rushing': 6643, 'coulda': 2383, 'phony': 5920, '12:30': 378, 'okday': 5624, 'buz': 1883, 'wedlunch': 8372, 'outsomewhere': 5735, 'adrink': 1050, 'town..cud': 7886, '2watershd': 559, 'fromwrk': 3479, 'bthere': 1838, 'petexxx': 5899, 'hmph': 3967, 'baller': 1483, 'punto': 6254, 'ayo': 1440, 'travelled': 7915, '£125': 8809, 'freeentry': 3439, 'xt': 8664, 'toyota': 7889, 'camry': 1951, 'olayiwola': 5634, 'mileage': 5112, 'k.its': 4471, 'landing': 4619, 'clover': 2196, 'number.pls': 5544, 'id.convey': 4120, 'achan': 1006, 'amma.rakhesh.qatar': 1183, \"'rencontre\": 20, '08714712412': 161, 'nìte': 5565, 'puppy': 6255, 'noise': 5476, 'sarasota': 6701, '150p/meg': 396, '08715203685': 168, 'code:4xx26': 2220, '13/10/04': 382, 'crossing': 2439, 'deepest': 2593, 'darkest': 2533, '09094646631': 308, 'inconvenient': 4193, 'vl..do': 8247, 'adsense': 1051, 'approved': 1283, 'dudette': 2887, 'perumbavoor': 5895, 'stage': 7267, 'cherish': 2099, 'clarify': 2166, 'preponed': 6132, 'natalie': 5349, '20/f': 467, 'yes-165': 8709, 'no-165': 5458, 'www.sms.ac/u/natalie2k9': 8633, 'younger': 8745, 'wallpaper': 8305, '08701213186': 107, 'liver': 4763, 'hmmm.still': 3965, 'opener': 5670, 'watched': 8336, 'loneliness': 4796, 'skyving': 7026, 'onwords': 5662, 'mtnl': 5267, 'mumbai': 5282, '83039': 857, '62735=£450': 756, 'accommodationvouchers': 997, 'mustprovide': 5299, '15541': 417, 'rajitha': 6322, 'ranju': 6337, '5p': 731, 'tscs08714740323': 7952, '1winawk': 449, '£1.50perweeksub': 8796, 'dear..slp': 2567, 'well..take': 8393, 'care..swt': 1980, 'dreams..muah': 2849, '09066361921': 286, 'disagreeable': 2734, 'afterwards': 1076, \"b'coz\": 1444, 'battle': 1528, 'vivekanand': 8245, 'uawake': 8010, 'feellikw': 3246, 'shit.justfound': 6903, 'aletter': 1133, 'thatmum': 7669, 'gotmarried': 3677, '4thnov.behind': 689, 'ourbacks': 5721, 'fuckinnice': 3491, 'deviousbitch.anyway': 2667, 'i\\x92l': 4338, 'rearrange': 6385, 'dormitory': 2819, 'astronomer': 1367, 'starer': 7279, 'recount': 6416, 'mother-in-law': 5233, 'hitler': 3952, 'eleven': 2984, 'worm': 8549, 'suffering': 7422, 'dysentry': 2907, 'andre': 1206, 'virgil': 8232, 'gokila': 3645, 'shanil': 6870, 'here.thanks': 3917, 'exchanged': 3125, 'uncut': 8044, 'stuff.leaving': 7385, 'dino': 2723, 'k.k.this': 4476, 'kotees': 4582, 'panther': 5790, 'sugababes': 7425, 'zebra': 8773, 'badass': 1470, 'hoody': 4004, 'wallpaper-all': 8306, 'resent': 6509, 'query': 6285, 'customersqueries': 2491, 'netvision.uk.com': 5399, 'hassling': 3837, 'andres': 1207, 'haughaighgtujhyguj': 3840, 'fassyole': 3213, 'blacko': 1658, 'londn': 4794, '4eva': 674, '08715205273': 170, 'vco': 8182, 'humanity': 4071, 'reassurance': 6388, 'aslamalaikkum': 1352, 'tohar': 7817, 'beeen': 1569, 'muht': 5277, 'albi': 1126, 'mufti': 5275, 'mahfuuz': 4937, '078': 67, 'enufcredeit': 3044, 'tocall.shall': 7806, 'ileave': 4147, 'okors': 5630, 'ibored': 4110, 'adding': 1034, 'zero': 8775, 'saving': 6724, 'goigng': 3641, 'perfume': 5878, 'sday': 6765, 'joined.so': 4416, 'grocer': 3725, 'frankie': 3424, 'benny': 1606, 'changing': 2056, 'diaper': 2681, 'owed': 5751, 'unlike': 8074, 'patient': 5836, 'turkey': 7967, 'unintentionally': 8064, 'garden': 3538, 'bulb': 1853, 'seed': 6785, '£33:50': 8825, 'scotsman': 6750, 'go2': 3631, 'notxt.co.uk': 5519, 'k..then': 4466, 'wenever': 8399, 'stability': 7262, 'tranquility': 7901, 'vibrant': 8203, 'colourful': 2242, 'bawling': 1529, 'failure': 3187, 'failing': 3185, 'velusamy': 8191, 'facility': 3178, 'karnan': 4501, 'bluray': 1695, 'salt': 6685, 'wound': 8564, 'logging': 4783, 'geoenvironmental': 3577, 'implication': 4166, 'fuuuuck': 3512, 'salmon': 6683, 'uploaded': 8105, 'wrkin': 8575, 'ree': 6424, 'compensation': 2269, 'awkward': 1433, 'splash': 7221, 'musta': 5297, 'overdid': 5741, 'www.telediscount.co.uk': 8636, 'hi.what': 3932, 'gastroenteritis': 3543, 'replace': 6490, 'reduce': 6423, 'limiting': 4732, 'illness': 4149, 'k.k.how': 4475, 'foned': 3370, 'chuck': 2152, 'port': 6054, 'juswoke': 4456, 'boatin': 1699, 'spinout': 7213, 're-met': 6356, '08715203656': 166, '42049': 648, '26/10/04': 500, 'uworld': 8155, 'qbank': 6276, 'assessment': 1355, 'someonone': 7122, '09064015307': 268, 'tke': 7789, 'temales': 7613, 'vid..not': 8210, 'finishd': 3296, '09061213237': 244, '177': 423, 'm227xy': 4898, 'dull': 2890, 'anyones': 1242, 'treadmill': 7918, 'craigslist': 2408, 'absolutely': 976, 'ni8.swt': 5421, 'drms.take': 2866, 'swan': 7488, 'mo..yep': 5178, 'sall': 6682, 'hehe': 3884, 'shexy': 6889, 'asap.ok': 1339, 'hello.how': 3892, 'lamp': 4616, 'k.wish': 4478, 'foward': 3415, '09061790126': 260, 'misundrstud': 5156, '2u2': 558, 'gene': 3567, 'www.ldew.com1win150ppmx3age16subscription': 8618, 'resuming': 6538, 'reapply': 6384, 'treatin': 7922, 'treacle': 7917, 'mumhas': 5283, 'beendropping': 1572, 'theplace': 7691, 'adress': 1048, 'money.i': 5208, 'favorite': 3227, 'oyster': 5759, 'sashimi': 6707, 'rumbling': 6635, 'marandratha': 4975, 'topic': 7862, 'correctly': 2368, 'alaikkum.pride': 1124, 'shop.we': 6918, 'qatar.rakhesh': 6275, 'indian.pls': 4204, 'number.respectful': 5545, 'gal-can': 3526, 'boy-y': 1763, 'gal-no': 3527, 'heaven': 3878, 'prince..gn': 6160, 'pisces': 5947, 'aquarius': 1292, '2yrs': 566, 'steyn': 7316, 'wicket': 8452, 'sterm': 7313, 'resolved': 6518, 'jam': 4353, 'hannaford': 3812, 'wheat': 8422, 'chex': 2103, 'pride': 6156, 'grownup': 3736, 'jerk': 4388, 'stink': 7324, 'textcomp': 7642, 'follows': 3366, 'subsequent': 7409, '150p/msg.2': 399, 'upcharge': 8096, '8-hr': 825, 'guai': 3744, 'bottle': 1737, 'amused': 1196, 'astrology': 1366, 'slacking': 7028, 'office..still': 5600, 'forms.don': 3403, 'mentor': 5075, 'percent': 5871, '09095350301': 310, 'erotic': 3058, 'ecstacy': 2942, 'dept': 2637, '13/4/04': 383, '08717507382': 177, 'coincidence': 2225, 'sane': 6693, 'helping': 3902, 'leading': 4667, '151': 415, 'pause': 5841, 'gr8prizes': 3688, '8800': 898, 'psp': 6234, 'wk.txt': 8506, 'http//www.gr8prizes.com': 4057, 'spacebucks': 7176, '0207-083-6089': 42, 'squeezed': 7254, 'me.remove': 5034, 'maintaining': 4944, '5.i\\x92m': 707, 'dreading': 2846, 'thou': 7727, 'suggestion': 7430, 'forgt': 3397, 'ajith': 1119, 'ooooooh': 5666, 'yoville': 8756, 'mega': 5056, 'asda': 1340, 'officer': 5603, 'respectful': 6521, 'bffs': 1623, 'carly': 1993, 'seperated': 6825, '鈥┾': 8858, '〨ud': 8857, 'brolly': 1817, 'franxx': 3425, 'prometazine': 6205, 'syrup': 7521, '5mls': 730, 'feed': 3240, 'shu': 6949, 'singapore': 6989, 'victoria': 8208, 'pocay': 6013, 'wocay': 8520, '2morrowxxxx': 540, 'broth': 1819, 'ramen': 6328, 'fowler': 3416, 'k..sry': 4465, 'siva..tats': 7006, 'flew': 3332, '09058094583': 231, '15:26': 418, 'pub/cafe': 6243, 'attention': 1389, 'tix': 7787, 'fne': 3357, 'youdoing': 8742, 'worc': 8539, 'foregate': 3385, 'shrub': 6948, 'get4an18th': 3583, '32000': 588, 'legitimat': 4685, 'efreefone': 2959, 'pendent': 5864, 'toilet': 7818, 'stolen': 7329, 'cop': 2358, 'hu': 4058, 'navigate': 5360, 'choosing': 2142, 'require': 6503, 'guidance': 3757, 'chick': 2109, 'boob': 1713, 'revealing': 6548, 'sparkling': 7183, '45': 661, '0121': 34, '2025050': 475, 'www.shortbreaks.org.uk': 8628, 'gyno': 3772, 'belong': 1596, 'www.gamb.tv': 8612, 'treasure': 7919, 'http//tms': 4056, 'id=820554ad0a1705572711': 4122, 'first=true¡c': 3310, 'ringtone¡': 6576, '09050000332': 210, 'positive': 6062, 'negative': 5385, 'hmmmm': 3966, 'dhoni': 2674, 'title.so': 7785, 'command': 2257, 'stressful': 7357, 'holby': 3976, '09064017295': 269, 'li': 4700, 'lecturer': 4680, 'repeating': 6488, 'yeovil': 8705, 'motor': 5238, 'max': 5013, 'rhode': 6557, 'bong': 1710, 'ofcourse': 5590, '2p': 551, '08448350055': 97, 'planettalkinstant.com': 5964, 'lot..i': 4822, 'marvel': 4990, 'ultimate': 8023, 'spider-man': 7209, 'spider': 7208, '83338': 863, '8ball': 919, 'tamilnadu..then': 7558, '07808247860': 70, '08719899229': 206, '40411': 641, '06/11/04': 51, 'identification': 4126, 'boundary': 1741, 'endless': 3011, 'reassuring': 6389, 'young': 8744, 'referin': 6429, 'saibaba': 6673, 'colany': 2226, 'chic': 2108, 'declare': 2586, '49557': 670, '26/11/04': 501, 'disappointment': 2736, 'irritation': 4295, 'tantrum': 7561, 'compliment': 2282, 'adventuring': 1055, 'chief': 2112, 'gsex': 3740, '2667': 502, 'wc1n': 8350, '3xx': 620, '3mobile': 613, 'chatlines': 2074, 'inclu': 4185, 'servs': 6836, 'l8er': 4594, 'bailiff': 1477, 'mouse': 5241, 'desk': 2647, 'childporn': 2123, 'jumper': 4446, 'hat': 3838, 'belt': 1600, 'cribbs': 2430, 'spiritual': 7216, 'barring': 1509, 'sudden': 7417, 'influx': 4213, 'kane': 4494, 'shud': 6950, 'pshew': 6233, 'unit': 8066, 'accent': 988, '4years': 698, 'dental': 2626, 'nmde': 5455, 'dump': 2892, 'heap': 3869, 'lowes': 4852, 'salesman': 6681, '2.50': 459, '£750': 8843, '087187272008': 191, 'now1': 5526, 'pity': 5950, 'bitching': 1652}\n"
     ]
    }
   ],
   "source": [
    "print(bow_transformer.vocabulary_)"
   ]
  },
  {
   "cell_type": "code",
   "execution_count": 71,
   "metadata": {},
   "outputs": [],
   "source": [
    "# create a dummy message for checking the prediction\n",
    "data1 = \"Free entry in 2 a wkly comp to win FA Cup final tkts 21st May 2005. Text FA to 87121 to receive entry question(std txt rate)T&C's apply 08452810075over18's\""
   ]
  },
  {
   "cell_type": "code",
   "execution_count": 75,
   "metadata": {},
   "outputs": [
    {
     "name": "stdout",
     "output_type": "stream",
     "text": [
      "  (0, 21)\t2\n",
      "  (0, 103)\t1\n",
      "  (0, 452)\t1\n",
      "  (0, 472)\t1\n",
      "  (0, 484)\t1\n",
      "  (0, 893)\t1\n",
      "  (0, 948)\t1\n",
      "  (0, 1272)\t1\n",
      "  (0, 1897)\t1\n",
      "  (0, 2263)\t1\n",
      "  (0, 2476)\t1\n",
      "  (0, 3042)\t2\n",
      "  (0, 3173)\t2\n",
      "  (0, 3283)\t1\n",
      "  (0, 3433)\t1\n",
      "  (0, 4179)\t1\n",
      "  (0, 5019)\t1\n",
      "  (0, 6287)\t1\n",
      "  (0, 6340)\t1\n",
      "  (0, 6398)\t1\n",
      "  (0, 7300)\t1\n",
      "  (0, 7523)\t1\n",
      "  (0, 7637)\t1\n",
      "  (0, 7790)\t1\n",
      "  (0, 7801)\t3\n",
      "  (0, 7985)\t1\n",
      "  (0, 8470)\t1\n",
      "  (0, 8510)\t1\n"
     ]
    }
   ],
   "source": [
    "#change the dummy message into vectors\n",
    "bow4 = bow_transformer.transform([data1])\n",
    "print(bow4)\n",
    "#Col1: Row Col2: Word-Col-index in vocablury Col3: Count of that word in the dummy message"
   ]
  },
  {
   "cell_type": "code",
   "execution_count": 83,
   "metadata": {},
   "outputs": [
    {
     "name": "stdout",
     "output_type": "stream",
     "text": [
      "  (0, 1189)\t1\n",
      "  (0, 1411)\t1\n",
      "  (0, 1847)\t1\n",
      "  (0, 1849)\t1\n",
      "  (0, 2156)\t1\n",
      "  (0, 2418)\t1\n",
      "  (0, 2908)\t1\n",
      "  (0, 3628)\t1\n",
      "  (0, 3673)\t1\n",
      "  (0, 3710)\t1\n",
      "  (0, 4179)\t1\n",
      "  (0, 4450)\t1\n",
      "  (0, 4597)\t1\n",
      "  (0, 5315)\t1\n",
      "  (0, 5654)\t1\n",
      "  (0, 6021)\t1\n",
      "  (0, 7693)\t1\n",
      "  (0, 8090)\t1\n",
      "  (0, 8334)\t1\n",
      "  (0, 8548)\t1\n",
      "  (1, 4421)\t1\n",
      "  (1, 4631)\t1\n",
      "  (1, 5618)\t1\n",
      "  (1, 5650)\t1\n",
      "  (1, 8002)\t1\n",
      "  :\t:\n",
      "  (5570, 1882)\t1\n",
      "  (5570, 2686)\t1\n",
      "  (5570, 2987)\t1\n",
      "  (5570, 3382)\t1\n",
      "  (5570, 3433)\t1\n",
      "  (5570, 3547)\t1\n",
      "  (5570, 3766)\t1\n",
      "  (5570, 3858)\t1\n",
      "  (5570, 4098)\t2\n",
      "  (5570, 4179)\t1\n",
      "  (5570, 4252)\t1\n",
      "  (5570, 4310)\t1\n",
      "  (5570, 4722)\t1\n",
      "  (5570, 5417)\t1\n",
      "  (5570, 7117)\t1\n",
      "  (5570, 7126)\t1\n",
      "  (5570, 7673)\t1\n",
      "  (5570, 7801)\t1\n",
      "  (5570, 8002)\t1\n",
      "  (5570, 8377)\t1\n",
      "  (5571, 4310)\t2\n",
      "  (5571, 5334)\t1\n",
      "  (5571, 6595)\t1\n",
      "  (5571, 7801)\t1\n",
      "  (5571, 7939)\t1\n"
     ]
    }
   ],
   "source": [
    "#transforming all the messages into vectors\n",
    "data_bow = bow_transformer.transform(data['message'])\n",
    "print(data_bow)"
   ]
  },
  {
   "cell_type": "code",
   "execution_count": 84,
   "metadata": {},
   "outputs": [
    {
     "name": "stdout",
     "output_type": "stream",
     "text": [
      "  (0, 1189)\t1\n",
      "  (0, 1411)\t1\n",
      "  (0, 1847)\t1\n",
      "  (0, 1849)\t1\n",
      "  (0, 2156)\t1\n",
      "  (0, 2418)\t1\n",
      "  (0, 2908)\t1\n",
      "  (0, 3628)\t1\n",
      "  (0, 3673)\t1\n",
      "  (0, 3710)\t1\n",
      "  (0, 4179)\t1\n",
      "  (0, 4450)\t1\n",
      "  (0, 4597)\t1\n",
      "  (0, 5315)\t1\n",
      "  (0, 5654)\t1\n",
      "  (0, 6021)\t1\n",
      "  (0, 7693)\t1\n",
      "  (0, 8090)\t1\n",
      "  (0, 8334)\t1\n",
      "  (0, 8548)\t1\n"
     ]
    }
   ],
   "source": [
    "print(data_bow[0]) #vector values "
   ]
  },
  {
   "cell_type": "code",
   "execution_count": 89,
   "metadata": {},
   "outputs": [
    {
     "name": "stdout",
     "output_type": "stream",
     "text": [
      "  (0, 8548)\t0.21319191519519087\n",
      "  (0, 8334)\t0.1787434254996649\n",
      "  (0, 8090)\t0.22406429043314388\n",
      "  (0, 7693)\t0.15215940657554947\n",
      "  (0, 6021)\t0.21715183499644708\n",
      "  (0, 5654)\t0.15318647535765337\n",
      "  (0, 5315)\t0.17079893890270292\n",
      "  (0, 4597)\t0.2686658868215042\n",
      "  (0, 4450)\t0.31802154557344775\n",
      "  (0, 4179)\t0.10475446843704307\n",
      "  (0, 3710)\t0.1766689019165984\n",
      "  (0, 3673)\t0.14742644203898994\n",
      "  (0, 3628)\t0.14095995379541812\n",
      "  (0, 2908)\t0.1885140858192191\n",
      "  (0, 2418)\t0.24628579544040377\n",
      "  (0, 2156)\t0.2686658868215042\n",
      "  (0, 1849)\t0.2686658868215042\n",
      "  (0, 1847)\t0.3035859407893093\n",
      "  (0, 1411)\t0.24182966437241885\n",
      "  (0, 1189)\t0.31802154557344775\n",
      "  (1, 8456)\t0.4233689861580337\n",
      "  (1, 8002)\t0.19064241079409208\n",
      "  (1, 5650)\t0.5361629383828198\n",
      "  (1, 5618)\t0.2696099118247978\n",
      "  (1, 4631)\t0.4005112552353877\n",
      "  :\t:\n",
      "  (5570, 5417)\t0.20694564879601926\n",
      "  (5570, 4722)\t0.15681683321451362\n",
      "  (5570, 4310)\t0.1125873302642354\n",
      "  (5570, 4252)\t0.28317596401115275\n",
      "  (5570, 4179)\t0.11041203606114545\n",
      "  (5570, 4098)\t0.15065981393088335\n",
      "  (5570, 3858)\t0.16983330494003918\n",
      "  (5570, 3766)\t0.2057350469616503\n",
      "  (5570, 3547)\t0.2712258596262801\n",
      "  (5570, 3433)\t0.1576344124460878\n",
      "  (5570, 3382)\t0.11968871243909421\n",
      "  (5570, 2987)\t0.24041823410176383\n",
      "  (5570, 2686)\t0.171709966092978\n",
      "  (5570, 1882)\t0.2787561082100692\n",
      "  (5570, 1875)\t0.135084799415577\n",
      "  (5570, 1652)\t0.3351972176650365\n",
      "  (5570, 1549)\t0.14106627037809447\n",
      "  (5570, 1203)\t0.11074224286354518\n",
      "  (5570, 1016)\t0.3199819763510238\n",
      "  (5570, 4)\t0.23616552958967577\n",
      "  (5571, 7939)\t0.47151436291239857\n",
      "  (5571, 7801)\t0.16253638105078344\n",
      "  (5571, 6595)\t0.610119596468683\n",
      "  (5571, 5334)\t0.4261145393052423\n",
      "  (5571, 4310)\t0.4443383933443092\n"
     ]
    }
   ],
   "source": [
    "#Now applying tfidf to messages - vectors data\n",
    "tfidf_transformer = TfidfTransformer().fit(data_bow)\n",
    "\n",
    "#transforming all messages to tfidf\n",
    "data_tfidf = tfidf_transformer.transform(data_bow)\n",
    "print(data_tfidf)\n",
    "\n",
    "#Here we are getting Tfidf value for each column/feature/lemma-word"
   ]
  },
  {
   "cell_type": "code",
   "execution_count": 90,
   "metadata": {},
   "outputs": [
    {
     "name": "stdout",
     "output_type": "stream",
     "text": [
      "  (0, 8548)\t0.21319191519519087\n",
      "  (0, 8334)\t0.1787434254996649\n",
      "  (0, 8090)\t0.22406429043314388\n",
      "  (0, 7693)\t0.15215940657554947\n",
      "  (0, 6021)\t0.21715183499644708\n",
      "  (0, 5654)\t0.15318647535765337\n",
      "  (0, 5315)\t0.17079893890270292\n",
      "  (0, 4597)\t0.2686658868215042\n",
      "  (0, 4450)\t0.31802154557344775\n",
      "  (0, 4179)\t0.10475446843704307\n",
      "  (0, 3710)\t0.1766689019165984\n",
      "  (0, 3673)\t0.14742644203898994\n",
      "  (0, 3628)\t0.14095995379541812\n",
      "  (0, 2908)\t0.1885140858192191\n",
      "  (0, 2418)\t0.24628579544040377\n",
      "  (0, 2156)\t0.2686658868215042\n",
      "  (0, 1849)\t0.2686658868215042\n",
      "  (0, 1847)\t0.3035859407893093\n",
      "  (0, 1411)\t0.24182966437241885\n",
      "  (0, 1189)\t0.31802154557344775\n"
     ]
    }
   ],
   "source": [
    "print(data_tfidf[0])"
   ]
  },
  {
   "cell_type": "code",
   "execution_count": 92,
   "metadata": {},
   "outputs": [
    {
     "name": "stdout",
     "output_type": "stream",
     "text": [
      "(5572, 8859)\n"
     ]
    }
   ],
   "source": [
    "print(data_tfidf.shape)"
   ]
  },
  {
   "cell_type": "code",
   "execution_count": 98,
   "metadata": {},
   "outputs": [
    {
     "name": "stdout",
     "output_type": "stream",
     "text": [
      "  (0, 8510)\t0.17971875390044798\n",
      "  (0, 8470)\t0.1382546322887404\n",
      "  (0, 7985)\t0.11822139451363602\n",
      "  (0, 7801)\t0.1710754494891446\n",
      "  (0, 7790)\t0.20826046348403296\n",
      "  (0, 7637)\t0.11294903529123612\n",
      "  (0, 7523)\t0.13017347967701054\n",
      "  (0, 7300)\t0.1855159750882623\n",
      "  (0, 6398)\t0.15770613879372739\n",
      "  (0, 6340)\t0.15770613879372739\n",
      "  (0, 6287)\t0.1584592287304719\n",
      "  (0, 5019)\t0.14843980091398046\n",
      "  (0, 4179)\t0.07644104078087112\n",
      "  (0, 3433)\t0.10913428445053755\n",
      "  (0, 3283)\t0.17357742458716732\n",
      "  (0, 3173)\t0.44306320535284216\n",
      "  (0, 3042)\t0.33953739608831124\n",
      "  (0, 2476)\t0.1902526496899536\n",
      "  (0, 2263)\t0.1855159750882623\n",
      "  (0, 1897)\t0.1197254675480583\n",
      "  (0, 1272)\t0.16003424328960916\n",
      "  (0, 948)\t0.06442218176557092\n",
      "  (0, 893)\t0.20826046348403296\n",
      "  (0, 484)\t0.21405768467184733\n",
      "  (0, 472)\t0.21405768467184733\n",
      "  (0, 452)\t0.09448139031327672\n",
      "  (0, 103)\t0.22153160267642108\n",
      "  (0, 21)\t0.1837624874244498\n"
     ]
    }
   ],
   "source": [
    "#transforming dummy message to tfidf \n",
    "dummy_tfidf4 = tfidf_transformer.transform(bow4)\n",
    "print(dummy_tfidf4)"
   ]
  },
  {
   "cell_type": "code",
   "execution_count": 96,
   "metadata": {},
   "outputs": [],
   "source": [
    "#Using naive bayes to classify the messages\n",
    "spam_detector = MultinomialNB().fit(data_tfidf,data['label'])"
   ]
  },
  {
   "cell_type": "code",
   "execution_count": 104,
   "metadata": {},
   "outputs": [
    {
     "name": "stdout",
     "output_type": "stream",
     "text": [
      "Predicted: spam\n",
      "Wall time: 0 ns\n"
     ]
    }
   ],
   "source": [
    "#Use %time before the statement for checking time taken\n",
    "%time print('Predicted:',spam_detector.predict(dummy_tfidf4)[0])"
   ]
  },
  {
   "cell_type": "code",
   "execution_count": 114,
   "metadata": {},
   "outputs": [
    {
     "name": "stdout",
     "output_type": "stream",
     "text": [
      "['ham' 'ham' 'spam' ... 'ham' 'ham' 'ham']\n",
      "['ham' 'ham' 'spam' 'ham' 'ham']\n"
     ]
    }
   ],
   "source": [
    "# for checking accuracy\n",
    "\n",
    "all_predictions = spam_detector.predict(data_tfidf)\n",
    "print(all_predictions)\n",
    "print(all_predictions[0:5])"
   ]
  },
  {
   "cell_type": "code",
   "execution_count": 115,
   "metadata": {},
   "outputs": [
    {
     "name": "stdout",
     "output_type": "stream",
     "text": [
      "accuracy: 0.9694903086862886\n",
      "confusion matrix\n",
      " [[4825    0]\n",
      " [ 170  577]]\n"
     ]
    }
   ],
   "source": [
    "# accuracy\n",
    "print('accuracy:', accuracy_score(data['label'], all_predictions))\n",
    "print('confusion matrix\\n', confusion_matrix(data['label'], all_predictions))"
   ]
  },
  {
   "cell_type": "code",
   "execution_count": 110,
   "metadata": {},
   "outputs": [
    {
     "name": "stdout",
     "output_type": "stream",
     "text": [
      "             precision    recall  f1-score   support\n",
      "\n",
      "        ham       0.97      1.00      0.98      4825\n",
      "       spam       1.00      0.77      0.87       747\n",
      "\n",
      "avg / total       0.97      0.97      0.97      5572\n",
      "\n"
     ]
    }
   ],
   "source": [
    "print(classification_report(data['label'], all_predictions))"
   ]
  },
  {
   "cell_type": "code",
   "execution_count": 116,
   "metadata": {},
   "outputs": [
    {
     "data": {
      "text/plain": [
       "0        ham\n",
       "1        ham\n",
       "2       spam\n",
       "3        ham\n",
       "4        ham\n",
       "5       spam\n",
       "6        ham\n",
       "7        ham\n",
       "8       spam\n",
       "9       spam\n",
       "10       ham\n",
       "11      spam\n",
       "12      spam\n",
       "13       ham\n",
       "14       ham\n",
       "15      spam\n",
       "16       ham\n",
       "17       ham\n",
       "18       ham\n",
       "19      spam\n",
       "20       ham\n",
       "21       ham\n",
       "22       ham\n",
       "23       ham\n",
       "24       ham\n",
       "25       ham\n",
       "26       ham\n",
       "27       ham\n",
       "28       ham\n",
       "29       ham\n",
       "        ... \n",
       "5542     ham\n",
       "5543     ham\n",
       "5544     ham\n",
       "5545     ham\n",
       "5546     ham\n",
       "5547    spam\n",
       "5548     ham\n",
       "5549     ham\n",
       "5550     ham\n",
       "5551     ham\n",
       "5552     ham\n",
       "5553     ham\n",
       "5554     ham\n",
       "5555     ham\n",
       "5556     ham\n",
       "5557     ham\n",
       "5558     ham\n",
       "5559     ham\n",
       "5560     ham\n",
       "5561     ham\n",
       "5562     ham\n",
       "5563     ham\n",
       "5564     ham\n",
       "5565     ham\n",
       "5566    spam\n",
       "5567    spam\n",
       "5568     ham\n",
       "5569     ham\n",
       "5570     ham\n",
       "5571     ham\n",
       "Name: label, Length: 5572, dtype: object"
      ]
     },
     "execution_count": 116,
     "metadata": {},
     "output_type": "execute_result"
    }
   ],
   "source": [
    "data['label']"
   ]
  },
  {
   "cell_type": "code",
   "execution_count": null,
   "metadata": {},
   "outputs": [],
   "source": []
  }
 ],
 "metadata": {
  "kernelspec": {
   "display_name": "Python 3",
   "language": "python",
   "name": "python3"
  },
  "language_info": {
   "codemirror_mode": {
    "name": "ipython",
    "version": 3
   },
   "file_extension": ".py",
   "mimetype": "text/x-python",
   "name": "python",
   "nbconvert_exporter": "python",
   "pygments_lexer": "ipython3",
   "version": "3.6.5"
  }
 },
 "nbformat": 4,
 "nbformat_minor": 2
}
